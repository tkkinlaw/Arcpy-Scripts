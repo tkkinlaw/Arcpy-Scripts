{
 "cells": [
  {
   "cell_type": "markdown",
   "metadata": {},
   "source": [
    "## Further improvements"
   ]
  },
  {
   "cell_type": "code",
   "execution_count": 1,
   "metadata": {},
   "outputs": [],
   "source": [
    "import arcpy"
   ]
  },
  {
   "cell_type": "code",
   "execution_count": 2,
   "metadata": {},
   "outputs": [],
   "source": [
    "targetFC = r\"C:\\Demos\\PYTS\\SanDiego.gdb\\CrimeTest\"\n",
    "inputTable = r\"C:\\Demos\\PYTS\\SanDiego.gdb\\Crime_XY\""
   ]
  },
  {
   "cell_type": "code",
   "execution_count": 3,
   "metadata": {},
   "outputs": [],
   "source": [
    "# Get a list of input fields\n",
    "fieldMapDict = {}\n",
    "fieldNamesTarget = []\n",
    "for field in arcpy.Describe(targetFC).fields:\n",
    "    if field.type != \"OID\" and field.type != \"Geometry\": # Don't include the OID or Shape fields\n",
    "        fieldNamesTarget.append(field)\n",
    "\n",
    "fieldMapDict[targetFC]=fieldNamesTarget\n",
    "\n",
    "fieldNamesInput = []\n",
    "for field in arcpy.Describe(inputTable).fields:\n",
    "    if \"OID\" not in field.name and field.type != \"OID\": # Don't include the OBJECTID or OID_ fields\n",
    "        fieldNamesInput.append(field)\n",
    "\n",
    "fieldMapDict[inputTable]=fieldNamesInput\n"
   ]
  },
  {
   "cell_type": "code",
   "execution_count": 4,
   "metadata": {},
   "outputs": [
    {
     "name": "stdout",
     "output_type": "stream",
     "text": [
      "start_date EventTimeDate\n",
      "X_WGS1984 XCoordinate\n",
      "Y_WGS1984 YCoordinate\n",
      "There are 3 FieldMaps created:\n",
      "EventTimeDate start_date;XCoordinate X_WGS1984;YCoordinate Y_WGS1984\n"
     ]
    }
   ],
   "source": [
    "matchFields = \"\"\n",
    "fieldMaps = []\n",
    "\n",
    "for i in range(len(fieldNamesTarget)): # length of the list of field names for target fc (or input)\n",
    "    # Get the paired fields\n",
    "    targetField = fieldMapDict[targetFC][i] # Get a field from the target FC\n",
    "    inField = fieldMapDict[inputTable][i] # Get a field from the input table\n",
    "    print(inField.name, targetField.name) # Print the fields being added to a field map\n",
    "    # Create the empty FieldMap object\n",
    "    fm = arcpy.FieldMap() # create empty field map\n",
    "    # Add the input and target dataset's paired fields\n",
    "    fm.addInputField(targetFC, targetField.name) # Add the target field to field map\n",
    "    fm.addInputField(inputTable, inField.name) # Add the input table field to field map\n",
    "    # Add the FieldMap to the list of field maps\n",
    "    fieldMaps.append(fm) # append field map to the list\n",
    "    # Format a string to satisfy the append tool's match_field parameter\n",
    "    match = f\"{fm.getInputFieldName(0)} {fm.getInputFieldName(1)};\" \n",
    "    matchFields += match\n",
    "\n",
    "matchFields = matchFields[:-1] # Remove the last character \";\"....it's not needed\n",
    "# Create the FieldMappings object\n",
    "fms = arcpy.FieldMappings()\n",
    "# Add each FieldMap to the FieldMappings object\n",
    "for fieldMap in fieldMaps:\n",
    "    fms.addFieldMap(fieldMap)\n",
    "\n",
    "print(f\"There are {len(fieldMaps)} FieldMaps created:\")\n",
    "print(matchFields)"
   ]
  },
  {
   "cell_type": "code",
   "execution_count": 5,
   "metadata": {},
   "outputs": [
    {
     "data": {
      "text/html": [
       "<div class='gpresult'><h2>Messages</h2><div id='messages' data-messages='[\"Start Time: Thursday, February 1, 2024 11:15:29 AM\",\"\",\"Succeeded at Thursday, February 1, 2024 11:15:29 AM (Elapsed Time: 0.40 seconds)\"]' data-show='true'><div id = 'default' /></div></div>"
      ],
      "text/plain": [
       "<Result 'C:\\\\Demos\\\\PYTS\\\\SanDiego.gdb\\\\CrimeTest'>"
      ]
     },
     "execution_count": 5,
     "metadata": {},
     "output_type": "execute_result"
    }
   ],
   "source": [
    "arcpy.management.Append(\n",
    "    inputs=inputTable,\n",
    "    target=targetFC,\n",
    "    schema_type=\"NO_TEST\",\n",
    "    field_mapping=fms,\n",
    "    subtype=\"\",\n",
    "    expression=\"\",\n",
    "    match_fields=matchFields,\n",
    "    update_geometry=\"NOT_UPDATE_GEOMETRY\"\n",
    ")"
   ]
  }
 ],
 "metadata": {
  "kernelspec": {
   "display_name": "Python 3",
   "language": "python",
   "name": "python3"
  },
  "language_info": {
   "codemirror_mode": {
    "name": "ipython",
    "version": 3
   },
   "file_extension": ".py",
   "mimetype": "text/x-python",
   "name": "python",
   "nbconvert_exporter": "python",
   "pygments_lexer": "ipython3",
   "version": "3.9.18"
  }
 },
 "nbformat": 4,
 "nbformat_minor": 2
}
