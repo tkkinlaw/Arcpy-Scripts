{
 "cells": [
  {
   "cell_type": "markdown",
   "metadata": {},
   "source": [
    "# The very most basics"
   ]
  },
  {
   "cell_type": "markdown",
   "metadata": {},
   "source": [
    "This example uses one field each from a table and a feature class. The code shows how to create a FieldMap and FieldMappings objects, and use them in the Append geoprocessing tool."
   ]
  },
  {
   "cell_type": "code",
   "execution_count": 1,
   "metadata": {},
   "outputs": [],
   "source": [
    "import arcpy"
   ]
  },
  {
   "cell_type": "code",
   "execution_count": 2,
   "metadata": {},
   "outputs": [],
   "source": [
    "targetFC = r\"C:\\Demos\\PYTS\\SanDiego.gdb\\CrimeTest\"\n",
    "inputTable = r\"C:\\Demos\\PYTS\\SanDiego.gdb\\Crime_XY\""
   ]
  },
  {
   "cell_type": "code",
   "execution_count": 3,
   "metadata": {},
   "outputs": [],
   "source": [
    "field1 = \"XCoordinate\" # Field from the Target Feature Class\n",
    "field2 = \"X_WGS1984\" # Field from the input table"
   ]
  },
  {
   "cell_type": "markdown",
   "metadata": {},
   "source": [
    "The FieldMap object represents how a field is going to interact with another field. In this append tool, this is used to say \"this field's data goes into this field\"."
   ]
  },
  {
   "cell_type": "code",
   "execution_count": 4,
   "metadata": {},
   "outputs": [],
   "source": [
    "fm = arcpy.FieldMap() # Empty field map\n",
    "fms = arcpy.FieldMappings() # Empty container to hold field maps\n",
    "\n",
    "fm.addInputField(targetFC, field1) # Add the target fc to the field map object\n",
    "fm.addInputField(inputTable, field2) # add the input table to the field map object to link them.\n",
    "\n",
    "fms.addFieldMap(fm) # add this single field map to the FieldMappings object."
   ]
  },
  {
   "cell_type": "markdown",
   "metadata": {},
   "source": [
    "This code will add just one field's data from the input table to the target feature class"
   ]
  },
  {
   "cell_type": "code",
   "execution_count": 5,
   "metadata": {},
   "outputs": [
    {
     "data": {
      "text/html": [
       "<div class='gpresult'><h2>Messages</h2><div id='messages' data-messages='[\"Start Time: Tuesday, January 30, 2024 1:00:03 PM\",\"\",\"Succeeded at Tuesday, January 30, 2024 1:00:03 PM (Elapsed Time: 0.46 seconds)\"]' data-show='true'><div id = 'default' /></div></div>"
      ],
      "text/plain": [
       "<Result 'C:\\\\Demos\\\\PYTS\\\\SanDiego.gdb\\\\CrimeTest'>"
      ]
     },
     "execution_count": 5,
     "metadata": {},
     "output_type": "execute_result"
    }
   ],
   "source": [
    "arcpy.management.Append(\n",
    "    inputs=inputTable,\n",
    "    target=targetFC,\n",
    "    schema_type=\"NO_TEST\",\n",
    "    field_mapping=fms, # This is where the FieldMappings object is used.\n",
    "    subtype=\"\",\n",
    "    expression=\"\",\n",
    "    match_fields=\"XCoordinate X_WGS1984\", # You also need to provide the input fields to-be-mapped\n",
    "    update_geometry=\"NOT_UPDATE_GEOMETRY\"\n",
    ")"
   ]
  },
  {
   "cell_type": "markdown",
   "metadata": {},
   "source": [
    "So, it works. More needs variablized so that more fields can be used, and eventually other datasets."
   ]
  }
 ],
 "metadata": {
  "kernelspec": {
   "display_name": "Python 3",
   "language": "python",
   "name": "python3"
  },
  "language_info": {
   "codemirror_mode": {
    "name": "ipython",
    "version": 3
   },
   "file_extension": ".py",
   "mimetype": "text/x-python",
   "name": "python",
   "nbconvert_exporter": "python",
   "pygments_lexer": "ipython3",
   "version": "3.9.18"
  }
 },
 "nbformat": 4,
 "nbformat_minor": 2
}
