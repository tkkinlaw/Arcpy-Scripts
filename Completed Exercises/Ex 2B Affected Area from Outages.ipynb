{
 "cells": [
  {
   "cell_type": "markdown",
   "metadata": {},
   "source": [
    "# Load Variables"
   ]
  },
  {
   "cell_type": "code",
   "execution_count": 6,
   "metadata": {},
   "outputs": [
    {
     "name": "stdout",
     "output_type": "stream",
     "text": [
      "Variables set\n"
     ]
    }
   ],
   "source": [
    "area = \"AffectedAreaApp\"\n",
    "outputs = r\"C:\\EsriTraining\\PYTS\\North_Carolina\\CountyData.gdb\\AffectedAreaPts\"\n",
    "affected_poly = r\"C:\\EsriTraining\\PYTS\\North_Carolina\\CountyData.gdb\\AffectedAreaPolygon\"\n",
    "distance = \"0.5 Miles\"\n",
    "print(\"Variables set\")"
   ]
  },
  {
   "cell_type": "markdown",
   "metadata": {},
   "source": [
    "### Add Shapefile to Geodatabase"
   ]
  },
  {
   "cell_type": "code",
   "execution_count": 8,
   "metadata": {},
   "outputs": [
    {
     "name": "stdout",
     "output_type": "stream",
     "text": [
      "Shapefile imported into geodatabase\n"
     ]
    }
   ],
   "source": [
    "arcpy.management.CopyFeatures(area, outputs)\n",
    "print(\"Shapefile imported into geodatabase\")"
   ]
  },
  {
   "cell_type": "markdown",
   "metadata": {},
   "source": [
    "### Create Buffer from Points"
   ]
  },
  {
   "cell_type": "code",
   "execution_count": 9,
   "metadata": {},
   "outputs": [
    {
     "name": "stdout",
     "output_type": "stream",
     "text": [
      "Buffer created \n",
      " Script Complete\n"
     ]
    }
   ],
   "source": [
    "arcpy.analysis.Buffer(outputs, affected_poly, distance, \"FULL\", \"ROUND\", \"ALL\", None, \"PLANAR\")\n",
    "print(\"Buffer created \\n Script Complete\")"
   ]
  },
  {
   "cell_type": "code",
   "execution_count": null,
   "metadata": {},
   "outputs": [],
   "source": []
  }
 ],
 "metadata": {
  "kernelspec": {
   "display_name": "ArcGISPro",
   "language": "Python",
   "name": "python3"
  },
  "language_info": {
   "file_extension": ".py",
   "name": "python",
   "version": "3"
  }
 },
 "nbformat": 4,
 "nbformat_minor": 2
}
