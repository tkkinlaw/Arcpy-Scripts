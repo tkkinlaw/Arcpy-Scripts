{
 "cells": [
  {
   "cell_type": "markdown",
   "metadata": {},
   "source": [
    "# Houston Career Center Access by Household Income\n",
    "\n",
    "## Project Initiative\n",
    "\n",
    "The organization director has requested we assess the common incomes within 2 miles of our career center offices. \n",
    "\n",
    "## Analysis Approach\n",
    "\n",
    "For this preliminary analysis, we aim to provide a list of common incomes around each career center in the Houston Metro Area. All data has already been projected into the NAD 1983 2011 State Plane Texas South Central FIPS 4204 (US Feet), the appropriate coordinate system for Harris County, Texas. "
   ]
  },
  {
   "cell_type": "markdown",
   "metadata": {},
   "source": [
    "### Access Project Files\n",
    "\n",
    "First, we import the 2010 Median Household Income and Workforce Solutions Career Offices layers from the Houston Career Center and Household Income maps into the script. "
   ]
  },
  {
   "cell_type": "code",
   "execution_count": null,
   "metadata": {},
   "outputs": [],
   "source": [
    "median_income = \"2010 Median Household Income by Census Block\"\n",
    "career_centers = \"Workforce Solutions Career Offices\"\n",
    "print(\"layers imported\")"
   ]
  },
  {
   "cell_type": "markdown",
   "metadata": {},
   "source": [
    "### Create 2 mile buffers\n",
    "\n",
    "Second, we create a buffer for 2 miles around each workforce center."
   ]
  },
  {
   "cell_type": "code",
   "execution_count": null,
   "metadata": {},
   "outputs": [],
   "source": [
    "career_buffer = \"CareerCenter_2MileBuffer\"\n",
    "arcpy.analysis.Buffer(career_centers, career_buffer, \"2 Miles\")\n",
    "print(\"buffer created\")"
   ]
  },
  {
   "cell_type": "markdown",
   "metadata": {},
   "source": [
    "### Summarize incomes within 2 miles of a workforce center\n",
    "\n",
    "Third, we use the summarize within tool to return the Minimum, Maximum, and Mean household incomes within 2 miles of each workforce center. "
   ]
  },
  {
   "cell_type": "code",
   "execution_count": null,
   "metadata": {},
   "outputs": [],
   "source": [
    "blocks_stats = \"Blocks2Miles_Stats\"\n",
    "keep_all = \"ONLY_INTERSECTING\"\n",
    "sum_fields = [[\"Median_HHI\", \"MIN\"], [\"Median_HHI\", \"Max\"], [\"Median_HHI\", \"Mean\"]]\n",
    "shape_sum = \"NO_SHAPE_SUM\"\n",
    "shape_unit = \"SQUAREMILES\"\n",
    "group_filed = None\n",
    "min_maj = \"NO_MIN_MAJ\"\n",
    "add_percent = \"NO_PERCENT\"\n",
    "out_table = None\n",
    "arcpy.analysis.SummarizeWithin(\n",
    "    in_polygons=career_buffer,\n",
    "    in_sum_features=median_income,\n",
    "    out_feature_class=blocks_stats,\n",
    "    keep_all_polygons=keep_all,\n",
    "    sum_fields=sum_fields,\n",
    "    sum_shape=shape_sum,\n",
    "    shape_unit=shape_unit,\n",
    "    group_field=group_filed,\n",
    "    add_min_maj=min_maj,\n",
    "    add_group_percent=add_percent,\n",
    "    out_group_table=out_table\n",
    ")\n",
    "print(\"summary created\")"
   ]
  },
  {
   "cell_type": "markdown",
   "metadata": {},
   "source": [
    "### Return the statistics for each workforce center\n",
    "\n",
    "Finally, we will print out the statistics for each workforce center in the notebook for ease of review. "
   ]
  },
  {
   "cell_type": "code",
   "execution_count": null,
   "metadata": {},
   "outputs": [],
   "source": [
    "field_list = [\"Center_Nam\", \"min_Median_HHI\", \"max_Median_HHI\", \"mean_Median_HHI\"]\n",
    "with arcpy.da.SearchCursor(blocks_stats, field_list) as cursor:\n",
    "    for row in cursor:\n",
    "        center_name = row[0]\n",
    "        min_hhi = round(row[1], 2)\n",
    "        max_hhi = round(row[2], 2)\n",
    "        mean_hhi = round(row[3], 2)\n",
    "        print(f\"Center Name: {center_name} | Minimum Median Household Income: {min_hhi} | Maximum Median Household Income: {max_hhi} | Mean Median Household Income: {mean_hhi}\")\n",
    "del cursor"
   ]
  },
  {
   "cell_type": "markdown",
   "metadata": {},
   "source": [
    "### Create a graph of household incomes\n",
    "\n",
    "To better understand the data, we will create a box plot showing the minimum, maximum, and mean household incomes for each workforce center. "
   ]
  },
  {
   "cell_type": "code",
   "execution_count": null,
   "metadata": {},
   "outputs": [],
   "source": [
    "chart = arcpy.charts.Box(y=[\"min_Median_HHI\", \"max_Median_HHI\", \"mean_Median_HHI\"], dataSource=blocks_stats,\n",
    "                         splitCategory=\"Center_Nam\",\n",
    "                         splitCategoryAsMeanLine=True,\n",
    "                         displaySize = [800, 800],\n",
    "                         title = \"Distribution of Minimum, Maximum, and Median Houshold Incomes by Workforce Center\")\n",
    "chart"
   ]
  }
 ],
 "metadata": {
  "kernelspec": {
   "display_name": "ArcGISPro",
   "language": "Python",
   "name": "python3"
  },
  "language_info": {
   "file_extension": ".py",
   "name": "python",
   "version": "3"
  }
 },
 "nbformat": 4,
 "nbformat_minor": 2
}
