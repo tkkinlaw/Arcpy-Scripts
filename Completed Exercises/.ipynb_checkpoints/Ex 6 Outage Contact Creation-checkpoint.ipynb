{
 "cells": [
  {
   "cell_type": "code",
   "execution_count": null,
   "metadata": {},
   "outputs": [],
   "source": [
    "import csv\n",
    "arcpy.env.overwriteOutput = True\n",
    "arcpy.env.outputCoordinateSystem = 103501"
   ]
  },
  {
   "cell_type": "code",
   "execution_count": null,
   "metadata": {},
   "outputs": [],
   "source": [
    "outage_csv = r\"C:\\EsriTraining\\PYTS\\North_Carolina\\OutageXY.csv\"\n",
    "outage_coords = []\n",
    "csv_file = open(outage_csv)\n",
    "csv_reader = csv.reader(csv_file)\n",
    "next(csv_reader)\n",
    "for row in csv_reader:\n",
    "    outage_coords.append(row)"
   ]
  },
  {
   "cell_type": "code",
   "execution_count": null,
   "metadata": {},
   "outputs": [],
   "source": [
    "pnt_list = []\n",
    "for coord in outage_coords:\n",
    "    pnt = arcpy.Point(coord[0], coord[1])\n",
    "    pnt_list.append(pnt)\n",
    "pnt_ary = arcpy.Array(pnt_list)\n",
    "outage_multipoint = arcpy.Multipoint(pnt_ary)"
   ]
  },
  {
   "cell_type": "code",
   "execution_count": null,
   "metadata": {},
   "outputs": [],
   "source": [
    "outage_area = \"CurrentAffectedAreas\"\n",
    "convex_hull = outage_multipoint.convexHull()\n",
    "arcpy.CopyFeatures_management(convex_hull, outage_area)"
   ]
  },
  {
   "cell_type": "code",
   "execution_count": null,
   "metadata": {},
   "outputs": [],
   "source": [
    "contact_fc = \"AffectedParcels\"\n",
    "gdb = r\"C:\\EsriTraining\\PYTS\\North_Carolina\\CountyData.gdb\"\n",
    "arcpy.CreateFeatureclass_management(gdb, contact_fc, \"POINT\")\n",
    "arcpy.AddFields_management(f\"{gdb}\\\\{contact_fc}\",[[\"Owner_Name\", \"TEXT\"], [\"Phone_Number\", \"TEXT\"]])"
   ]
  },
  {
   "cell_type": "code",
   "execution_count": null,
   "metadata": {},
   "outputs": [],
   "source": [
    "parcels = \"ParcelPts\"\n",
    "with arcpy.da.SearchCursor(parcels, [\"SHAPE@XY\", \"Owner_Name\", \"Phone_Number\"]) as parcel_cursor:\n",
    "    for parcel in parcel_cursor:\n",
    "        pts = arcpy.Point((parcel[0])[0],(parcel[0])[1])\n",
    "        parcel_geoms = arcpy.PointGeometry(pts)\n",
    "        if parcel_geoms.within(convex_hull):\n",
    "            cursor = arcpy.da.InsertCursor(f\"{gdb}\\\\{contact_fc}\", [\"SHAPE@XY\", \"Owner_Name\", \"Phone_Number\"])\n",
    "            cursor.insertRow([((parcel[0])[0], (parcel[0])[1]), parcel[1], parcel[2]])\n",
    "            del cursor\n",
    "        else:\n",
    "            continue\n",
    "del parcel_cursor"
   ]
  },
  {
   "cell_type": "code",
   "execution_count": null,
   "metadata": {},
   "outputs": [],
   "source": []
  }
 ],
 "metadata": {
  "kernelspec": {
   "display_name": "ArcGISPro",
   "language": "Python",
   "name": "python3"
  },
  "language_info": {
   "file_extension": ".py",
   "name": "python",
   "version": "3"
  }
 },
 "nbformat": 4,
 "nbformat_minor": 2
}
