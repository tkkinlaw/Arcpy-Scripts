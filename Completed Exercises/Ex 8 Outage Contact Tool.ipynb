{
 "cells": [
  {
   "cell_type": "code",
   "execution_count": 16,
   "metadata": {},
   "outputs": [],
   "source": [
    "import csv\n",
    "import arcpy\n",
    "import os\n",
    "arcpy.env.overwriteOutput = True\n",
    "arcpy.env.outputCoordinateSystem = 103501"
   ]
  },
  {
   "cell_type": "code",
   "execution_count": 17,
   "metadata": {},
   "outputs": [
    {
     "name": "stdout",
     "output_type": "stream",
     "text": [
      "\n"
     ]
    }
   ],
   "source": [
    "outage_csv = arcpy.GetParameter(0)\n",
    "parcels = arcpy.GetParameter(1)\n",
    "outage_area = arcpy.GetParameter(2)\n",
    "contact_fc = arcpy.GetParameter(3)"
   ]
  },
  {
   "cell_type": "code",
   "execution_count": 18,
   "metadata": {},
   "outputs": [],
   "source": [
    "outage_coords = []\n",
    "csv_file = open(outage_csv)\n",
    "csv_reader = csv.reader(csv_file)\n",
    "next(csv_reader)\n",
    "for row in csv_reader:\n",
    "    outage_coords.append(row)"
   ]
  },
  {
   "cell_type": "code",
   "execution_count": 19,
   "metadata": {},
   "outputs": [],
   "source": [
    "pnt_list = []\n",
    "for coord in outage_coords:\n",
    "    pnt = arcpy.Point(coord[0], coord[1])\n",
    "    pnt_list.append(pnt)\n",
    "pnt_ary = arcpy.Array(pnt_list)\n",
    "outage_multipoint = arcpy.Multipoint(pnt_ary)"
   ]
  },
  {
   "cell_type": "code",
   "execution_count": 20,
   "metadata": {},
   "outputs": [
    {
     "data": {
      "text/html": [
       "<div class='gpresult'><h2>Messages</h2><div id='messages' data-messages='[\"Start Time: Tuesday, February 6, 2024 8:27:15 AM\",\"Succeeded at Tuesday, February 6, 2024 8:27:15 AM (Elapsed Time: 0.41 seconds)\"]' data-show='true'><div id = 'default' /></div></div>"
      ],
      "text/plain": [
       "<Result 'C:\\\\Users\\\\hail9364\\\\Documents\\\\PYTSRewrite\\\\PYTS_Updated\\\\ProjectFiles\\\\PYTSProject\\\\PYTSProject.gdb\\\\CurrentAffectedAreas'>"
      ]
     },
     "execution_count": 20,
     "metadata": {},
     "output_type": "execute_result"
    }
   ],
   "source": [
    "convex_hull = outage_multipoint.convexHull()\n",
    "arcpy.CopyFeatures_management(convex_hull, outage_area)"
   ]
  },
  {
   "cell_type": "code",
   "execution_count": 22,
   "metadata": {
    "scrolled": true
   },
   "outputs": [
    {
     "data": {
      "text/html": [
       "<div class='gpresult'><h2>Messages</h2><div id='messages' data-messages='[\"Start Time: Tuesday, February 6, 2024 8:27:30 AM\",\"Adding Owner_Name to AffectedParcels...\",\"Adding Phone_Number to AffectedParcels...\",\"Succeeded at Tuesday, February 6, 2024 8:27:30 AM (Elapsed Time: 0.11 seconds)\"]' data-show='true'><div id = 'default' /></div></div>"
      ],
      "text/plain": [
       "<Result 'C:\\\\Users\\\\hail9364\\\\Documents\\\\PYTSRewrite\\\\PYTS_Updated\\\\North_Carolina\\\\CountyData.gdb\\\\AffectedParcels'>"
      ]
     },
     "execution_count": 22,
     "metadata": {},
     "output_type": "execute_result"
    }
   ],
   "source": [
    "path = os.path.normpath(contact_fc)\n",
    "arcpy.CreateFeatureclass_management(os.path.split(contact_fc)[0], os.path.split(contact_fc)[1], \"POINT\")\n",
    "arcpy.AddFields_management(contact_fc, [[\"Owner_Name\", \"TEXT\"], [\"Phone_Number\", \"TEXT\"]])"
   ]
  },
  {
   "cell_type": "code",
   "execution_count": 24,
   "metadata": {},
   "outputs": [],
   "source": [
    "with arcpy.da.SearchCursor(parcels, [\"SHAPE@XY\", \"Owner_Name\", \"Phone_Number\"]) as parcel_cursor:\n",
    "    for parcel in parcel_cursor:\n",
    "        pts = arcpy.Point((parcel[0])[0], (parcel[0])[1])\n",
    "        parcel_geoms = arcpy.PointGeometry(pts)\n",
    "        if parcel_geoms.within(convex_hull):\n",
    "            cursor = arcpy.da.InsertCursor(contact_fc, \n",
    "                                           [\"SHAPE@XY\", \"Owner_Name\", \"Phone_Number\"])\n",
    "            cursor.insertRow([((parcel[0])[0], (parcel[0])[1]), parcel[1], parcel[2]])\n",
    "            del cursor\n",
    "        else:\n",
    "            continue\n",
    "\n",
    "del parcel_cursor"
   ]
  }
 ],
 "metadata": {
  "kernelspec": {
   "display_name": "ArcGISPro",
   "language": "Python",
   "name": "python3"
  },
  "language_info": {
   "file_extension": ".py",
   "name": "python",
   "version": "3"
  }
 },
 "nbformat": 4,
 "nbformat_minor": 2
}
