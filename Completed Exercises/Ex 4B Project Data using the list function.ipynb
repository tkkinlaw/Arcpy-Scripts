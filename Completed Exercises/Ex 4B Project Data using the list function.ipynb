{
 "cells": [
  {
   "cell_type": "markdown",
   "metadata": {},
   "source": [
    "### Set environment settings"
   ]
  },
  {
   "cell_type": "code",
   "execution_count": 18,
   "metadata": {},
   "outputs": [],
   "source": [
    "arcpy.env.workspace = r\"C:\\EsriTraining\\PYTS\\CentralAmerica\\Central_America.gdb\"\n",
    "arcpy.env.overwriteOutput = True"
   ]
  },
  {
   "cell_type": "markdown",
   "metadata": {},
   "source": [
    "### Create a list of feature classes from CentralAmerica.gdb"
   ]
  },
  {
   "cell_type": "code",
   "execution_count": 19,
   "metadata": {},
   "outputs": [
    {
     "name": "stdout",
     "output_type": "stream",
     "text": [
      "['Streams_Guatemala', 'WaterBodies_Guatemala', 'ProtectedAreas_Guatemala', 'StateBoundaries_Guatemala']\n"
     ]
    }
   ],
   "source": [
    "GuatemalaData = arcpy.ListFeatureClasses(\"*Guatemala\")\n",
    "print(GuatemalaData)"
   ]
  },
  {
   "cell_type": "markdown",
   "metadata": {},
   "source": [
    "### Loop through the feature class list and project the data"
   ]
  },
  {
   "cell_type": "code",
   "execution_count": 20,
   "metadata": {},
   "outputs": [],
   "source": [
    "spatialRef = arcpy.da.Describe(\"BoundaryLine_Belize\")['spatialReference']\n",
    "for fc in GuatemalaData:\n",
    "    outFc = f\"{fc}_NAD1927\"\n",
    "    arcpy.management.Project(fc, outFc, spatialRef)"
   ]
  },
  {
   "cell_type": "code",
   "execution_count": null,
   "metadata": {},
   "outputs": [],
   "source": []
  }
 ],
 "metadata": {
  "kernelspec": {
   "display_name": "ArcGISPro",
   "language": "Python",
   "name": "python3"
  },
  "language_info": {
   "file_extension": ".py",
   "name": "python",
   "version": "3"
  }
 },
 "nbformat": 4,
 "nbformat_minor": 2
}
