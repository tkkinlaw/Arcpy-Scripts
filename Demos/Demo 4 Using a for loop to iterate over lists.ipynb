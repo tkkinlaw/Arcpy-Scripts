{
 "cells": [
  {
   "cell_type": "code",
   "execution_count": null,
   "metadata": {},
   "outputs": [],
   "source": [
    "import os\n",
    "arcpy.env.workspace = r\"C:\\PYTS\\SanDiego\\SANDAG\\Ecology\"\n",
    "fcList = arcpy.ListFeatureClasses()\n",
    "print(fcList)"
   ]
  },
  {
   "cell_type": "code",
   "execution_count": null,
   "metadata": {},
   "outputs": [],
   "source": [
    "fcNum = len(fcList)\n",
    "print(fcNum)"
   ]
  },
  {
   "cell_type": "code",
   "execution_count": null,
   "metadata": {},
   "outputs": [],
   "source": [
    "if fcNum > 0:\n",
    "    for fc in fcList:\n",
    "        print(fc)\n",
    "        newName = arcpy.da.Describe(fc)['baseName']\n",
    "        outFC = os.path.join(r\"C:\\PYTS\\SanDiego\\SanDiego.gdb\", newName)\n",
    "        arcpy.conversion.ExportFeatures(fc, outFC)"
   ]
  }
 ],
 "metadata": {
  "kernelspec": {
   "display_name": "ArcGISPro",
   "language": "Python",
   "name": "python3"
  },
  "language_info": {
   "file_extension": ".py",
   "name": "python",
   "version": "3"
  }
 },
 "nbformat": 4,
 "nbformat_minor": 2
}
