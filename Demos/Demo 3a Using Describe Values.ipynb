{
 "cells": [
  {
   "cell_type": "code",
   "execution_count": null,
   "metadata": {},
   "outputs": [],
   "source": [
    "from pprint import pprint"
   ]
  },
  {
   "cell_type": "code",
   "execution_count": null,
   "metadata": {},
   "outputs": [],
   "source": [
    "majAtt = \"MajorAttractions\"\n",
    "d = arcpy.da.Describe(majAtt)\n",
    "pprint(d)"
   ]
  },
  {
   "cell_type": "code",
   "execution_count": null,
   "metadata": {},
   "outputs": [],
   "source": [
    "if d['shapeType'] == \"Point\":\n",
    "    print(\"The shape type is a point!\")\n",
    "    arcpy.management.CreateFeatureclass(out_path=d['path'], \n",
    "                                        out_name=\"MajorAttractions_Polygon\", \n",
    "                                        geometry_type=\"Polygon\",\n",
    "                                        template = d[\"catalogPath\"], \n",
    "                                        spatial_reference=d['spatialReference'])\n",
    "else:\n",
    "    print(\"It is not a point geometry type\")"
   ]
  },
  {
   "cell_type": "code",
   "execution_count": null,
   "metadata": {},
   "outputs": [],
   "source": []
  }
 ],
 "metadata": {
  "kernelspec": {
   "display_name": "ArcGISPro",
   "language": "Python",
   "name": "python3"
  },
  "language_info": {
   "file_extension": ".py",
   "name": "python",
   "version": "3"
  }
 },
 "nbformat": 4,
 "nbformat_minor": 2
}
