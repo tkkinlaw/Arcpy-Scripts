{
 "cells": [
  {
   "cell_type": "markdown",
   "metadata": {},
   "source": [
    "# Tree Height Calculation"
   ]
  },
  {
   "cell_type": "markdown",
   "metadata": {},
   "source": [
    "### Set Variables"
   ]
  },
  {
   "cell_type": "code",
   "execution_count": null,
   "metadata": {},
   "outputs": [],
   "source": [
    "treePts = r\"C:\\EsriTraining\\PYTS\\Data\\TreePts.shp\"\n",
    "buffTrees = r\"C:\\EsriTraining\\PYTS\\Data\\TreeCanopies.shp\"\n",
    "surfaceData = r\"C:\\EsriTraining\\PYTS\\Data\\nDSM.tif\"\n",
    "heightEvaluation = \"Z_MAX\"\n",
    "buffDistance = \"CanRadius\"\n",
    "print(\"Variables set.\")"
   ]
  },
  {
   "cell_type": "markdown",
   "metadata": {},
   "source": [
    "### Buffer tree points"
   ]
  },
  {
   "cell_type": "code",
   "execution_count": null,
   "metadata": {},
   "outputs": [],
   "source": [
    "arcpy.Buffer_analysis(treePts, buffTrees, buffDistance)\n",
    "print(\"Buffer complete\")"
   ]
  },
  {
   "cell_type": "markdown",
   "metadata": {},
   "source": [
    "### Determine tree height"
   ]
  },
  {
   "cell_type": "code",
   "execution_count": null,
   "metadata": {},
   "outputs": [],
   "source": [
    "arcpy.AddSurfaceInformation_3d(buffTrees, surfaceData, heightEvaluation)\n",
    "print(\"Surface information added\")"
   ]
  }
 ],
 "metadata": {
  "language_info": {
   "name": "python"
  }
 },
 "nbformat": 4,
 "nbformat_minor": 2
}
