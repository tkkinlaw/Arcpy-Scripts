{
 "cells": [
  {
   "cell_type": "code",
   "execution_count": null,
   "metadata": {},
   "outputs": [],
   "source": [
    "# Create variables\n",
    "bufferIn = r\"C:\\PYTS\\SanDiego\\SanDiego.gdb\\MajorAttractions\"\n",
    "bufferOut = r\"C:\\PYTS\\SanDiego\\SanDiego.gdb\\MajorAttractionsBuffer_FromNotebook\""
   ]
  },
  {
   "cell_type": "code",
   "execution_count": null,
   "metadata": {},
   "outputs": [],
   "source": [
    "# Run buffer tool\n",
    "arcpy.analysis.Buffer(bufferIn, bufferOut, \"1 Mile\")\n",
    "print(\"Buffer analysis is complete.\")"
   ]
  },
  {
   "cell_type": "code",
   "execution_count": null,
   "metadata": {},
   "outputs": [],
   "source": [
    "arcpy.management.Delete([\"MajorAttractionsBuffer_FromNotebook\", \"MajorAttractionsBuffer\"])"
   ]
  }
 ],
 "metadata": {
  "kernelspec": {
   "display_name": "ArcGISPro",
   "language": "Python",
   "name": "python3"
  },
  "language_info": {
   "file_extension": ".py",
   "name": "python",
   "version": "3"
  }
 },
 "nbformat": 4,
 "nbformat_minor": 2
}
