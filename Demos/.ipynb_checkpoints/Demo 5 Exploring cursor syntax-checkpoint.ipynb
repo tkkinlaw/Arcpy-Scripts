{
 "cells": [
  {
   "cell_type": "code",
   "execution_count": null,
   "metadata": {},
   "outputs": [],
   "source": [
    "flds = ['NAME','ZIP_CODE','PUMPS'] \n",
    "exp1 = 'PUMPS > 15' \n",
    "exp2 = \"NAME = 'O''SIDE GAS'\" \n",
    "\n",
    "sCur = arcpy.da.SearchCursor(\"GasStations\", flds, exp2)\n",
    "\n",
    "for row in sCur: \n",
    "    print(row) \n",
    "del sCur "
   ]
  }
 ],
 "metadata": {
  "kernelspec": {
   "display_name": "ArcGISPro",
   "language": "Python",
   "name": "python3"
  },
  "language_info": {
   "file_extension": ".py",
   "name": "python",
   "version": "3"
  }
 },
 "nbformat": 4,
 "nbformat_minor": 2
}
