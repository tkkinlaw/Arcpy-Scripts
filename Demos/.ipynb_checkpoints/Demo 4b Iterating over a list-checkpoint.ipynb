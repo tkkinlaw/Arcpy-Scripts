{
 "cells": [
  {
   "cell_type": "code",
   "execution_count": 9,
   "metadata": {},
   "outputs": [
    {
     "name": "stdout",
     "output_type": "stream",
     "text": [
      "['Canyons.shp', 'climate_regions.shp', 'climate_subregions.shp', 'Eco_Isopluvials.shp', 'Environmentally_Sensitive_Areas.shp', 'Forest_Conservation_Init.shp', 'Isopluvials_85thPercent.shp', 'MSCP_CN.shp', 'MSCP_Habitrak.shp', 'MSCP_NorthDraft_CN.shp', 'Precipitation.shp', 'PubUtil_Habitat_Mitigation_Sites.shp', 'SANDAG_major_spp_pop.shp', 'Watersheds.shp']\n"
     ]
    }
   ],
   "source": [
    "import os\n",
    "# set workspace\n",
    "arcpy.env.workspace = r\"C:\\DemoData\\PYTS\\SanDiego\\SANDAG\\Ecology\"\n",
    "\n",
    "fcList = arcpy.ListFeatureClasses()\n",
    "print(fcList)"
   ]
  },
  {
   "cell_type": "code",
   "execution_count": 10,
   "metadata": {},
   "outputs": [
    {
     "name": "stdout",
     "output_type": "stream",
     "text": [
      "14\n"
     ]
    }
   ],
   "source": [
    "fcNum = len(fcList)\n",
    "print(fcNum)"
   ]
  },
  {
   "cell_type": "code",
   "execution_count": 11,
   "metadata": {},
   "outputs": [
    {
     "name": "stdout",
     "output_type": "stream",
     "text": [
      "Canyons.shp\n",
      "climate_regions.shp\n",
      "climate_subregions.shp\n",
      "Eco_Isopluvials.shp\n",
      "Environmentally_Sensitive_Areas.shp\n",
      "Forest_Conservation_Init.shp\n",
      "Isopluvials_85thPercent.shp\n",
      "MSCP_CN.shp\n",
      "MSCP_Habitrak.shp\n",
      "MSCP_NorthDraft_CN.shp\n",
      "Precipitation.shp\n",
      "PubUtil_Habitat_Mitigation_Sites.shp\n",
      "SANDAG_major_spp_pop.shp\n",
      "Watersheds.shp\n"
     ]
    }
   ],
   "source": [
    "if fcNum > 0:\n",
    "    for fc in fcList:\n",
    "        print(fc)\n",
    "        baseName = arcpy.da.Describe(fc)['baseName']\n",
    "        outFC = os.path.join(r\"C:\\DemoData\\PYTS\\PYTSDemo\\PYTSDemo.gdb\", baseName)\n",
    "        arcpy.conversion.ExportFeatures(in_features=fc, out_features=outFC)"
   ]
  },
  {
   "cell_type": "code",
   "execution_count": 12,
   "metadata": {},
   "outputs": [
    {
     "data": {
      "text/plain": [
       "'Watersheds'"
      ]
     },
     "execution_count": 12,
     "metadata": {},
     "output_type": "execute_result"
    }
   ],
   "source": [
    "fc.replace(\".shp\",\"\")"
   ]
  },
  {
   "cell_type": "code",
   "execution_count": 13,
   "metadata": {},
   "outputs": [
    {
     "data": {
      "text/plain": [
       "'Watersheds'"
      ]
     },
     "execution_count": 13,
     "metadata": {},
     "output_type": "execute_result"
    }
   ],
   "source": [
    "fc[:-4]"
   ]
  },
  {
   "cell_type": "code",
   "execution_count": 14,
   "metadata": {},
   "outputs": [
    {
     "data": {
      "text/plain": [
       "'Watersheds'"
      ]
     },
     "execution_count": 14,
     "metadata": {},
     "output_type": "execute_result"
    }
   ],
   "source": [
    "arcpy.da.Describe(fc)['baseName']"
   ]
  },
  {
   "cell_type": "code",
   "execution_count": null,
   "metadata": {},
   "outputs": [],
   "source": []
  }
 ],
 "metadata": {
  "kernelspec": {
   "display_name": "ArcGISPro",
   "language": "Python",
   "name": "python3"
  },
  "language_info": {
   "file_extension": ".py",
   "name": "python",
   "version": "3"
  }
 },
 "nbformat": 4,
 "nbformat_minor": 2
}
