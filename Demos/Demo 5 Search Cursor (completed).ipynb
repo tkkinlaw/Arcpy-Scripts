{
 "cells": [
  {
   "cell_type": "code",
   "execution_count": 20,
   "metadata": {},
   "outputs": [
    {
     "name": "stdout",
     "output_type": "stream",
     "text": [
      "(\"O'SIDE GAS\", 16070, 44)\n"
     ]
    }
   ],
   "source": [
    "flds = [\"NAME\", 'PERMIT_NO', 'PUMPS']\n",
    "exp1 = 'PUMPS > 15'\n",
    "exp2 = \"NAME = 'O''SIDE GAS'\"\n",
    "\n",
    "sCur = arcpy.da.SearchCursor(\"GasStations\",flds,where_clause=exp2)\n",
    "for row in sCur:\n",
    "    print(row)\n",
    "del sCur"
   ]
  },
  {
   "cell_type": "code",
   "execution_count": null,
   "metadata": {},
   "outputs": [],
   "source": []
  }
 ],
 "metadata": {
  "kernelspec": {
   "display_name": "ArcGISPro",
   "language": "Python",
   "name": "python3"
  },
  "language_info": {
   "file_extension": ".py",
   "name": "python",
   "version": "3"
  }
 },
 "nbformat": 4,
 "nbformat_minor": 2
}
