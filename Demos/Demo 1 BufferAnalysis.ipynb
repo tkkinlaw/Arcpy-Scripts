{
 "cells": [
  {
   "cell_type": "code",
   "execution_count": 5,
   "metadata": {},
   "outputs": [],
   "source": [
    "# Create variables\n",
    "bufferIn = r\"C:\\PYTS\\SanDiego\\SanDiego.gdb\\MajorAttractions\"\n",
    "bufferOut = r\"C:\\PYTS\\SanDiego\\SanDiego.gdb\\MajorAttractionsBuffer_FromNotebook\""
   ]
  },
  {
   "cell_type": "code",
   "execution_count": 6,
   "metadata": {},
   "outputs": [
    {
     "name": "stdout",
     "output_type": "stream",
     "text": [
      "Buffer analysis is complete.\n"
     ]
    }
   ],
   "source": [
    "# Run buffer tool\n",
    "arcpy.analysis.Buffer(bufferIn, bufferOut, \"1 Mile\")\n",
    "print(\"Buffer analysis is complete.\")"
   ]
  },
  {
   "cell_type": "code",
   "execution_count": 7,
   "metadata": {},
   "outputs": [
    {
     "data": {
      "text/html": [
       "<div class='gpresult'><h2>Messages</h2><div id='messages' data-messages='[\"Start Time: Tuesday, November 28, 2023 5:01:48 PM\",\"Succeeded at Tuesday, November 28, 2023 5:01:48 PM (Elapsed Time: 0.14 seconds)\"]' data-show='true'><div id = 'default' /></div></div>"
      ],
      "text/plain": [
       "<Result 'true'>"
      ]
     },
     "execution_count": 7,
     "metadata": {},
     "output_type": "execute_result"
    }
   ],
   "source": [
    "arcpy.management.Delete([\"MajorAttractionsBuffer_FromNotebook\", \"MajorAttractionsBuffer\"])"
   ]
  },
  {
   "cell_type": "code",
   "execution_count": null,
   "metadata": {},
   "outputs": [],
   "source": []
  }
 ],
 "metadata": {
  "kernelspec": {
   "display_name": "ArcGISPro",
   "language": "Python",
   "name": "python3"
  },
  "language_info": {
   "file_extension": ".py",
   "name": "python",
   "version": "3"
  }
 },
 "nbformat": 4,
 "nbformat_minor": 2
}
