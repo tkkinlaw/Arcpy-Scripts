{
 "cells": [
  {
   "cell_type": "code",
   "execution_count": null,
   "metadata": {},
   "outputs": [],
   "source": [
    "import csv \n",
    "import numpy\n",
    "import os"
   ]
  },
  {
   "cell_type": "markdown",
   "metadata": {},
   "source": [
    "### Read coordinates from a csv and create a Polyline geometry object "
   ]
  },
  {
   "cell_type": "code",
   "execution_count": null,
   "metadata": {},
   "outputs": [],
   "source": [
    "file = r\"C:\\DemoData\\PYTS\\BlueSkyEcological\\BlueSkyEcologicalStream.csv\"\n",
    "csvFile = open(file)\n",
    "csvReader = csv.reader(csvFile)"
   ]
  },
  {
   "cell_type": "code",
   "execution_count": null,
   "metadata": {},
   "outputs": [],
   "source": [
    "pnt = arcpy.Point()\n",
    "ary = arcpy.Array()"
   ]
  },
  {
   "cell_type": "code",
   "execution_count": null,
   "metadata": {},
   "outputs": [],
   "source": [
    "for row in csvReader:\n",
    "    pnt.X = row[0]\n",
    "    pnt.Y = row[1]\n",
    "    ary.append(pnt)"
   ]
  },
  {
   "cell_type": "code",
   "execution_count": null,
   "metadata": {},
   "outputs": [],
   "source": [
    "streamGeom = arcpy.Polyline(ary)"
   ]
  },
  {
   "cell_type": "markdown",
   "metadata": {},
   "source": [
    "### Create an empty feature class "
   ]
  },
  {
   "cell_type": "code",
   "execution_count": null,
   "metadata": {},
   "outputs": [],
   "source": [
    "gdb = r\"C:\\DemoData\\PYTS\\SanDiego\\SanDiego.gdb\"\n",
    "fcName = \"StreamSamplePts\"\n",
    "arcpy.CreateFeatureclass_management(gdb, fcName, \"Point\", spatial_reference=2230) "
   ]
  },
  {
   "cell_type": "markdown",
   "metadata": {},
   "source": [
    "### Use a geometry object method & insert cursor to create sample point locations "
   ]
  },
  {
   "cell_type": "code",
   "execution_count": null,
   "metadata": {},
   "outputs": [],
   "source": [
    "samplePerc = numpy.arange(0.25, 1.25, 0.25)\n",
    "print(samplePerc)"
   ]
  },
  {
   "cell_type": "code",
   "execution_count": null,
   "metadata": {},
   "outputs": [],
   "source": [
    "fc = os.path.join(gdb, fcName)\n",
    "cursor = arcpy.da.InsertCursor(fc,\"Shape@XY\")\n",
    "\n",
    "for perc in samplePerc:\n",
    "    samplePoint = streamGeom.positionAlongLine(perc, True)\n",
    "    cursor.insertRow([(samplePoint.centroid.X, samplePoint.centroid.Y)])\n",
    "    print (f\"{perc} sample point is at the following location x:{samplePoint.centroid.X} y:{samplePoint.centroid.Y}\")\n",
    "del cursor"
   ]
  }
 ],
 "metadata": {
  "kernelspec": {
   "display_name": "ArcGISPro",
   "language": "Python",
   "name": "python3"
  },
  "language_info": {
   "file_extension": ".py",
   "name": "python",
   "version": "3"
  }
 },
 "nbformat": 4,
 "nbformat_minor": 2
}
