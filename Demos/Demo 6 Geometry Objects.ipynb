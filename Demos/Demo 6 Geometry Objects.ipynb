{
 "cells": [
  {
   "cell_type": "code",
   "execution_count": null,
   "metadata": {},
   "outputs": [],
   "source": [
    "import csv \n",
    "import numpy\n",
    "import os"
   ]
  },
  {
   "cell_type": "markdown",
   "metadata": {
    "heading_collapsed": true
   },
   "source": [
    "### Read values from a csv file"
   ]
  },
  {
   "cell_type": "code",
   "execution_count": null,
   "metadata": {
    "hidden": true
   },
   "outputs": [],
   "source": [
    "file = r\"C:\\DemoData\\PYTS\\BlueSkyEcological\\BlueSkyEcologicalStream.csv\"\n",
    "csvFile = open(file)\n",
    "csvReader = csv.reader(csvFile)"
   ]
  },
  {
   "cell_type": "markdown",
   "metadata": {
    "heading_collapsed": true
   },
   "source": [
    "### Create a Polyline geometry object "
   ]
  },
  {
   "cell_type": "code",
   "execution_count": null,
   "metadata": {
    "hidden": true
   },
   "outputs": [],
   "source": [
    "pnt = arcpy.Point()\n",
    "ary = arcpy.Array()\n",
    "sp = arcpy.SpatialReference(2230)"
   ]
  },
  {
   "cell_type": "code",
   "execution_count": null,
   "metadata": {
    "hidden": true
   },
   "outputs": [],
   "source": [
    "for row in csvReader:\n",
    "    pnt.X = row[0]\n",
    "    pnt.Y = row[1]\n",
    "    ary.append(pnt)"
   ]
  },
  {
   "cell_type": "code",
   "execution_count": null,
   "metadata": {
    "hidden": true
   },
   "outputs": [],
   "source": [
    "streamGeom = arcpy.Polyline(ary, spatial_reference=sp)"
   ]
  },
  {
   "cell_type": "markdown",
   "metadata": {
    "heading_collapsed": true
   },
   "source": [
    "### Create an empty feature class "
   ]
  },
  {
   "cell_type": "code",
   "execution_count": null,
   "metadata": {
    "hidden": true
   },
   "outputs": [],
   "source": [
    "gdb = r\"C:\\DemoData\\PYTS\\SanDiego\\SanDiego.gdb\"\n",
    "fcName = arcpy.da.Describe(file)['baseName'] + \"SamplePts\"\n",
    "arcpy.CreateFeatureclass_management(gdb, fcName, \"Point\", spatial_reference=sp) "
   ]
  },
  {
   "cell_type": "markdown",
   "metadata": {
    "heading_collapsed": true
   },
   "source": [
    "### Use a geometry object method & insert cursor to create sample point locations "
   ]
  },
  {
   "cell_type": "code",
   "execution_count": null,
   "metadata": {
    "hidden": true
   },
   "outputs": [],
   "source": [
    "samplePerc = numpy.arange(0.25, 1.25, 0.25)\n",
    "print(samplePerc)"
   ]
  },
  {
   "cell_type": "code",
   "execution_count": null,
   "metadata": {
    "hidden": true
   },
   "outputs": [],
   "source": [
    "fc = os.path.join(gdb, fcName)\n",
    "cursor = arcpy.da.InsertCursor(fc,\"Shape@XY\")\n",
    "\n",
    "for perc in samplePerc:\n",
    "    samplePoint = streamGeom.positionAlongLine(perc, True)\n",
    "    cursor.insertRow([(samplePoint.centroid.X, samplePoint.centroid.Y)])\n",
    "    print (f\"{perc} sample point is at the following location x:{samplePoint.centroid.X} y:{samplePoint.centroid.Y}\")\n",
    "del cursor"
   ]
  }
 ],
 "metadata": {
  "kernelspec": {
   "display_name": "ArcGISPro",
   "language": "Python",
   "name": "python3"
  },
  "language_info": {
   "file_extension": ".py",
   "name": "python",
   "version": "3"
  }
 },
 "nbformat": 4,
 "nbformat_minor": 2
}
