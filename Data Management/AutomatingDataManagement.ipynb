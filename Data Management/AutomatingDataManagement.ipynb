{
 "cells": [
  {
   "cell_type": "markdown",
   "metadata": {},
   "source": [
    "# Automating Data Management"
   ]
  },
  {
   "cell_type": "markdown",
   "metadata": {},
   "source": [
    "## Story and benefit of Python"
   ]
  },
  {
   "cell_type": "markdown",
   "metadata": {},
   "source": [
    "NOAA releases many web services to pull weather and climate data from. One is the Global Historical Climate Network daily values dataset (GHCND). We want to record the precipitation values of interest in a table for each weather station, and keep a hosted feature layer in ArcGIS Online up to date with the most recent precipitation values to implement into our GIS web maps and apps. \n",
    "\n",
    "To do this without Python:\n",
    "- Use a graphical user interface from the service provider.\n",
    "- You manually submit a request for each weather station of interest.\n",
    "- You engineer the data to ensure it is in the proper format, for each table.\n",
    "- You append the record(s) from the downloaded CSV file to the respective geodatabase table.\n",
    "- You look at the precipitation values on the day of interest and manually edit the hosted feature layer, for each weather station. You have 100+ stations.\n",
    "- You repeat this on-demand for your team.\n",
    "\n",
    "To do this with Python:\n",
    "- Use the <code>requests</code> library to access data of interest.\n",
    "- Use the <code>json</code> library to represent the data in a transferable file format.\n",
    "- Use the <code>pandas</code> library and built-in python functionality to engineer the data consistently.\n",
    "- Use the <code>os</code> library to generate filepaths.\n",
    "- Use the <code>time</code> library to count how long a process takes.\n",
    "- use the <code>arcgis</code> library (ArcGIS API for Python) to search for and the hosted feature layer into the map.\n",
    "- Use the <code>arcpy</code> library to:.\n",
    " - Generate create a table for each weather station.\n",
    " - Add the value precipitation value to the appropriate table.\n",
    " - Update the precipitation value in the hosted feature layer.\n",
    " \n",
    "By combining <code>arcpy</code> and <code>arcgis</code> with built-in Python functionality and open source python libraries, you can automate all of the steps in this process. This ensures the process is completed with out error and in significantly less time."
   ]
  },
  {
   "cell_type": "markdown",
   "metadata": {},
   "source": [
    "## Prepare the notebook for the task"
   ]
  },
  {
   "cell_type": "markdown",
   "metadata": {},
   "source": [
    "### Import libraries"
   ]
  },
  {
   "cell_type": "code",
   "execution_count": 1,
   "metadata": {},
   "outputs": [],
   "source": [
    "%reset -f\n",
    "import requests\n",
    "import json\n",
    "import pandas as pd\n",
    "import os\n",
    "import time\n",
    "from arcgis import GIS\n",
    "import arcgis"
   ]
  },
  {
   "cell_type": "markdown",
   "metadata": {},
   "source": [
    "### Access a web layer using the ArcGIS API for Python"
   ]
  },
  {
   "cell_type": "markdown",
   "metadata": {},
   "source": [
    "With the ArcGIS API for Python, your GIS is represented through <code>arcgis.GIS()</code>. This provides access to content and members for the ArcGIS Online or Enterprise organization."
   ]
  },
  {
   "cell_type": "code",
   "execution_count": 2,
   "metadata": {},
   "outputs": [],
   "source": [
    "gis = GIS('Pro')"
   ]
  },
  {
   "cell_type": "markdown",
   "metadata": {},
   "source": [
    "<code>gis.content.search()</code> let's you search for and access content in your portal."
   ]
  },
  {
   "cell_type": "code",
   "execution_count": 3,
   "metadata": {},
   "outputs": [
    {
     "data": {
      "text/html": [
       "<div class=\"item_container\" style=\"height: auto; overflow: hidden; border: 1px solid #cfcfcf; border-radius: 2px; background: #f6fafa; line-height: 1.21429em; padding: 10px;\">\n",
       "                    <div class=\"item_left\" style=\"width: 210px; float: left;\">\n",
       "                       <a href='https://www.arcgis.com//home/item.html?id=a6c4e3549a454c2ba1edeb66b4b91c92' target='_blank'>\n",
       "                        <img src='data:image/png;base64,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' width='200' height='133' class=\"itemThumbnail\">\n",
       "                       </a>\n",
       "                    </div>\n",
       "\n",
       "                    <div class=\"item_right\"     style=\"float: none; width: auto; overflow: hidden;\">\n",
       "                        <a href='https://www.arcgis.com//home/item.html?id=a6c4e3549a454c2ba1edeb66b4b91c92' target='_blank'><b>GHCNDStations</b>\n",
       "                        </a>\n",
       "                        <br/>This data is select stations of the Global Historical Climate Network. This data is to be used for educational and training purposes.<img src='https://www.arcgis.com//home/js/jsapi/esri/css/images/item_type_icons/featureshosted16.png' style=\"vertical-align:middle;\">Feature Layer Collection by tkinlaw_EsriEdDelivery\n",
       "                        <br/>Last Modified: July 06, 2023\n",
       "                        <br/>0 comments, 0 views\n",
       "                    </div>\n",
       "                </div>\n",
       "                "
      ],
      "text/plain": [
       "<Item title:\"GHCNDStations\" type:Feature Layer Collection owner:tkinlaw_EsriEdDelivery>"
      ]
     },
     "metadata": {},
     "output_type": "display_data"
    }
   ],
   "source": [
    "searchResults = gis.content.search(query=\"title:GHCND Stations\", item_type = \"Feature Layer\")\n",
    "display(searchResults[0])"
   ]
  },
  {
   "cell_type": "markdown",
   "metadata": {},
   "source": [
    "Returned is a feature layer collection. Using the <code>[0]</code> at the end of <code>searchResults[0].layers[0]</code> grabs the first feature layer in this collection, which is the weather stations layer."
   ]
  },
  {
   "cell_type": "code",
   "execution_count": 4,
   "metadata": {},
   "outputs": [],
   "source": [
    "featureLayer = searchResults[0].layers[0]"
   ]
  },
  {
   "cell_type": "markdown",
   "metadata": {},
   "source": [
    "<code>arcpy.mp</code> provides tools to automate project management and mapping functionality. The code below does the following:\n",
    "- <code>arcpy.mp.ArcGISProject(\"CURRENT\")</code> provides a reference to the opened ArcGIS Pro project, stored in the <code>aprx</code> variable.\n",
    "- <code>aprx.listMaps(\"GH Climate Network\")[0]</code> reads all the map names in the project, and represents the one map titled 'GH Climate Network\".<code></code>\n",
    "- <code>[lyr.name for lyr in ghcndMap.listLayers()]</code> generates a list of layer names\n",
    "- The <code>if-else</code> statement adds the feature layer to the map if it is not already in the map."
   ]
  },
  {
   "cell_type": "code",
   "execution_count": 5,
   "metadata": {},
   "outputs": [
    {
     "name": "stdout",
     "output_type": "stream",
     "text": [
      "The GHCNDStations layer has been added to the GH Climate Network map\n"
     ]
    }
   ],
   "source": [
    "aprx = arcpy.mp.ArcGISProject(\"CURRENT\")\n",
    "ghcndMap = aprx.listMaps(\"GH Climate Network\")[0]\n",
    "lyrNames = [lyr.name for lyr in ghcndMap.listLayers()]\n",
    "\n",
    "if \"GHCNDStations\" not in lyrNames:\n",
    "    ghcndMap.addDataFromPath(featureLayer.url)\n",
    "    print(f\"The {featureLayer.properties.name} layer has been added to the {ghcndMap.name} map\")\n",
    "else:\n",
    "    print(f\"The {featureLayer.properties.name} layer is already in the {ghcndMap.name} map\")"
   ]
  },
  {
   "cell_type": "markdown",
   "metadata": {},
   "source": [
    "This web layer (<code>GHCNDStations</code>) will be used for two tasks:\n",
    "- First, we will use a selection tool to select stations that we want the updated values for.\n",
    "- Second, later in the script, we will update the precipitation value for each station using the information acquired through the <code>requests</code> library."
   ]
  },
  {
   "cell_type": "markdown",
   "metadata": {},
   "source": [
    "## Access data from a NOAA web service"
   ]
  },
  {
   "cell_type": "markdown",
   "metadata": {},
   "source": [
    "### Generate a request for select stations"
   ]
  },
  {
   "cell_type": "markdown",
   "metadata": {},
   "source": [
    "The <code>requests</code> library uses a python <code>string</code> to submit a request the server. We will interact with the results in JSON format. We then use the <code>json</code> liibrary to extract just the data in a transferable file format. Then, we convert the json data into a <code>pandas</code> DataFrame. A <code>pandas</code> DataFrame is a powerful python class for slicing, dicing, querying, and manipulating data in tabular form.\n",
    "\n",
    "Typing out the request manually is time-consuming and challenging. In line 5 of this code, you will see <code>stationid=</code>. This is where you would type out the name of each weather station. This is burdensome.\n",
    "\n",
    "Instead of typing out the stationids manually, we will use <code>arcpy.da.SearchCursor</code> to extract the names of the weather stations for us based on our layer selection in an ArcGIS Pro map.\n",
    "- When using Notebooks in ArcGIS Pro, you can work directly with the layers in a map.\n",
    "- Selections are honored when using layers in a map.\n",
    "- You can use the selection tools to generate the list for you, prior to running the cell below .\n",
    "- If no selection is present, all weather stationids will be used.\n",
    "- The syntax for the request requires that each <code>stationid</code> is seperated by a comma. \n",
    "- The Python <code>string</code> method <code>join()</code> places a comma between each <code>stationid</code>."
   ]
  },
  {
   "cell_type": "code",
   "execution_count": 6,
   "metadata": {},
   "outputs": [
    {
     "name": "stdout",
     "output_type": "stream",
     "text": [
      "GHCND:USC00318906,GHCND:USC00314996,GHCND:USC00317618,GHCND:USC00311538,GHCND:USW00053878,GHCND:USC00313976,GHCND:USW00053872,GHCND:USC00315771,GHCND:USC00313152,GHCND:USC00316805,GHCND:USC00314764,GHCND:USW00053870,GHCND:USC00314997,GHCND:USW00013881,GHCND:USC00311975,GHCND:USC00312574,GHCND:USW00003812,GHCND:USC00318744,GHCND:USC00317845\n"
     ]
    },
    {
     "data": {
      "text/html": [
       "<div>\n",
       "<style scoped>\n",
       "    .dataframe tbody tr th:only-of-type {\n",
       "        vertical-align: middle;\n",
       "    }\n",
       "\n",
       "    .dataframe tbody tr th {\n",
       "        vertical-align: top;\n",
       "    }\n",
       "\n",
       "    .dataframe thead th {\n",
       "        text-align: right;\n",
       "    }\n",
       "</style>\n",
       "<table border=\"1\" class=\"dataframe\">\n",
       "  <thead>\n",
       "    <tr style=\"text-align: right;\">\n",
       "      <th></th>\n",
       "      <th>date</th>\n",
       "      <th>datatype</th>\n",
       "      <th>station</th>\n",
       "      <th>value</th>\n",
       "    </tr>\n",
       "  </thead>\n",
       "  <tbody>\n",
       "    <tr>\n",
       "      <th>0</th>\n",
       "      <td>2022-06-15</td>\n",
       "      <td>PRCP</td>\n",
       "      <td>GHCND:USC00311538</td>\n",
       "      <td>0</td>\n",
       "    </tr>\n",
       "    <tr>\n",
       "      <th>1</th>\n",
       "      <td>2022-06-15</td>\n",
       "      <td>PRCP</td>\n",
       "      <td>GHCND:USC00311975</td>\n",
       "      <td>20</td>\n",
       "    </tr>\n",
       "    <tr>\n",
       "      <th>2</th>\n",
       "      <td>2022-06-15</td>\n",
       "      <td>PRCP</td>\n",
       "      <td>GHCND:USC00312574</td>\n",
       "      <td>0</td>\n",
       "    </tr>\n",
       "    <tr>\n",
       "      <th>3</th>\n",
       "      <td>2022-06-15</td>\n",
       "      <td>PRCP</td>\n",
       "      <td>GHCND:USC00313152</td>\n",
       "      <td>0</td>\n",
       "    </tr>\n",
       "    <tr>\n",
       "      <th>4</th>\n",
       "      <td>2022-06-15</td>\n",
       "      <td>PRCP</td>\n",
       "      <td>GHCND:USC00313976</td>\n",
       "      <td>5</td>\n",
       "    </tr>\n",
       "    <tr>\n",
       "      <th>5</th>\n",
       "      <td>2022-06-15</td>\n",
       "      <td>PRCP</td>\n",
       "      <td>GHCND:USC00314764</td>\n",
       "      <td>13</td>\n",
       "    </tr>\n",
       "    <tr>\n",
       "      <th>6</th>\n",
       "      <td>2022-06-15</td>\n",
       "      <td>PRCP</td>\n",
       "      <td>GHCND:USC00314996</td>\n",
       "      <td>0</td>\n",
       "    </tr>\n",
       "    <tr>\n",
       "      <th>7</th>\n",
       "      <td>2022-06-15</td>\n",
       "      <td>PRCP</td>\n",
       "      <td>GHCND:USC00314997</td>\n",
       "      <td>38</td>\n",
       "    </tr>\n",
       "    <tr>\n",
       "      <th>8</th>\n",
       "      <td>2022-06-15</td>\n",
       "      <td>PRCP</td>\n",
       "      <td>GHCND:USC00315771</td>\n",
       "      <td>15</td>\n",
       "    </tr>\n",
       "    <tr>\n",
       "      <th>9</th>\n",
       "      <td>2022-06-15</td>\n",
       "      <td>PRCP</td>\n",
       "      <td>GHCND:USC00316805</td>\n",
       "      <td>76</td>\n",
       "    </tr>\n",
       "  </tbody>\n",
       "</table>\n",
       "</div>"
      ],
      "text/plain": [
       "        date datatype            station  value\n",
       "0 2022-06-15     PRCP  GHCND:USC00311538      0\n",
       "1 2022-06-15     PRCP  GHCND:USC00311975     20\n",
       "2 2022-06-15     PRCP  GHCND:USC00312574      0\n",
       "3 2022-06-15     PRCP  GHCND:USC00313152      0\n",
       "4 2022-06-15     PRCP  GHCND:USC00313976      5\n",
       "5 2022-06-15     PRCP  GHCND:USC00314764     13\n",
       "6 2022-06-15     PRCP  GHCND:USC00314996      0\n",
       "7 2022-06-15     PRCP  GHCND:USC00314997     38\n",
       "8 2022-06-15     PRCP  GHCND:USC00315771     15\n",
       "9 2022-06-15     PRCP  GHCND:USC00316805     76"
      ]
     },
     "execution_count": 6,
     "metadata": {},
     "output_type": "execute_result"
    }
   ],
   "source": [
    "lyr = 'GHCNDStations'\n",
    "layerSrc = arcpy.da.SearchCursor(lyr, \"STATION_ID\")\n",
    "listNames = ','.join([row[0] for row in layerSrc])\n",
    "del layerSrc\n",
    "print(listNames)\n",
    "\n",
    "date = '2022-06-15'\n",
    "\n",
    "r = requests.get('https://www.ncei.noaa.gov/cdo-web/api/v2/data?datasetid=GHCND&datatypeid=PRCP&stationid=' + listNames + '&startdate=' + date + '&enddate=' + date + '', headers={'token':\"VuErdRKUcmflRtQQoDtKcetOXataWGfD\"})\n",
    "j = json.dumps(r.json()['results'], indent=5)\n",
    "df = pd.read_json(j).drop(['attributes'],axis=1)\n",
    "df.head(10)"
   ]
  },
  {
   "cell_type": "markdown",
   "metadata": {},
   "source": [
    "### Engineering the data"
   ]
  },
  {
   "cell_type": "markdown",
   "metadata": {},
   "source": [
    "We will perform common data engineering tasks to extract the useful data from this web service. The code below will:\n",
    "- Explore our data by seeing how many weather stations we have data for.\n",
    " - <code>df['station']</code> provides just name of weather stations.\n",
    " - The <code>unique()</code> method returns the distinct name of weather stations, removing any duplicates.\n",
    " - The Python built-in function <code>len()</code> returns the number of unique stations returned by the <code>unique()</code> method.\n",
    "- Ensure we only have <code>PRCP</code> values (as opposed to other weather variables).\n",
    "- Convert the numeric value from millimeters to inches (divide mm by 25.4).\n",
    " - Store the new values in a new field, <code>values_inches</code>.\n",
    " - Round the values to simply the data using <code>round()</code>.\n",
    " - Drop the original field, <code>values</code> now that we have a new field, <code>value_inches</code>.\n",
    " \n",
    " When engineering data in python, you are often working with a representation of your data. You can engineer the data however you like, and not affect the source data itself. This enables you to quickly test code without the risk of unintended edits."
   ]
  },
  {
   "cell_type": "code",
   "execution_count": 7,
   "metadata": {},
   "outputs": [
    {
     "name": "stdout",
     "output_type": "stream",
     "text": [
      "You are working with 19 weather stations\n"
     ]
    }
   ],
   "source": [
    "print(f\"You are working with {len(df['station'].unique())} weather stations\")"
   ]
  },
  {
   "cell_type": "code",
   "execution_count": 8,
   "metadata": {},
   "outputs": [
    {
     "data": {
      "text/html": [
       "<div>\n",
       "<style scoped>\n",
       "    .dataframe tbody tr th:only-of-type {\n",
       "        vertical-align: middle;\n",
       "    }\n",
       "\n",
       "    .dataframe tbody tr th {\n",
       "        vertical-align: top;\n",
       "    }\n",
       "\n",
       "    .dataframe thead th {\n",
       "        text-align: right;\n",
       "    }\n",
       "</style>\n",
       "<table border=\"1\" class=\"dataframe\">\n",
       "  <thead>\n",
       "    <tr style=\"text-align: right;\">\n",
       "      <th></th>\n",
       "      <th>date</th>\n",
       "      <th>datatype</th>\n",
       "      <th>station</th>\n",
       "      <th>value_inches</th>\n",
       "    </tr>\n",
       "  </thead>\n",
       "  <tbody>\n",
       "    <tr>\n",
       "      <th>0</th>\n",
       "      <td>2022-06-15</td>\n",
       "      <td>PRCP</td>\n",
       "      <td>GHCND:USC00311538</td>\n",
       "      <td>0.00000</td>\n",
       "    </tr>\n",
       "    <tr>\n",
       "      <th>1</th>\n",
       "      <td>2022-06-15</td>\n",
       "      <td>PRCP</td>\n",
       "      <td>GHCND:USC00311975</td>\n",
       "      <td>0.78740</td>\n",
       "    </tr>\n",
       "    <tr>\n",
       "      <th>2</th>\n",
       "      <td>2022-06-15</td>\n",
       "      <td>PRCP</td>\n",
       "      <td>GHCND:USC00312574</td>\n",
       "      <td>0.00000</td>\n",
       "    </tr>\n",
       "    <tr>\n",
       "      <th>3</th>\n",
       "      <td>2022-06-15</td>\n",
       "      <td>PRCP</td>\n",
       "      <td>GHCND:USC00313152</td>\n",
       "      <td>0.00000</td>\n",
       "    </tr>\n",
       "    <tr>\n",
       "      <th>4</th>\n",
       "      <td>2022-06-15</td>\n",
       "      <td>PRCP</td>\n",
       "      <td>GHCND:USC00313976</td>\n",
       "      <td>0.19685</td>\n",
       "    </tr>\n",
       "    <tr>\n",
       "      <th>5</th>\n",
       "      <td>2022-06-15</td>\n",
       "      <td>PRCP</td>\n",
       "      <td>GHCND:USC00314764</td>\n",
       "      <td>0.51181</td>\n",
       "    </tr>\n",
       "    <tr>\n",
       "      <th>6</th>\n",
       "      <td>2022-06-15</td>\n",
       "      <td>PRCP</td>\n",
       "      <td>GHCND:USC00314996</td>\n",
       "      <td>0.00000</td>\n",
       "    </tr>\n",
       "    <tr>\n",
       "      <th>7</th>\n",
       "      <td>2022-06-15</td>\n",
       "      <td>PRCP</td>\n",
       "      <td>GHCND:USC00314997</td>\n",
       "      <td>1.49606</td>\n",
       "    </tr>\n",
       "    <tr>\n",
       "      <th>8</th>\n",
       "      <td>2022-06-15</td>\n",
       "      <td>PRCP</td>\n",
       "      <td>GHCND:USC00315771</td>\n",
       "      <td>0.59055</td>\n",
       "    </tr>\n",
       "    <tr>\n",
       "      <th>9</th>\n",
       "      <td>2022-06-15</td>\n",
       "      <td>PRCP</td>\n",
       "      <td>GHCND:USC00316805</td>\n",
       "      <td>2.99213</td>\n",
       "    </tr>\n",
       "  </tbody>\n",
       "</table>\n",
       "</div>"
      ],
      "text/plain": [
       "        date datatype            station  value_inches\n",
       "0 2022-06-15     PRCP  GHCND:USC00311538       0.00000\n",
       "1 2022-06-15     PRCP  GHCND:USC00311975       0.78740\n",
       "2 2022-06-15     PRCP  GHCND:USC00312574       0.00000\n",
       "3 2022-06-15     PRCP  GHCND:USC00313152       0.00000\n",
       "4 2022-06-15     PRCP  GHCND:USC00313976       0.19685\n",
       "5 2022-06-15     PRCP  GHCND:USC00314764       0.51181\n",
       "6 2022-06-15     PRCP  GHCND:USC00314996       0.00000\n",
       "7 2022-06-15     PRCP  GHCND:USC00314997       1.49606\n",
       "8 2022-06-15     PRCP  GHCND:USC00315771       0.59055\n",
       "9 2022-06-15     PRCP  GHCND:USC00316805       2.99213"
      ]
     },
     "execution_count": 8,
     "metadata": {},
     "output_type": "execute_result"
    }
   ],
   "source": [
    "df.drop(df.loc[df['datatype']!=\"PRCP\"].index, inplace=True)\n",
    "df['value_inches'] = round(df['value']/25.4, 5)\n",
    "df.drop(columns='value', inplace=True)\n",
    "df.head(10)"
   ]
  },
  {
   "cell_type": "markdown",
   "metadata": {},
   "source": [
    "## Integrate the NOAA web service data into a geodatabase table"
   ]
  },
  {
   "cell_type": "markdown",
   "metadata": {},
   "source": [
    "### Create a unique table for each station"
   ]
  },
  {
   "cell_type": "markdown",
   "metadata": {},
   "source": [
    "We have a feature layer of the weather stations of interest. We need a table for each weather station to hold the weather data.\n",
    "- We will generate a list of the weather stations we want tables for\n",
    "- Then create a table for each weather station, unless there is an existing one"
   ]
  },
  {
   "cell_type": "markdown",
   "metadata": {},
   "source": [
    "#### Generate a list of all the weather stations from the feature class"
   ]
  },
  {
   "cell_type": "markdown",
   "metadata": {},
   "source": [
    "<code>arcpy.da.SearchCursor()</code> is used to read the data from the web layer. As we read each feature, extract the name of the weather stations in the data for later use."
   ]
  },
  {
   "cell_type": "code",
   "execution_count": 13,
   "metadata": {
    "scrolled": true
   },
   "outputs": [],
   "source": [
    "targetGDB = r\"C:\\Demos\\UC2023\\PythonAutomation\\GHCN_Tables.gdb\"\n",
    "\n",
    "src = arcpy.da.SearchCursor(lyr, \"Station_ID\")\n",
    "\n",
    "stationList = []\n",
    "for row in src:\n",
    "    stationName = row[0][6:]\n",
    "    stationList.append(stationName)"
   ]
  },
  {
   "cell_type": "markdown",
   "metadata": {},
   "source": [
    "#### Create a table for each station with fields for: station name, date, and value"
   ]
  },
  {
   "cell_type": "markdown",
   "metadata": {},
   "source": [
    "We will use the <code>arcpy.EnvManager()</code> to temporarily apply these environment settings: \n",
    "- <code>addOutputsToMap = False</code>prevents outputs from being added to the map, since we are potentially creating dozens of tables.\n",
    "- <code>workspace = targetGDB</code> points <code>arcpy</code> to where our weather station tables are.\n",
    "\n",
    "While using these environment settings we:\n",
    "- Use <code>os.path.join()</code> to stitch together a valid filepath to the table being processed.\n",
    "- Use <code>arcpy.Exists()</code> to see if the table already exists. \n",
    "- Using built-in Python functionality, conditionally run code using the <code>if-else statement</code>.\n",
    " - If the station is already a table (the data does exist), then just <code>print</code> that this is the case.\n",
    " - Otherwise (should the table not exist), create the table and add fields to it."
   ]
  },
  {
   "cell_type": "code",
   "execution_count": 14,
   "metadata": {
    "scrolled": true
   },
   "outputs": [
    {
     "name": "stdout",
     "output_type": "stream",
     "text": [
      "This station already has a table: USC00318906\n",
      "This station already has a table: USC00314996\n",
      "This station already has a table: USC00317618\n",
      "This station already has a table: USC00311538\n",
      "Table created for station: USW00053878\n",
      "This station already has a table: USC00313976\n",
      "Table created for station: USW00053872\n",
      "This station already has a table: USC00315771\n",
      "This station already has a table: USC00313152\n",
      "This station already has a table: USC00316805\n",
      "This station already has a table: USC00314764\n",
      "This station already has a table: USW00053870\n",
      "This station already has a table: USC00314997\n",
      "This station already has a table: USW00013881\n",
      "This station already has a table: USC00311975\n",
      "This station already has a table: USC00312574\n",
      "This station already has a table: USW00003812\n",
      "This station already has a table: USC00318744\n",
      "This station already has a table: USC00317845\n",
      "Tables for weather stations verified\n"
     ]
    }
   ],
   "source": [
    "with arcpy.EnvManager(addOutputsToMap = False, workspace = targetGDB):\n",
    "    for station in stationList:\n",
    "        newTable = os.path.join(targetGDB, station)\n",
    "        if arcpy.Exists(station):\n",
    "            print(f\"This station already has a table: {station}\")\n",
    "        else:\n",
    "            arcpy.management.CreateTable(targetGDB, station)\n",
    "            arcpy.management.AddFields(newTable, [[\"Precipitation\", \"FLOAT\", \"Precipitation (inches)\"], [\"Date\", \"DATE\"]])\n",
    "            print(f\"Table created for station: {station}\")\n",
    "print(\"Tables for weather stations verified\")"
   ]
  },
  {
   "cell_type": "markdown",
   "metadata": {},
   "source": [
    "#### Add the data from the service to the respective table and transform the data to reflect inches of precipitation."
   ]
  },
  {
   "cell_type": "markdown",
   "metadata": {},
   "source": [
    "Functionality shown:\n",
    "- Using <code>time.time()</code> enables us to track how long the process takes\n",
    "- Iterate over every weather station in our list\n",
    "- Use <code>zip()</code> to efficiently iterate over each row in the <code>df</code> dataframe, and have variables (<code>s</code>, <code>v</code>, <code>d</code>) to call upon cell values\n",
    "- Use <code>arcpy.da.InsertCursor()</code> to add new records to the table"
   ]
  },
  {
   "cell_type": "code",
   "execution_count": 15,
   "metadata": {
    "scrolled": true
   },
   "outputs": [
    {
     "name": "stdout",
     "output_type": "stream",
     "text": [
      "GHCND:USC00311538 0.0 2022-06-15 00:00:00\n",
      "Data added to: USC00311538 from GHCND:USC00311538\n",
      "\n",
      "GHCND:USC00311975 0.7874 2022-06-15 00:00:00\n",
      "Data added to: USC00311975 from GHCND:USC00311975\n",
      "\n",
      "GHCND:USC00312574 0.0 2022-06-15 00:00:00\n",
      "Data added to: USC00312574 from GHCND:USC00312574\n",
      "\n",
      "GHCND:USC00313152 0.0 2022-06-15 00:00:00\n",
      "Data added to: USC00313152 from GHCND:USC00313152\n",
      "\n",
      "GHCND:USC00313976 0.19685 2022-06-15 00:00:00\n",
      "Data added to: USC00313976 from GHCND:USC00313976\n",
      "\n",
      "GHCND:USC00314764 0.51181 2022-06-15 00:00:00\n",
      "Data added to: USC00314764 from GHCND:USC00314764\n",
      "\n",
      "GHCND:USC00314996 0.0 2022-06-15 00:00:00\n",
      "Data added to: USC00314996 from GHCND:USC00314996\n",
      "\n",
      "GHCND:USC00314997 1.49606 2022-06-15 00:00:00\n",
      "Data added to: USC00314997 from GHCND:USC00314997\n",
      "\n",
      "GHCND:USC00315771 0.59055 2022-06-15 00:00:00\n",
      "Data added to: USC00315771 from GHCND:USC00315771\n",
      "\n",
      "GHCND:USC00316805 2.99213 2022-06-15 00:00:00\n",
      "Data added to: USC00316805 from GHCND:USC00316805\n",
      "\n",
      "GHCND:USC00317618 0.0 2022-06-15 00:00:00\n",
      "Data added to: USC00317618 from GHCND:USC00317618\n",
      "\n",
      "GHCND:USC00317845 6.29921 2022-06-15 00:00:00\n",
      "Data added to: USC00317845 from GHCND:USC00317845\n",
      "\n",
      "GHCND:USC00318744 0.51181 2022-06-15 00:00:00\n",
      "Data added to: USC00318744 from GHCND:USC00318744\n",
      "\n",
      "GHCND:USC00318906 4.01575 2022-06-15 00:00:00\n",
      "Data added to: USC00318906 from GHCND:USC00318906\n",
      "\n",
      "GHCND:USW00003812 0.0 2022-06-15 00:00:00\n",
      "Data added to: USW00003812 from GHCND:USW00003812\n",
      "\n",
      "GHCND:USW00013881 0.0 2022-06-15 00:00:00\n",
      "Data added to: USW00013881 from GHCND:USW00013881\n",
      "\n",
      "GHCND:USW00053870 0.0 2022-06-15 00:00:00\n",
      "Data added to: USW00053870 from GHCND:USW00053870\n",
      "\n",
      "GHCND:USW00053872 0.0 2022-06-15 00:00:00\n",
      "Data added to: USW00053872 from GHCND:USW00053872\n",
      "\n",
      "GHCND:USW00053878 0.0 2022-06-15 00:00:00\n",
      "Data added to: USW00053878 from GHCND:USW00053878\n",
      "\n",
      "Adding the records to each table took: 1.08285 seconds\n"
     ]
    }
   ],
   "source": [
    "start = time.time()\n",
    "for s, v, d in zip(df['station'], df['value_inches'], df['date']):\n",
    "    print(f\"{s} {v} {d}\")\n",
    "    for station in stationList:\n",
    "        if station in s:\n",
    "            targetTable = os.path.join(targetGDB, station)\n",
    "            iCur = arcpy.da.InsertCursor(targetTable, [\"Precipitation\", \"Date\"])\n",
    "            iCur.insertRow([v, d])\n",
    "            print(f\"Data added to: {station} from {s}\\n\")\n",
    "            del iCur\n",
    "end = time.time()\n",
    "print(f\"Adding the records to each table took: {round(end-start, 5)} seconds\")"
   ]
  },
  {
   "cell_type": "markdown",
   "metadata": {},
   "source": [
    "## Update a hosted feature layer in ArcGIS Online"
   ]
  },
  {
   "cell_type": "markdown",
   "metadata": {},
   "source": [
    "We have a hosted feature layer in ArcGIS Online. On an on-demand basis, we want this layer to reflect these new temperature values. To keep this service light, we only want one record for each station, and one attribute field for precipitation values.\n",
    "- Use the <code>arcgis</code> library (ArcGIS API for Python) to access the service.\n",
    "- Update the precipitation value for each weather station.\n",
    "\n",
    "To do this manually, you would:\n",
    "- Bring the web layer in to a map in ArcGIS Pro\n",
    "- Open the attribute table for the web layer\n",
    "- For each feature in the web layer:\n",
    " - Locate the associated table in the geodatabase\n",
    " - Copy the precipitation value\n",
    " - Paste the precipitation value in the web layer (make sure you are on the right feature!)"
   ]
  },
  {
   "cell_type": "markdown",
   "metadata": {},
   "source": [
    "We need to compile a list of files paths to the tables storing the weather data. As we iterate over the stations in the web layer, update the recent precipitation value to the web layer.\n",
    "- <code>arcpy.ListTables()</code> function will create a list of the tables in a workspace. This will be all tables, regardless of our selection from earlier.\n",
    "- We will conver the list of all weather station tables to a Python <code>set</code>. This data type enables us to easily extract the commonalities between the list of all tables and the list of weather stations from the selection.\n",
    "- Then, convert the <code>set</code> back to a <code>list</code> so we can iterate over it using a <code>for</code> loop."
   ]
  },
  {
   "cell_type": "code",
   "execution_count": 16,
   "metadata": {},
   "outputs": [
    {
     "name": "stdout",
     "output_type": "stream",
     "text": [
      "['USC00315771', 'USC00314996', 'USW00053872', 'USC00316805', 'USC00314764', 'USC00313152', 'USW00013881', 'USW00003812', 'USW00053878', 'USC00317618', 'USC00317845', 'USW00053870', 'USC00312574', 'USC00318906', 'USC00318744', 'USC00311538', 'USC00311975', 'USC00314997', 'USC00313976']\n"
     ]
    }
   ],
   "source": [
    "allTablesList = arcpy.ListTables()\n",
    "tablesList = list(set(allTablesList).intersection(stationList))\n",
    "print(tablesList)"
   ]
  },
  {
   "cell_type": "code",
   "execution_count": 17,
   "metadata": {
    "scrolled": true
   },
   "outputs": [
    {
     "name": "stdout",
     "output_type": "stream",
     "text": [
      "USC00318906 precipitation value set to 4.016\n",
      "USC00314996 precipitation value set to 0.0\n",
      "USC00317618 precipitation value set to 0.0\n",
      "USC00311538 precipitation value set to 0.0\n",
      "USW00053878 precipitation value set to 0.0\n",
      "USC00313976 precipitation value set to 0.197\n",
      "USW00053872 precipitation value set to 0.0\n",
      "USC00315771 precipitation value set to 0.591\n",
      "USC00313152 precipitation value set to 0.0\n",
      "USC00316805 precipitation value set to 2.992\n",
      "USC00314764 precipitation value set to 0.512\n",
      "USW00053870 precipitation value set to 0.0\n",
      "USC00314997 precipitation value set to 1.496\n",
      "USW00013881 precipitation value set to 0.0\n",
      "USC00311975 precipitation value set to 0.787\n",
      "USC00312574 precipitation value set to 0.0\n",
      "USW00003812 precipitation value set to 0.0\n",
      "USC00318744 precipitation value set to 0.512\n",
      "USC00317845 precipitation value set to 6.299\n",
      "There were 19 stations updated. \n",
      "Done.\n"
     ]
    }
   ],
   "source": [
    "updatesMade = 0\n",
    "\n",
    "sFieldsList=[]\n",
    "[sFieldsList.append(field.name) for field in arcpy.ListFields(tablesList[0]) if field.type != \"OID\" ]\n",
    "\n",
    "uFieldsList=['STATION_ID', 'RecentPRCPInches']\n",
    "uCur = arcpy.da.UpdateCursor(featureLayer.properties.name, uFieldsList)\n",
    "\n",
    "for uRow in uCur:\n",
    "    for station in tablesList:\n",
    "        if uRow[0][6:] == station:\n",
    "            srcTable = arcpy.da.SearchCursor(station, sFieldsList)\n",
    "            for sRow in srcTable:\n",
    "                pass\n",
    "            # We only want the last edit/law record. So, iterate over all records in the search cursor. Then, use that last value (uRow)\n",
    "            updatesMade+=1\n",
    "            uRow[1] = round(sRow[0], 3)\n",
    "            print(f\"{uRow[0][6:]} precipitation value set to {uRow[1]}\")\n",
    "            uCur.updateRow(uRow)\n",
    "            del srcTable\n",
    "del uCur\n",
    "print(f\"There were {updatesMade} stations updated. \\nDone.\")"
   ]
  }
 ],
 "metadata": {
  "kernelspec": {
   "display_name": "Python 3 (ipykernel)",
   "language": "python",
   "name": "python3"
  },
  "language_info": {
   "file_extension": ".py",
   "name": "python",
   "version": "3"
  }
 },
 "nbformat": 4,
 "nbformat_minor": 2
}
