{
 "cells": [
  {
   "attachments": {},
   "cell_type": "markdown",
   "metadata": {},
   "source": [
    "Place the code below in the Code block parameter for the Field Calculator tool in ArcGIS Pro.\n",
    "\n",
    "This code examines a ZIP 3 field and adds leading zeros to the front, if needed.\n",
    "\n",
    "Puerto Rico, the NE, and other areas' ZIP codes start with leading zeros which are often dropped when importing a CSV into a geodatabase.\n",
    "\n",
    "ZIP3 is the first 3 digits of a ZIP code. There are multiple ZIP codes in a ZIP3. This needs fact checked, but I think it's true: there is one USPS processing plant in each ZIP3.\n",
    "\n",
    "![NE ZIP3s](Images/ZIP3s.png \"ZIP3s\")"
   ]
  },
  {
   "cell_type": "code",
   "execution_count": null,
   "metadata": {},
   "outputs": [],
   "source": [
    "def addZerosZIP3(zip):\n",
    "    x = str(zip)\n",
    "    if len(x) == 1:\n",
    "        x = \"00\" + x\n",
    "    if len(x) == 2:\n",
    "        x = \"0\" + x\n",
    "    else:\n",
    "        pass\n",
    "    return x"
   ]
  },
  {
   "attachments": {},
   "cell_type": "markdown",
   "metadata": {},
   "source": [
    "Remember to fill out the expression parameter above the code block, using this function. Example:\n",
    "\n",
    "![Field Calculator parameters](Images/AddZerosZIP3.png \"Parameters\")"
   ]
  },
  {
   "attachments": {},
   "cell_type": "markdown",
   "metadata": {},
   "source": []
  }
 ],
 "metadata": {
  "language_info": {
   "name": "python"
  },
  "orig_nbformat": 4
 },
 "nbformat": 4,
 "nbformat_minor": 2
}
