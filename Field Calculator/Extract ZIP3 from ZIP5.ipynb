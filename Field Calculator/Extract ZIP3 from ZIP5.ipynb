{
 "cells": [
  {
   "attachments": {},
   "cell_type": "markdown",
   "metadata": {},
   "source": [
    "This code is a function for ArcGIS Pro's Field Calculator tool. This will extract the ZIP3 code from a ZIP 5 code. And, ensures that there are elading zeros at the front."
   ]
  },
  {
   "cell_type": "code",
   "execution_count": null,
   "metadata": {},
   "outputs": [],
   "source": [
    "def extractZIP3(zip):\n",
    "    x = str(zip)\n",
    "    if len(x) == 3:\n",
    "        x = \"00\" + x\n",
    "    if len(x) == 4:\n",
    "        x = \"0\" + x\n",
    "    else:\n",
    "        pass\n",
    "    zip3 = x[:-2]\n",
    "    return zip3"
   ]
  },
  {
   "attachments": {},
   "cell_type": "markdown",
   "metadata": {},
   "source": [
    "Remember to fill out the expression parameter above the code block, using this function. Example:\n",
    "\n",
    "![Field Calculator parameters](ExtractZIP3.png \"Parameters\")"
   ]
  },
  {
   "attachments": {},
   "cell_type": "markdown",
   "metadata": {},
   "source": []
  }
 ],
 "metadata": {
  "language_info": {
   "name": "python"
  },
  "orig_nbformat": 4
 },
 "nbformat": 4,
 "nbformat_minor": 2
}
