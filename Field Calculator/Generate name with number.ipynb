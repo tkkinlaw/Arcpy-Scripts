{
 "cells": [
  {
   "cell_type": "markdown",
   "metadata": {},
   "source": [
    "This function grabs the OBJECT ID, though any field could do depending on what you want, and add it after the word \"Distributor \" for each feature."
   ]
  },
  {
   "cell_type": "code",
   "execution_count": null,
   "metadata": {},
   "outputs": [],
   "source": [
    "def addName(field):\n",
    "    name = f\"Distributor {int(field)}\"\n",
    "    return name"
   ]
  }
 ],
 "metadata": {
  "language_info": {
   "name": "python"
  }
 },
 "nbformat": 4,
 "nbformat_minor": 2
}
