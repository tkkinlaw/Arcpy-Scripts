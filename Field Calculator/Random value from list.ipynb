{
 "cells": [
  {
   "cell_type": "markdown",
   "metadata": {},
   "source": [
    "This function provides each feature with a random value from a defined list."
   ]
  },
  {
   "cell_type": "code",
   "execution_count": null,
   "metadata": {},
   "outputs": [],
   "source": [
    "import random\n",
    "\n",
    "matList = [\"Plastics\", \"Metals\", \"Steel\", \"Aluminum\"]\n",
    "\n",
    "def addMat():\n",
    "    mat = random.choice(matList)\n",
    "    return mat"
   ]
  }
 ],
 "metadata": {
  "language_info": {
   "name": "python"
  }
 },
 "nbformat": 4,
 "nbformat_minor": 2
}
