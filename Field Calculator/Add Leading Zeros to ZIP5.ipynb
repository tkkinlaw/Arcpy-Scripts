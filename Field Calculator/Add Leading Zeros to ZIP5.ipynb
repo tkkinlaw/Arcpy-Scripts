{
 "cells": [
  {
   "attachments": {},
   "cell_type": "markdown",
   "metadata": {},
   "source": [
    "Place the code below in the Code block parameter for the Field Calculator tool in ArcGIS Pro.\n",
    "\n",
    "\n",
    "This code examines a ZIP and adds a leading 0 or 00 to it. \n",
    "\n",
    "Puerto Rico, the NE, and other areas' ZIP codes start with leading zeros which are often dropped when importing a CSV into a geodatabase."
   ]
  },
  {
   "cell_type": "code",
   "execution_count": null,
   "metadata": {},
   "outputs": [],
   "source": [
    "def addZerosZIP5(zip):\n",
    "    x = str(zip)\n",
    "    if len(x) == 3:\n",
    "        x = \"00\" + x\n",
    "    if len(x) == 4:\n",
    "        x = \"0\" + x\n",
    "    else:\n",
    "        pass\n",
    "    return x"
   ]
  },
  {
   "attachments": {},
   "cell_type": "markdown",
   "metadata": {},
   "source": [
    "Remember to fill out the expression parameter above the code block, using this function. Example:\n",
    "\n",
    "![Field Calculator parameters](AddZerosZIP5.png \"Parameters\")"
   ]
  },
  {
   "attachments": {},
   "cell_type": "markdown",
   "metadata": {},
   "source": []
  }
 ],
 "metadata": {
  "language_info": {
   "name": "python"
  },
  "orig_nbformat": 4
 },
 "nbformat": 4,
 "nbformat_minor": 2
}
