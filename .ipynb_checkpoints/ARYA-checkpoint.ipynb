{
 "cells": [
  {
   "cell_type": "markdown",
   "metadata": {},
   "source": [
    "# ARYA questions"
   ]
  },
  {
   "cell_type": "markdown",
   "metadata": {},
   "source": [
    "7 questions about python:\n",
    "- Recognize or troubleshoot file paths\n",
    "- Familiar with at least one type of string concatenation\n",
    "- Recognize Type Errors in python\n",
    "- Data type conversion\n",
    "- Understand vocabulary: property, method, object, class\n",
    "- Determine what output a code snippet will return\n",
    "- A scenario for if-elif-else understanding."
   ]
  },
  {
   "cell_type": "markdown",
   "metadata": {},
   "source": [
    "3 questions about ArcGIS Pro\n",
    "- Use of environment settings\n",
    "- A scenario to identify the appropriate workflow\n",
    "- Project organization and sharing question"
   ]
  },
  {
   "cell_type": "markdown",
   "metadata": {},
   "source": []
  },
  {
   "cell_type": "code",
   "execution_count": 2,
   "metadata": {},
   "outputs": [
    {
     "ename": "SyntaxError",
     "evalue": "(unicode error) 'unicodeescape' codec can't decode bytes in position 20-21: malformed \\N character escape (<string>, line 3)",
     "output_type": "error",
     "traceback": [
      "\u001b[0;31m---------------------------------------------------------------------------\u001b[0m\n\u001b[0;31mSyntaxError\u001b[0m                               Traceback (most recent call last)",
      "File \u001b[0;34mC:\\Program Files\\ArcGIS\\Pro\\bin\\Python\\envs\\arcgispro-py3\\Lib\\ast.py\u001b[0m, in \u001b[0;32mparse\u001b[0m:\nLine \u001b[0;34m50\u001b[0m:    \u001b[34mreturn\u001b[39;49;00m \u001b[36mcompile\u001b[39;49;00m(source, filename, mode, flags,\u001b[37m\u001b[39;49;00m\n",
      "\u001b[0;31mSyntaxError\u001b[0m: (unicode error) 'unicodeescape' codec can't decode bytes in position 20-21: malformed \\N character escape (<string>, line 3)\n\u001b[0;31m---------------------------------------------------------------------------\u001b[0m"
     ]
    }
   ],
   "source": [
    "# Question 1\n",
    "# Goal: the potential learner should recognize how to fix or troubleshoot an invalid filepath\n",
    "# What are ways to fix this Syntax Error?\n",
    "# - Change the string to a raw string\n",
    "# - Replace \\ with \\\\\n",
    "# - Replace \\ with //\n",
    "# - Remove the reference to the C-drive\n",
    "ncCountyGDB = \"C:\\EsriTraining\\PYTS\\North_Carolina\\CountyData.gdb\"\n",
    "print(ncCountyGDB)"
   ]
  },
  {
   "cell_type": "code",
   "execution_count": null,
   "metadata": {},
   "outputs": [],
   "source": [
    "# Quesiton 2"
   ]
  }
 ],
 "metadata": {
  "kernelspec": {
   "display_name": "ArcGISPro",
   "language": "Python",
   "name": "python3"
  },
  "language_info": {
   "file_extension": ".py",
   "name": "python",
   "version": "3"
  }
 },
 "nbformat": 4,
 "nbformat_minor": 2
}
