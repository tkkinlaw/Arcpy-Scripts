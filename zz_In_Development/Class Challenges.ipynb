{
 "cells": [
  {
   "cell_type": "markdown",
   "metadata": {},
   "source": [
    "# Challenges to learn more\n",
    "These are loosely written challenges, so that you can work with the data of your choosing."
   ]
  },
  {
   "cell_type": "code",
   "execution_count": null,
   "metadata": {
    "vscode": {
     "languageId": "plaintext"
    }
   },
   "outputs": [],
   "source": []
  },
  {
   "cell_type": "markdown",
   "metadata": {},
   "source": [
    "## Apply symbology from layer\n",
    "Incorporate the appply symbology from layer geoprocessing tool into a script to modify the symbology of the output of an analysis.\n",
    "https://pro.arcgis.com/en/pro-app/latest/tool-reference/data-management/apply-symbology-from-layer.htm"
   ]
  },
  {
   "cell_type": "code",
   "execution_count": null,
   "metadata": {
    "vscode": {
     "languageId": "plaintext"
    }
   },
   "outputs": [],
   "source": []
  },
  {
   "cell_type": "markdown",
   "metadata": {},
   "source": [
    "## Locate all nearby features\n",
    "Using course data, or yours, pick a a couple datasets within the same spatial extent. Write a script that lists all the features that are nearby each feature in a feature class. \n",
    "Example: You have a crime feature class. You want to know what other data in a map is near that feature. Iterate over each crime feature and print the attributes of all the data that are \"near\" that crime. You determine what \"near\" means (a distance threshold? the closest feature?)."
   ]
  },
  {
   "cell_type": "code",
   "execution_count": null,
   "metadata": {
    "vscode": {
     "languageId": "plaintext"
    }
   },
   "outputs": [],
   "source": []
  },
  {
   "cell_type": "markdown",
   "metadata": {},
   "source": [
    "## Spatial data inventory\n",
    "In lesson 3 we learned how to accesss data properties. In lesson 4 we learned creating lists GIS data. Create a script that outputs a csv file of all data at a location, and each dataset's spatial reference."
   ]
  },
  {
   "cell_type": "code",
   "execution_count": null,
   "metadata": {
    "vscode": {
     "languageId": "plaintext"
    }
   },
   "outputs": [],
   "source": []
  },
  {
   "cell_type": "markdown",
   "metadata": {},
   "source": [
    "## Lesson 5 exericse (but different)\n",
    "Do the lesson 5 exercise, but with pandas. Or, using geoprocessing tools from arcpy instead of using cursors."
   ]
  },
  {
   "cell_type": "code",
   "execution_count": null,
   "metadata": {
    "vscode": {
     "languageId": "plaintext"
    }
   },
   "outputs": [],
   "source": []
  },
  {
   "cell_type": "markdown",
   "metadata": {},
   "source": [
    "## Publish analysis results to the portal\n",
    "The arcpy.sharing module is not in the course content. If you want to learn a new set of tools, try using the tools in this module to share the results of a geoprocessing script.\n",
    "https://pro.arcgis.com/en/pro-app/3.1/arcpy/sharing/introduction-to-arcpy-sharing.htm"
   ]
  },
  {
   "cell_type": "code",
   "execution_count": null,
   "metadata": {
    "vscode": {
     "languageId": "plaintext"
    }
   },
   "outputs": [],
   "source": []
  },
  {
   "cell_type": "markdown",
   "metadata": {},
   "source": [
    "## Automate adding layers to a map\n",
    "The arcpy.mp module is not in the course content. If you want to learn a new set of tools, try using the tools in this module to add data to a map in a project with arcpy. \n",
    "https://pro.arcgis.com/en/pro-app/3.1/arcpy/mapping/introduction-to-arcpy-mp.htm"
   ]
  },
  {
   "cell_type": "code",
   "execution_count": null,
   "metadata": {
    "vscode": {
     "languageId": "plaintext"
    }
   },
   "outputs": [],
   "source": []
  },
  {
   "cell_type": "markdown",
   "metadata": {},
   "source": [
    "## Write your own script. Then, make a python script tool to share.\n",
    "Identify a workflow, however simple or complex, and then create a python script tool so that others can use it."
   ]
  },
  {
   "cell_type": "code",
   "execution_count": null,
   "metadata": {
    "vscode": {
     "languageId": "plaintext"
    }
   },
   "outputs": [],
   "source": []
  },
  {
   "cell_type": "markdown",
   "metadata": {},
   "source": [
    "## Write a script using a python script tool, instead of a geoprocessing tool\n",
    "After creating a python script tool, you can use the arcpy.ImportToolbox function for your tool to be accessible through arcpy. Write a script that uses your own python script tool in it. \n",
    "https://pro.arcgis.com/en/pro-app/latest/arcpy/functions/importtoolbox.htm"
   ]
  },
  {
   "cell_type": "code",
   "execution_count": null,
   "metadata": {
    "vscode": {
     "languageId": "plaintext"
    }
   },
   "outputs": [],
   "source": []
  },
  {
   "cell_type": "markdown",
   "metadata": {},
   "source": []
  }
 ],
 "metadata": {
  "language_info": {
   "name": "python"
  }
 },
 "nbformat": 4,
 "nbformat_minor": 2
}
