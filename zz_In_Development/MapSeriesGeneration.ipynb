{
 "cells": [
  {
   "cell_type": "code",
   "execution_count": 12,
   "metadata": {},
   "outputs": [],
   "source": [
    "import arcpy\n",
    "import os"
   ]
  },
  {
   "cell_type": "code",
   "execution_count": 13,
   "metadata": {},
   "outputs": [],
   "source": [
    "parcels = r\"C:\\EsriTraining\\PYTS\\Data\\CountyData.gdb\\ParcelPts\"\n",
    "arpxFile = r\"C:\\EsriTraining\\PYTS\\PYTSClass\\PYTSClass.aprx\"\n",
    "exp = '\"PriceSquFt\" <= 90'"
   ]
  },
  {
   "cell_type": "markdown",
   "metadata": {},
   "source": [
    "## Get the Parcels that meet the criteria"
   ]
  },
  {
   "cell_type": "code",
   "execution_count": 14,
   "metadata": {},
   "outputs": [
    {
     "data": {
      "text/plain": [
       "<arcpy._mp.Layer at 0x21978d5ed60>"
      ]
     },
     "execution_count": 14,
     "metadata": {},
     "output_type": "execute_result"
    }
   ],
   "source": [
    "uFields = ['SquFoot', 'TaxValue', 'PriceSquFt']\n",
    "with arcpy.da.UpdateCursor(parcels, uFields) as uCursor:\n",
    "    for row in uCursor:\n",
    "        row[2] = row[1] / row[0]\n",
    "        uCursor.updateRow(row)\n",
    "del uCursor\n",
    "\n",
    "parcelLyr = arcpy.management.SelectLayerByAttribute(in_layer_or_view=parcels, selection_type='NEW_SELECTION', where_clause=exp).getOutput(0) \n",
    "parcelLyr"
   ]
  },
  {
   "cell_type": "markdown",
   "metadata": {},
   "source": [
    "## Get the ArcGIS Pro Project"
   ]
  },
  {
   "cell_type": "code",
   "execution_count": 18,
   "metadata": {},
   "outputs": [
    {
     "data": {
      "text/plain": [
       "[<arcpy._mp.Layer at 0x21978ea3640>]"
      ]
     },
     "execution_count": 18,
     "metadata": {},
     "output_type": "execute_result"
    }
   ],
   "source": [
    "aprx = arcpy.mp.ArcGISProject(arpxFile)\n",
    "pagx = r\"C:\\EsriTraining\\PYTS\\PYTSClass\\BaseLayout.pagx\"\n",
    "mapName = arcpy.Describe(parcelLyr).baseName + \" Map\" # name the map after the input layer\n",
    "proMap = aprx.createMap(name=mapName, map_type=\"Map\")\n",
    "proMap.addLayer(parcelLyr)"
   ]
  },
  {
   "cell_type": "markdown",
   "metadata": {},
   "source": [
    "## Create the Layout from PAGX"
   ]
  },
  {
   "cell_type": "code",
   "execution_count": 29,
   "metadata": {},
   "outputs": [],
   "source": [
    "#parcelLayout = aprx.createLayout(page_width=10, page_height=10, page_units=\"inch\", name=\"test\")\n",
    "newLayout = aprx.importDocument(pagx)\n",
    "lyt = aprx.listLayouts()[0]"
   ]
  },
  {
   "cell_type": "code",
   "execution_count": 53,
   "metadata": {},
   "outputs": [
    {
     "data": {
      "text/plain": [
       "['OBJECTID',\n",
       " 'Shape',\n",
       " 'Parcel_ID',\n",
       " 'Street_Number',\n",
       " 'Street_Name',\n",
       " 'City',\n",
       " 'State',\n",
       " 'Zip',\n",
       " 'Owner_Name',\n",
       " 'Phone_Number',\n",
       " 'SquFoot',\n",
       " 'TaxValue',\n",
       " 'PriceSquFt']"
      ]
     },
     "execution_count": 53,
     "metadata": {},
     "output_type": "execute_result"
    }
   ],
   "source": [
    "[field.name for field in arcpy.Describe(parcelLyr).fields]"
   ]
  },
  {
   "cell_type": "code",
   "execution_count": 35,
   "metadata": {},
   "outputs": [
    {
     "name": "stdout",
     "output_type": "stream",
     "text": [
      "Help on method createSpatialMapSeries in module arcpy._mp:\n",
      "\n",
      "createSpatialMapSeries(mapframe, index_layer, name_field, sort_field=None) method of arcpy._mp.Layout instance\n",
      "    Layout.createSpatialMapSeries(mapframe, index_layer, name_field,\n",
      "    {sort_field})\n",
      "    \n",
      "    \n",
      "    This method creates a spatial MapSeries object for a layout.\n",
      "    \n",
      "    \n",
      "    mapframe(MapFrame):\n",
      "    A MapFrame object that has an  associated map that includes the index\n",
      "    layer needed for creating the spatial map series pages.\n",
      "    \n",
      "    \n",
      "    index_layer(Layer):\n",
      "    The index Layer object needed for the extents and attribute information\n",
      "    for  each page. The default value is None.\n",
      "    \n",
      "    \n",
      "    name_field(String):\n",
      "    The field name of the field used to control the name of each page in the\n",
      "    map series.  Ideally, all field values are unique so each page can be\n",
      "    uniquely identified.\n",
      "    \n",
      "    \n",
      "    sort_field{String}:\n",
      "    The name of the field that will be used to sort the map series pages.\n",
      "\n"
     ]
    }
   ],
   "source": [
    "help(lyt.createSpatialMapSeries)"
   ]
  },
  {
   "cell_type": "code",
   "execution_count": 49,
   "metadata": {},
   "outputs": [
    {
     "data": {
      "text/plain": [
       "<arcpy._mp.MapFrame at 0x21978d52850>"
      ]
     },
     "execution_count": 49,
     "metadata": {},
     "output_type": "execute_result"
    }
   ],
   "source": []
  },
  {
   "cell_type": "code",
   "execution_count": 55,
   "metadata": {},
   "outputs": [
    {
     "ename": "ValueError",
     "evalue": "Layout: index_layer is not associated with the layout.",
     "output_type": "error",
     "traceback": [
      "\u001b[1;31m---------------------------------------------------------------------------\u001b[0m",
      "\u001b[1;31mValueError\u001b[0m                                Traceback (most recent call last)",
      "\u001b[1;32m~\\AppData\\Local\\Temp\\1\\ipykernel_8380\\2636035507.py\u001b[0m in \u001b[0;36m<cell line: 1>\u001b[1;34m()\u001b[0m\n\u001b[1;32m----> 1\u001b[1;33m \u001b[0mmapSeries\u001b[0m \u001b[1;33m=\u001b[0m \u001b[0mlyt\u001b[0m\u001b[1;33m.\u001b[0m\u001b[0mcreateSpatialMapSeries\u001b[0m\u001b[1;33m(\u001b[0m\u001b[0mmapframe\u001b[0m\u001b[1;33m=\u001b[0m\u001b[0mlyt\u001b[0m\u001b[1;33m.\u001b[0m\u001b[0mlistElements\u001b[0m\u001b[1;33m(\u001b[0m\u001b[1;34m\"mapframe_element\"\u001b[0m\u001b[1;33m)\u001b[0m\u001b[1;33m[\u001b[0m\u001b[1;36m0\u001b[0m\u001b[1;33m]\u001b[0m\u001b[1;33m,\u001b[0m\u001b[0mindex_layer\u001b[0m\u001b[1;33m=\u001b[0m\u001b[0mparcelLyr\u001b[0m\u001b[1;33m,\u001b[0m \u001b[0mname_field\u001b[0m\u001b[1;33m=\u001b[0m\u001b[1;34m\"Parcel_ID\"\u001b[0m\u001b[1;33m)\u001b[0m\u001b[1;33m\u001b[0m\u001b[1;33m\u001b[0m\u001b[0m\n\u001b[0m",
      "\u001b[1;32mc:\\Program Files\\ArcGIS\\Pro\\Resources\\ArcPy\\arcpy\\_mp.py\u001b[0m in \u001b[0;36mcreateSpatialMapSeries\u001b[1;34m(self, mapframe, index_layer, name_field, sort_field)\u001b[0m\n\u001b[0;32m   3011\u001b[0m         \u001b[0mThe\u001b[0m \u001b[0mname\u001b[0m \u001b[0mof\u001b[0m \u001b[0mthe\u001b[0m \u001b[0mfield\u001b[0m \u001b[0mthat\u001b[0m \u001b[0mwill\u001b[0m \u001b[0mbe\u001b[0m \u001b[0mused\u001b[0m \u001b[0mto\u001b[0m \u001b[0msort\u001b[0m \u001b[0mthe\u001b[0m \u001b[0mmap\u001b[0m \u001b[0mseries\u001b[0m \u001b[0mpages\u001b[0m\u001b[1;33m.\u001b[0m\u001b[1;33m\u001b[0m\u001b[1;33m\u001b[0m\u001b[0m\n\u001b[0;32m   3012\u001b[0m         \"\"\"\n\u001b[1;32m-> 3013\u001b[1;33m         \u001b[1;32mreturn\u001b[0m \u001b[0mconvertArcObjectToPythonObject\u001b[0m\u001b[1;33m(\u001b[0m\u001b[0mself\u001b[0m\u001b[1;33m.\u001b[0m\u001b[0m_arc_object\u001b[0m\u001b[1;33m.\u001b[0m\u001b[0mcreateSpatialMapSeries\u001b[0m\u001b[1;33m(\u001b[0m\u001b[1;33m*\u001b[0m\u001b[0mgp_fixargs\u001b[0m\u001b[1;33m(\u001b[0m\u001b[1;33m(\u001b[0m\u001b[0mmapframe\u001b[0m\u001b[1;33m,\u001b[0m \u001b[0mindex_layer\u001b[0m\u001b[1;33m,\u001b[0m \u001b[0mname_field\u001b[0m\u001b[1;33m,\u001b[0m \u001b[0msort_field\u001b[0m\u001b[1;33m)\u001b[0m\u001b[1;33m,\u001b[0m \u001b[1;32mTrue\u001b[0m\u001b[1;33m)\u001b[0m\u001b[1;33m)\u001b[0m\u001b[1;33m)\u001b[0m\u001b[1;33m\u001b[0m\u001b[1;33m\u001b[0m\u001b[0m\n\u001b[0m\u001b[0;32m   3014\u001b[0m \u001b[1;33m\u001b[0m\u001b[0m\n\u001b[0;32m   3015\u001b[0m     \u001b[1;32mdef\u001b[0m \u001b[0mcreateBookmarkMapSeries\u001b[0m\u001b[1;33m(\u001b[0m\u001b[0mself\u001b[0m\u001b[1;33m,\u001b[0m \u001b[0mmapframe\u001b[0m\u001b[1;33m,\u001b[0m \u001b[0mbookmarks\u001b[0m\u001b[1;33m=\u001b[0m\u001b[1;32mNone\u001b[0m\u001b[1;33m)\u001b[0m\u001b[1;33m:\u001b[0m\u001b[1;33m\u001b[0m\u001b[1;33m\u001b[0m\u001b[0m\n",
      "\u001b[1;31mValueError\u001b[0m: Layout: index_layer is not associated with the layout."
     ]
    }
   ],
   "source": [
    "mapSeries = lyt.createSpatialMapSeries(mapframe=lyt.listElements(\"mapframe_element\")[0],index_layer=parcelLyr, name_field=\"Parcel_ID\")"
   ]
  },
  {
   "cell_type": "code",
   "execution_count": 69,
   "metadata": {},
   "outputs": [
    {
     "data": {
      "text/plain": [
       "'Map1'"
      ]
     },
     "execution_count": 69,
     "metadata": {},
     "output_type": "execute_result"
    }
   ],
   "source": [
    "lyt.listElements(\"mapframe_element\")[0].map"
   ]
  },
  {
   "cell_type": "markdown",
   "metadata": {},
   "source": [
    "## Populate the layout "
   ]
  },
  {
   "cell_type": "code",
   "execution_count": 7,
   "metadata": {},
   "outputs": [],
   "source": [
    "polyExtent = arcpy.Describe(parcelLyr).extent.polygon\n",
    "\n",
    "parcelFrame = parcelLayout.createMapFrame(geometry=polyExtent, map=proMap)\n",
    "\n",
    "#parcelLayout."
   ]
  },
  {
   "cell_type": "markdown",
   "metadata": {},
   "source": [
    "## Export the layout"
   ]
  },
  {
   "cell_type": "code",
   "execution_count": 8,
   "metadata": {},
   "outputs": [
    {
     "data": {
      "text/plain": [
       "'C:\\\\EsriTraining\\\\PYTS\\\\PYTSClass\\\\test.pdf'"
      ]
     },
     "execution_count": 8,
     "metadata": {},
     "output_type": "execute_result"
    }
   ],
   "source": [
    "outPDF = f'C:\\EsriTraining\\PYTS\\PYTSClass\\{parcelLayout.name}.pdf'\n",
    "aprx.save()\n",
    "parcelLayout.exportToPDF(outPDF, 100, \n",
    "                    image_quality = 3,\n",
    "                    output_as_image = True)"
   ]
  },
  {
   "cell_type": "code",
   "execution_count": 9,
   "metadata": {},
   "outputs": [
    {
     "data": {
      "text/plain": [
       "'ParcelPts Map'"
      ]
     },
     "execution_count": 9,
     "metadata": {},
     "output_type": "execute_result"
    }
   ],
   "source": [
    "proMap.name"
   ]
  },
  {
   "cell_type": "code",
   "execution_count": 11,
   "metadata": {},
   "outputs": [],
   "source": [
    "%reset -f"
   ]
  },
  {
   "cell_type": "code",
   "execution_count": null,
   "metadata": {},
   "outputs": [],
   "source": []
  }
 ],
 "metadata": {
  "kernelspec": {
   "display_name": "Python 3",
   "language": "python",
   "name": "python3"
  },
  "language_info": {
   "codemirror_mode": {
    "name": "ipython",
    "version": 3
   },
   "file_extension": ".py",
   "mimetype": "text/x-python",
   "name": "python",
   "nbconvert_exporter": "python",
   "pygments_lexer": "ipython3",
   "version": "3.9.18"
  }
 },
 "nbformat": 4,
 "nbformat_minor": 2
}
