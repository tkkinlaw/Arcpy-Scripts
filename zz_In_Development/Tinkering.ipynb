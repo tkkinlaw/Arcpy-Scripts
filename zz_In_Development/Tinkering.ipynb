{
 "cells": [
  {
   "cell_type": "markdown",
   "metadata": {
    "heading_collapsed": true
   },
   "source": [
    "### Data types\n",
    "A **class** is a blueprint/design/structure for representing data in python. A **class** can have **properties** and/or **methods**. **Properties** are stored values. **Methods** are built-in functions that process the thing itself. An **object** is an instance of a **class**.\n",
    "- string\n",
    "- integer (whole num)\n",
    "- float (decimal)\n",
    "- boolean"
   ]
  },
  {
   "cell_type": "code",
   "execution_count": 1,
   "metadata": {
    "hidden": true
   },
   "outputs": [
    {
     "name": "stdout",
     "output_type": "stream",
     "text": [
      "<arcpy.geoprocessing._base.GPEnvironments.<locals>.GPEnvironment object at 0x000001B74696A2F0>\n",
      "<class 'arcpy.geoprocessing._base.GPEnvironments.<locals>.GPEnvironment'>\n",
      "32 bytes\n",
      "<class 'arcpy.geoprocessing._base.GPEnvironments.<locals>.GPEnvironment'>\n"
     ]
    }
   ],
   "source": [
    "a = arcpy.env\n",
    "print(a)\n",
    "print(type(a))\n",
    "print(str(a.__sizeof__()) + \" bytes\")\n",
    "print(a.__class__)"
   ]
  },
  {
   "cell_type": "markdown",
   "metadata": {
    "heading_collapsed": true
   },
   "source": [
    "### Dictionaries\n",
    "A series of key-value pairs"
   ]
  },
  {
   "cell_type": "code",
   "execution_count": 2,
   "metadata": {
    "hidden": true
   },
   "outputs": [],
   "source": [
    "thisdict = {\n",
    "  \"brand\": \"Ford\",\n",
    "  \"model\": \"Mustang\",\n",
    "  \"year\": 1964\n",
    "}"
   ]
  },
  {
   "cell_type": "code",
   "execution_count": 3,
   "metadata": {
    "hidden": true
   },
   "outputs": [
    {
     "name": "stdout",
     "output_type": "stream",
     "text": [
      "1964\n"
     ]
    }
   ],
   "source": [
    "print(thisdict['year'])"
   ]
  },
  {
   "cell_type": "code",
   "execution_count": 4,
   "metadata": {
    "hidden": true
   },
   "outputs": [
    {
     "name": "stdout",
     "output_type": "stream",
     "text": [
      "dict_keys(['brand', 'model', 'year'])\n",
      "dict_values(['Ford', 'Mustang', 1964])\n"
     ]
    }
   ],
   "source": [
    "print(thisdict.keys())\n",
    "print(thisdict.values())"
   ]
  },
  {
   "cell_type": "markdown",
   "metadata": {},
   "source": [
    "### String concatenation methods\n",
    "Combine values into a larger string."
   ]
  },
  {
   "cell_type": "markdown",
   "metadata": {
    "heading_collapsed": true
   },
   "source": [
    "#### f-string\n",
    "New to Python 3. Let's you inject any data type (**class**) that can be printed, into the string."
   ]
  },
  {
   "cell_type": "code",
   "execution_count": 5,
   "metadata": {
    "hidden": true
   },
   "outputs": [],
   "source": [
    "desc = arcpy.da.Describe(r\"c:\\EsriTraining\\PYTS\\North_Carolina\\CountyData.gdb\\ParcelPts\")"
   ]
  },
  {
   "cell_type": "code",
   "execution_count": 6,
   "metadata": {
    "hidden": true
   },
   "outputs": [
    {
     "name": "stdout",
     "output_type": "stream",
     "text": [
      "ParcelPts\n"
     ]
    }
   ],
   "source": [
    "dName = desc['name']\n",
    "print(dName)"
   ]
  },
  {
   "cell_type": "code",
   "execution_count": 7,
   "metadata": {
    "hidden": true
   },
   "outputs": [
    {
     "data": {
      "text/plain": [
       "'ParcelPts_new'"
      ]
     },
     "execution_count": 7,
     "metadata": {},
     "output_type": "execute_result"
    }
   ],
   "source": [
    "f\"{dName}_new\""
   ]
  },
  {
   "cell_type": "markdown",
   "metadata": {
    "heading_collapsed": true
   },
   "source": [
    "#### Simple string concatenation with an operator\n",
    "You have to make sure you \"add\" strings together."
   ]
  },
  {
   "cell_type": "code",
   "execution_count": 8,
   "metadata": {
    "hidden": true
   },
   "outputs": [
    {
     "data": {
      "text/plain": [
       "'1_new'"
      ]
     },
     "execution_count": 8,
     "metadata": {},
     "output_type": "execute_result"
    }
   ],
   "source": [
    "str(1) + \"_new\""
   ]
  },
  {
   "cell_type": "markdown",
   "metadata": {
    "heading_collapsed": true
   },
   "source": [
    "#### String format method\n",
    "This will also will take any \"simple\" data type and convert it to a string for you"
   ]
  },
  {
   "cell_type": "code",
   "execution_count": 9,
   "metadata": {
    "hidden": true
   },
   "outputs": [
    {
     "data": {
      "text/plain": [
       "'1_new'"
      ]
     },
     "execution_count": 9,
     "metadata": {},
     "output_type": "execute_result"
    }
   ],
   "source": [
    "\"{}_new\".format(1)"
   ]
  },
  {
   "cell_type": "markdown",
   "metadata": {
    "heading_collapsed": true
   },
   "source": [
    "### Lists"
   ]
  },
  {
   "cell_type": "code",
   "execution_count": 10,
   "metadata": {
    "hidden": true
   },
   "outputs": [],
   "source": [
    "beverages = ['chocolate milk', 'Dr. Pepper', 'Boba', 'Lemonade', 'Diet Coke', 'Coke Zero', 'olipop', 'Sparkling Water']"
   ]
  },
  {
   "cell_type": "markdown",
   "metadata": {
    "hidden": true
   },
   "source": [
    "#### List methods\n",
    "**Methods** are built-in **functions** that use the **object** itself as input. `Append` is a method for the `list` **class**"
   ]
  },
  {
   "cell_type": "code",
   "execution_count": 11,
   "metadata": {
    "hidden": true
   },
   "outputs": [],
   "source": [
    "beverages.append('black coffee')"
   ]
  },
  {
   "cell_type": "code",
   "execution_count": 12,
   "metadata": {
    "hidden": true
   },
   "outputs": [
    {
     "name": "stdout",
     "output_type": "stream",
     "text": [
      "['chocolate milk', 'Dr. Pepper', 'Boba', 'Lemonade', 'Diet Coke', 'Coke Zero', 'olipop', 'Sparkling Water', 'black coffee']\n"
     ]
    }
   ],
   "source": [
    "print(beverages)"
   ]
  },
  {
   "cell_type": "code",
   "execution_count": 13,
   "metadata": {
    "hidden": true
   },
   "outputs": [
    {
     "data": {
      "text/plain": [
       "9"
      ]
     },
     "execution_count": 13,
     "metadata": {},
     "output_type": "execute_result"
    }
   ],
   "source": [
    "len(beverages)"
   ]
  },
  {
   "cell_type": "markdown",
   "metadata": {
    "heading_collapsed": true
   },
   "source": [
    "### Indexing\n",
    "Python starts counting at 0. **Indexing** is used to obtain specific values or ranges of values from a `list` (or anything that is iteratable). For a range of values, the lower limit is inclusive and the upper limit is exclusive."
   ]
  },
  {
   "cell_type": "code",
   "execution_count": 14,
   "metadata": {
    "hidden": true
   },
   "outputs": [
    {
     "name": "stdout",
     "output_type": "stream",
     "text": [
      "chocolate milk\n"
     ]
    }
   ],
   "source": [
    "print(beverages[0])"
   ]
  },
  {
   "cell_type": "code",
   "execution_count": 15,
   "metadata": {
    "hidden": true
   },
   "outputs": [
    {
     "name": "stdout",
     "output_type": "stream",
     "text": [
      "['chocolate milk', 'Dr. Pepper', 'Boba']\n"
     ]
    }
   ],
   "source": [
    "print(beverages[0:3])"
   ]
  },
  {
   "cell_type": "markdown",
   "metadata": {
    "heading_collapsed": true
   },
   "source": [
    "### For loop\n",
    "The Python keyword `for` initiates a **for-loop**. In Python, you initialize the variable used to access the individual items in the `list` one by one by providing a variable name immediately after `for`. You can name this variable anything. The **for-loop** will run as many times as the `list` is long. In the example below, `beverages` is the `list`, and `bev` is the variable used within the `list` (could have called it anything - Python has no preference).\n",
    "\n",
    "A code block is the code indented beneath the `for-loop`. Code blocks appear elsewhere, like beneath an `if` statement."
   ]
  },
  {
   "cell_type": "code",
   "execution_count": 24,
   "metadata": {
    "hidden": true
   },
   "outputs": [
    {
     "name": "stdout",
     "output_type": "stream",
     "text": [
      "Hello, Chocolate milk\n",
      "Hello, Dr. pepper\n",
      "Hello, Boba\n",
      "Hello, Lemonade\n",
      "Hello, Diet coke\n",
      "Hello, Coke zero\n",
      "Hello, Olipop\n",
      "Hello, Sparkling water\n",
      "Hello, Black coffee\n"
     ]
    }
   ],
   "source": [
    "for bev in beverages:\n",
    "    newBevName = bev.capitalize()\n",
    "    print(f\"Hello, {newBevName}\")"
   ]
  },
  {
   "cell_type": "markdown",
   "metadata": {
    "heading_collapsed": true
   },
   "source": [
    "### If, else if, and else - control the flow of your script\n",
    "\n",
    "The `if` statement conditionally executes a code block. Should the expression following `if` return `True`, the code block executes, and should it return `False` it gets skipped. Every `if` statement will be evaluated.\n",
    "\n",
    "The `else` clause is optional. It is a better practice to include it. The code block beneath `else` only executes should the above `if` or `elif` statement(s) return false.\n",
    "\n",
    "`elif` stands for \"else if\". It's a secondary test. It belongs between an `if` statement and a `else` clause. A given `elif` statement only executes should the above `if` and any `elif` statements all return `False`. So, not every `elif` statement will be evaluated."
   ]
  },
  {
   "cell_type": "code",
   "execution_count": null,
   "metadata": {
    "hidden": true
   },
   "outputs": [],
   "source": [
    "x = 8\n",
    "\n",
    "if x == 5:\n",
    "    print(\"The value is 5\")\n",
    "elif x > 5:\n",
    "    print(\"The value is greater than 5\")\n",
    "elif x < 5:\n",
    "    print(\"The value is less than 5\")\n",
    "else:\n",
    "    print(\"Not sure what's going on\")\n",
    "    \n",
    "print(\"All done.\")"
   ]
  },
  {
   "cell_type": "markdown",
   "metadata": {
    "heading_collapsed": true
   },
   "source": [
    "### For loop, with conditional logic\n",
    "\n",
    "We can combine a `for-loop` with `if`, `elif`, and `else` to iterate over a series of values and conditionally execute blocks of code (however long or short)."
   ]
  },
  {
   "cell_type": "code",
   "execution_count": null,
   "metadata": {
    "hidden": true
   },
   "outputs": [],
   "source": [
    "numList = [2, 4, 6, 3, 8, 1, 5, 6, 6]\n",
    "\n",
    "for num in numList:\n",
    "    if num == 5:\n",
    "        print(\"The value is 5\")\n",
    "    elif num > 5:\n",
    "        print(\"The value is greater than 5\")\n",
    "    elif num < 5:\n",
    "        print(\"The value is less than 5\")\n",
    "    else:\n",
    "        print(\"Not sure what's going on\")\n",
    "    \n",
    "print(\"All done.\")"
   ]
  },
  {
   "cell_type": "code",
   "execution_count": null,
   "metadata": {
    "hidden": true
   },
   "outputs": [],
   "source": []
  }
 ],
 "metadata": {
  "kernelspec": {
   "display_name": "ArcGISPro",
   "language": "Python",
   "name": "python3"
  },
  "language_info": {
   "file_extension": ".py",
   "name": "python",
   "version": "3"
  }
 },
 "nbformat": 4,
 "nbformat_minor": 2
}
