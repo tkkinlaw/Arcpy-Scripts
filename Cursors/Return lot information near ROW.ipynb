{
 "cells": [
  {
   "cell_type": "markdown",
   "metadata": {},
   "source": [
    "# Return related lot values given a Right-of-Way"
   ]
  },
  {
   "cell_type": "markdown",
   "metadata": {},
   "source": [
    "This script uses geoprocessing tools and a Search Cursor to return information about Lots within a distance of a ROW."
   ]
  },
  {
   "cell_type": "code",
   "execution_count": 5,
   "metadata": {},
   "outputs": [],
   "source": [
    "ROW = r\"C:\\Users\\tim10393\\Downloads\\PADA_2.0_Oct20_Demos\\DemoData\\PADA\\ParcelFabricsInApps\\Polk_Initial_Lesson_8_Solution.gdb\\ParcelEntry\\ROW\"\n",
    "lot = r\"C:\\Users\\tim10393\\Downloads\\PADA_2.0_Oct20_Demos\\DemoData\\PADA\\ParcelFabricsInApps\\Polk_Initial_Lesson_8_Solution.gdb\\ParcelEntry\\Lot\"\n",
    "searchDist = \"500 Feet\"\n",
    "exp = \"OBJECTID = 1\""
   ]
  },
  {
   "cell_type": "code",
   "execution_count": 6,
   "metadata": {},
   "outputs": [],
   "source": [
    "selROW = arcpy.management.SelectLayerByAttribute(in_layer_or_view=ROW, where_clause=exp)"
   ]
  },
  {
   "cell_type": "code",
   "execution_count": 7,
   "metadata": {},
   "outputs": [],
   "source": [
    "selLots = arcpy.management.SelectLayerByLocation(in_layer=lot, overlap_type=\"INTERSECT\", select_features=selROW, search_distance=searchDist)"
   ]
  },
  {
   "cell_type": "code",
   "execution_count": 8,
   "metadata": {
    "scrolled": true
   },
   "outputs": [
    {
     "name": "stdout",
     "output_type": "stream",
     "text": [
      "Lot OID: 32\n",
      "Lot OID: 34\n",
      "Lot OID: 35\n",
      "Lot OID: 36\n",
      "Lot OID: 37\n",
      "Lot OID: 38\n",
      "Lot OID: 39\n",
      "Lot OID: 40\n",
      "Lot OID: 41\n",
      "Lot OID: 43\n",
      "Lot OID: 44\n",
      "Lot OID: 45\n",
      "Lot OID: 47\n",
      "Lot OID: 48\n",
      "Lot OID: 49\n",
      "Lot OID: 50\n",
      "Lot OID: 51\n",
      "Lot OID: 53\n",
      "Lot OID: 63\n",
      "Lot OID: 64\n",
      "Lot OID: 65\n",
      "Lot OID: 66\n",
      "Lot OID: 67\n",
      "Lot OID: 68\n",
      "Lot OID: 69\n",
      "Lot OID: 70\n",
      "Lot OID: 71\n",
      "Lot OID: 72\n",
      "Lot OID: 73\n",
      "Lot OID: 85\n",
      "There are 30 lots within 500 feet\n"
     ]
    }
   ],
   "source": [
    "cursor = arcpy.da.SearchCursor(selLots, [\"OID@\", \"Name\", \"Shape_Area\"])\n",
    "i = 0\n",
    "for srcRow in cursor:\n",
    "    i += 1\n",
    "    print(f\"Lot OID: {srcRow[0]}, Lot name\")\n",
    "print(f\"There are {i} lots within 500 feet\")"
   ]
  },
  {
   "cell_type": "code",
   "execution_count": null,
   "metadata": {},
   "outputs": [],
   "source": []
  }
 ],
 "metadata": {
  "kernelspec": {
   "display_name": "ArcGISPro",
   "language": "Python",
   "name": "python3"
  },
  "language_info": {
   "file_extension": ".py",
   "name": "python",
   "version": "3"
  }
 },
 "nbformat": 4,
 "nbformat_minor": 2
}
