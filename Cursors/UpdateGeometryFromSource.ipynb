{
 "cells": [
  {
   "cell_type": "markdown",
   "metadata": {},
   "source": [
    "## Compare geometries and store object IDs"
   ]
  },
  {
   "cell_type": "markdown",
   "metadata": {},
   "source": [
    "This notebook uses cursors and geometry objects to acquire the geometry of a HUC08 polygon and update the associated polygon in a local feature class to match the master copy.\n",
    "The master datset is a feature layer on ArcGIS Online."
   ]
  },
  {
   "cell_type": "code",
   "execution_count": 49,
   "metadata": {},
   "outputs": [],
   "source": [
    "# This data is in WGS 1984 Web Mercator Aux. Sphere\n",
    "url = 'https://services.arcgis.com/P3ePLMYs2RVChkJx/arcgis/rest/services/Watershed_Boundary_Dataset_HUC_8s/FeatureServer/0'\n",
    "# This data is in NAD 1983 StatePlane California VI FIPS 0406 (US Feet)\n",
    "messyWatershed = r'C:\\DemoData\\PYTS\\SanDiego.gdb\\Watersheds_sample'"
   ]
  },
  {
   "cell_type": "markdown",
   "metadata": {},
   "source": [
    "To save on processing time, select the MUC08 features that intersect the feature class being updated. This saves time since the script later iterates over every row of a cursor, looking to see if the geometry passes a test. We are working with HUC08 features in San Diego county area, not the entire USA."
   ]
  },
  {
   "cell_type": "code",
   "execution_count": 50,
   "metadata": {},
   "outputs": [],
   "source": [
    "masterHUC08 = arcpy.management.SelectLayerByLocation(in_layer=url, overlap_type=\"INTERSECT\", select_features=messyWatershed)"
   ]
  },
  {
   "cell_type": "code",
   "execution_count": 51,
   "metadata": {
    "scrolled": true
   },
   "outputs": [
    {
     "name": "stdout",
     "output_type": "stream",
     "text": [
      "Object ID of watershed to update: 1\n",
      "The watershed is in 1330\n",
      "Update made\n",
      "Object ID of watershed to update: 2\n",
      "The watershed is in 1332\n",
      "Update made\n",
      "Object ID of watershed to update: 4\n",
      "The watershed is in 1878\n",
      "Update made\n",
      "Object ID of watershed to update: 6\n",
      "The watershed is in 1880\n",
      "Update made\n",
      "Object ID of watershed to update: 7\n",
      "The watershed is in 1881\n",
      "Update made\n",
      "Object ID of watershed to update: 8\n",
      "The watershed is in 4\n",
      "Update made\n",
      "Object ID of watershed to update: 9\n",
      "The watershed is in 4\n",
      "Update made\n",
      "Object ID of watershed to update: 10\n",
      "The watershed is in 179\n",
      "Update made\n",
      "Object ID of watershed to update: 11\n",
      "The watershed is in 9\n",
      "Update made\n",
      "Object ID of watershed to update: 12\n",
      "The watershed is in 4\n",
      "Update made\n",
      "Object ID of watershed to update: 13\n",
      "The watershed is in 10\n",
      "Update made\n",
      "Object ID of watershed to update: 14\n",
      "The watershed is in 9\n",
      "Update made\n",
      "Object ID of watershed to update: 15\n",
      "The watershed is in 10\n",
      "Update made\n",
      "Object ID of watershed to update: 16\n",
      "The watershed is in 10\n",
      "Update made\n",
      "Object ID of watershed to update: 17\n",
      "The watershed is in 10\n",
      "Update made\n",
      "Object ID of watershed to update: 18\n",
      "The watershed is in 10\n",
      "Update made\n",
      "Object ID of watershed to update: 19\n",
      "The watershed is in 10\n",
      "Update made\n",
      "Object ID of watershed to update: 20\n",
      "The watershed is in 10\n",
      "Update made\n",
      "Object ID of watershed to update: 21\n",
      "The watershed is in 179\n",
      "Update made\n",
      "Object ID of watershed to update: 22\n",
      "The watershed is in 4\n",
      "Update made\n",
      "Object ID of watershed to update: 23\n",
      "The watershed is in 180\n",
      "Update made\n"
     ]
    }
   ],
   "source": [
    "# Create a spatial reference object for NAD 1983 StatePlane California VI FIPS 0406 (US Feet)\n",
    "sp = arcpy.SpatialReference(2230)\n",
    "\n",
    "# Create cursors for both datasets. Object ID is for reference.\n",
    "uCur = arcpy.da.UpdateCursor(messyWatershed, ['Shape@','OBJECTID'])\n",
    "sCur = arcpy.da.SearchCursor(masterHUC08, ['Shape@','OBJECTID'])\n",
    "\n",
    "# Iterate over every feature in the local feature class\n",
    "for uRow in uCur:\n",
    "    print(f\"Object ID of watershed to update: {uRow[1]}\")\n",
    "    # For each feature, iterate over the features resulting from the select by location tool. \n",
    "    for sRow in sCur:\n",
    "        # We need a way to align the HUC08 features from both datasets. Geometry does not align, hence this script.\n",
    "        # Ideally, there would be a unique identifying field that is reliable. We don't have that.\n",
    "        # Instead, we will determine which features between the datasets are \"the same\" HUC08, despite the local source having messy geometry\n",
    "        # Check to see if the centroid of the local feature is within the HUC08 polygon from the master source.\n",
    "        # And, project the master data into the spatial reference of the local data\n",
    "        if sRow[0].projectAs(sp).contains(uRow[0].centroid):\n",
    "            print(f\"The watershed is in {sRow[1]}\")\n",
    "            uRow[0] = sRow[0].projectAs(sp)\n",
    "            uCur.updateRow(uRow)\n",
    "            print(\"Update made\")\n",
    "        else:\n",
    "            pass\n",
    "    sCur.reset()\n",
    "del uCur, sCur"
   ]
  },
  {
   "cell_type": "code",
   "execution_count": null,
   "metadata": {},
   "outputs": [],
   "source": []
  }
 ],
 "metadata": {
  "kernelspec": {
   "display_name": "ArcGISPro",
   "language": "Python",
   "name": "python3"
  },
  "language_info": {
   "file_extension": ".py",
   "name": "python",
   "version": "3"
  }
 },
 "nbformat": 4,
 "nbformat_minor": 2
}
