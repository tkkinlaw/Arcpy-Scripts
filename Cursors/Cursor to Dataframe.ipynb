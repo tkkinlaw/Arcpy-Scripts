{
 "cells": [
  {
   "cell_type": "code",
   "execution_count": 1,
   "metadata": {},
   "outputs": [],
   "source": [
    "import arcpy\n",
    "import pandas as pd"
   ]
  },
  {
   "cell_type": "code",
   "execution_count": 2,
   "metadata": {},
   "outputs": [],
   "source": [
    "fc = r\"C:\\Users\\tim10393\\OneDrive - Esri\\Courses\\PYTS-8.0\\Student\\PYTS_8.0_Aug22_StudentData\\PYTS\\Data\\CountyData.gdb\\ParcelPts\" # Replace with the path to your data\n",
    "fields = [\"Street_Name\", \"Zip\", \"Phone_Number\", \"PriceSquFt\"] # replace with the names of your fields\n",
    "outputCsv = r\"C:\\Users\\tim10393\\OneDrive - Esri\\Courses\\PYTS-8.0\\Student\\PYTS_8.0_Aug22_StudentData\\PYTS\\Data\\outCSV.csv\" # location of output csv file, include the file name and extension"
   ]
  },
  {
   "cell_type": "markdown",
   "metadata": {},
   "source": [
    "This data represents fake identities. Don't worry ;)"
   ]
  },
  {
   "cell_type": "code",
   "execution_count": 3,
   "metadata": {},
   "outputs": [
    {
     "name": "stdout",
     "output_type": "stream",
     "text": [
      "('Hawkins Road', 28356, '990-272-1227', 107.0)\n",
      "('Scott Place Lane', 28356, '990-797-2565', 96.0)\n",
      "('Lukes Run', 28356, '990-206-7743', 88.0)\n",
      "('Ramsey Street', 28356, '990-222-7943', 110.0)\n",
      "('Burnett Road', 28356, '990-248-1427', 86.0)\n"
     ]
    }
   ],
   "source": [
    "src = arcpy.da.SearchCursor(fc, fields)\n",
    "\n",
    "# Making a counter so only 5 records are printed, not all of them!\n",
    "i = 0\n",
    "for row in src:\n",
    "    if i<5:\n",
    "        print(row)\n",
    "    i += 1"
   ]
  },
  {
   "cell_type": "markdown",
   "metadata": {},
   "source": [
    "A pandas dataframe is a versitile class for slicing, dicing, and querying your data. While arcpy cursors are irreplaceable for reading and writing data using ArcGIS data management strategies (domains, subtypes, attributes rules), the dataframe is more user friendly for sifting through your data. \n",
    "\n",
    "You can create a pandas dataframe from your search cursor. But first, we need to reset our search cursor since we have already iterated over it. If we were to not include this line of code (<code>src.reset()</code>), we would create an empty dataframe. "
   ]
  },
  {
   "cell_type": "code",
   "execution_count": 4,
   "metadata": {},
   "outputs": [
    {
     "data": {
      "text/html": [
       "<div>\n",
       "<style scoped>\n",
       "    .dataframe tbody tr th:only-of-type {\n",
       "        vertical-align: middle;\n",
       "    }\n",
       "\n",
       "    .dataframe tbody tr th {\n",
       "        vertical-align: top;\n",
       "    }\n",
       "\n",
       "    .dataframe thead th {\n",
       "        text-align: right;\n",
       "    }\n",
       "</style>\n",
       "<table border=\"1\" class=\"dataframe\">\n",
       "  <thead>\n",
       "    <tr style=\"text-align: right;\">\n",
       "      <th></th>\n",
       "      <th>Street_Name</th>\n",
       "      <th>Zip</th>\n",
       "      <th>Phone_Number</th>\n",
       "      <th>PriceSquFt</th>\n",
       "    </tr>\n",
       "  </thead>\n",
       "  <tbody>\n",
       "    <tr>\n",
       "      <th>0</th>\n",
       "      <td>Hawkins Road</td>\n",
       "      <td>28356</td>\n",
       "      <td>990-272-1227</td>\n",
       "      <td>107.0</td>\n",
       "    </tr>\n",
       "    <tr>\n",
       "      <th>1</th>\n",
       "      <td>Scott Place Lane</td>\n",
       "      <td>28356</td>\n",
       "      <td>990-797-2565</td>\n",
       "      <td>96.0</td>\n",
       "    </tr>\n",
       "    <tr>\n",
       "      <th>2</th>\n",
       "      <td>Lukes Run</td>\n",
       "      <td>28356</td>\n",
       "      <td>990-206-7743</td>\n",
       "      <td>88.0</td>\n",
       "    </tr>\n",
       "    <tr>\n",
       "      <th>3</th>\n",
       "      <td>Ramsey Street</td>\n",
       "      <td>28356</td>\n",
       "      <td>990-222-7943</td>\n",
       "      <td>110.0</td>\n",
       "    </tr>\n",
       "    <tr>\n",
       "      <th>4</th>\n",
       "      <td>Burnett Road</td>\n",
       "      <td>28356</td>\n",
       "      <td>990-248-1427</td>\n",
       "      <td>86.0</td>\n",
       "    </tr>\n",
       "  </tbody>\n",
       "</table>\n",
       "</div>"
      ],
      "text/plain": [
       "        Street_Name    Zip  Phone_Number  PriceSquFt\n",
       "0      Hawkins Road  28356  990-272-1227       107.0\n",
       "1  Scott Place Lane  28356  990-797-2565        96.0\n",
       "2         Lukes Run  28356  990-206-7743        88.0\n",
       "3     Ramsey Street  28356  990-222-7943       110.0\n",
       "4      Burnett Road  28356  990-248-1427        86.0"
      ]
     },
     "execution_count": 4,
     "metadata": {},
     "output_type": "execute_result"
    }
   ],
   "source": [
    "src.reset()\n",
    "df = pd.DataFrame(data=src, columns=fields)\n",
    "df.head(5)"
   ]
  },
  {
   "cell_type": "markdown",
   "metadata": {},
   "source": [
    "The dataframe in pandas has several methods, including methods for saving as a csv file, and other formats."
   ]
  },
  {
   "cell_type": "code",
   "execution_count": 5,
   "metadata": {},
   "outputs": [],
   "source": [
    "df.to_csv(outputCsv)"
   ]
  }
 ],
 "metadata": {
  "kernelspec": {
   "display_name": "Python 3",
   "language": "python",
   "name": "python3"
  },
  "language_info": {
   "codemirror_mode": {
    "name": "ipython",
    "version": 3
   },
   "file_extension": ".py",
   "mimetype": "text/x-python",
   "name": "python",
   "nbconvert_exporter": "python",
   "pygments_lexer": "ipython3",
   "version": "3.9.18"
  }
 },
 "nbformat": 4,
 "nbformat_minor": 2
}
