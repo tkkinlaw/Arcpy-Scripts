{
 "cells": [
  {
   "cell_type": "markdown",
   "metadata": {},
   "source": [
    "# Search Cursor with spatial filter"
   ]
  },
  {
   "cell_type": "markdown",
   "metadata": {},
   "source": [
    "This script uses the spatial filter and spatial relationship parameters, new to ArcGIS Pro 3.2"
   ]
  },
  {
   "cell_type": "code",
   "execution_count": 25,
   "metadata": {},
   "outputs": [],
   "source": [
    "import arcpy"
   ]
  },
  {
   "cell_type": "code",
   "execution_count": 26,
   "metadata": {},
   "outputs": [],
   "source": [
    "ROW = r\"C:\\Users\\tim10393\\Downloads\\PADA_2.0_Oct20_Demos\\DemoData\\PADA\\ParcelFabricsInApps\\Polk_Initial_Lesson_8_Solution.gdb\\ParcelEntry\\ROW\"\n",
    "lot = r\"C:\\Users\\tim10393\\Downloads\\PADA_2.0_Oct20_Demos\\DemoData\\PADA\\ParcelFabricsInApps\\Polk_Initial_Lesson_8_Solution.gdb\\ParcelEntry\\Lot\"\n",
    "outputCSV = r\"C:\\Users\\tim10393\\Downloads\\AssessmentParcels.csv\""
   ]
  },
  {
   "cell_type": "markdown",
   "metadata": {},
   "source": [
    "First the script selects the Right-of-Ways of interest, and appends the OID and geometry object for each record into a list."
   ]
  },
  {
   "cell_type": "code",
   "execution_count": 27,
   "metadata": {},
   "outputs": [
    {
     "name": "stdout",
     "output_type": "stream",
     "text": [
      "(1, <Polygon object at 0x1dc2ea3e190[0x1dc2ea3e120]>)\n",
      "(2, <Polygon object at 0x1dc2ec543a0[0x1dc2ec54ab0]>)\n"
     ]
    }
   ],
   "source": [
    "exp = \"OBJECTID = 1 Or OBJECTID = 2\"\n",
    "\n",
    "selROW = arcpy.management.SelectLayerByAttribute(in_layer_or_view=ROW,where_clause=exp)\n",
    "ROWValues = []\n",
    "\n",
    "selROWCur = arcpy.da.SearchCursor(selROW, [\"OID@\", \"Shape@\"])\n",
    "for row in selROWCur:\n",
    "    print(row)\n",
    "    ROWValues.append(row)\n",
    "del selROWCur"
   ]
  },
  {
   "cell_type": "markdown",
   "metadata": {},
   "source": [
    "The script will return the information for lots within 500 feet of the selected right of ways. The spatial relationship parameter has a subset of possible relationship types. There is not a parameter for searching within a 500 foot distance. So, we will put a 500 foot buffer around a geometry object and set the spatial relationship value to intersects.\n",
    "\n",
    "We create the SearchCursor in a for loop since we are processing multiple selected ROWs."
   ]
  },
  {
   "cell_type": "code",
   "execution_count": 28,
   "metadata": {
    "scrolled": true
   },
   "outputs": [
    {
     "name": "stdout",
     "output_type": "stream",
     "text": [
      "Processing ROW: 1\n",
      "(32, '19', 9794.763128139197)\n",
      "(34, '20', 28825.447986742416)\n",
      "(35, '21', 12847.732913202964)\n",
      "(36, '18', 6603.234301032638)\n",
      "(37, '17', 6212.109477652729)\n",
      "(38, '22', 13461.752557903284)\n",
      "(39, '16', 7375.493209652511)\n",
      "(40, '23', 7632.622731026843)\n",
      "(41, '24', 16793.742006224253)\n",
      "(43, '15', 9495.30410908653)\n",
      "(44, '25', 18799.902236410835)\n",
      "(45, '26', 9871.937154217472)\n",
      "(47, '09', 7474.807330550021)\n",
      "(48, '14', 8608.394286603303)\n",
      "(49, '10', 9048.222100065368)\n",
      "(50, '08', 8009.869898739259)\n",
      "(51, '11', 6873.312234422231)\n",
      "(53, '12', 6997.071309368926)\n",
      "(63, None, 29.998490956769267)\n",
      "(64, None, 44.26424912793014)\n",
      "(65, '29', 7349.788983468878)\n",
      "(66, '31', 6902.55099960014)\n",
      "(67, '30', 8028.2376538808585)\n",
      "(68, '32', 20328.84933406458)\n",
      "(69, '28', 7341.430504070682)\n",
      "(70, '27', 7823.607036680804)\n",
      "(71, '33', 20229.066607797075)\n",
      "(72, '34', 7697.594557589343)\n",
      "(73, '35', 8125.808482950045)\n",
      "(85, '24B', 24426.364737251097)\n",
      "There are 30 lots within 500 feet\n",
      "\n",
      "Processing ROW: 2\n",
      "(32, '19', 9794.763128139197)\n",
      "(34, '20', 28825.447986742416)\n",
      "(35, '21', 12847.732913202964)\n",
      "(36, '18', 6603.234301032638)\n",
      "(37, '17', 6212.109477652729)\n",
      "(38, '22', 13461.752557903284)\n",
      "(39, '16', 7375.493209652511)\n",
      "(40, '23', 7632.622731026843)\n",
      "(41, '24', 16793.742006224253)\n",
      "(43, '15', 9495.30410908653)\n",
      "(44, '25', 18799.902236410835)\n",
      "(45, '26', 9871.937154217472)\n",
      "(47, '09', 7474.807330550021)\n",
      "(48, '14', 8608.394286603303)\n",
      "(49, '10', 9048.222100065368)\n",
      "(50, '08', 8009.869898739259)\n",
      "(51, '11', 6873.312234422231)\n",
      "(52, '07', 7326.105792067831)\n",
      "(53, '12', 6997.071309368926)\n",
      "(54, '06', 7397.575081172673)\n",
      "(55, '05', 6506.0141143042265)\n",
      "(56, '13', 6838.468974714627)\n",
      "(59, '04', 6275.261618685875)\n",
      "(60, '01', 6559.343581151594)\n",
      "(61, '02', 7047.57836172443)\n",
      "(62, '03', 9163.580418586553)\n",
      "(63, None, 29.998490956769267)\n",
      "(64, None, 44.26424912793014)\n",
      "(65, '29', 7349.788983468878)\n",
      "(66, '31', 6902.55099960014)\n",
      "(67, '30', 8028.2376538808585)\n",
      "(68, '32', 20328.84933406458)\n",
      "(69, '28', 7341.430504070682)\n",
      "(70, '27', 7823.607036680804)\n",
      "(71, '33', 20229.066607797075)\n",
      "(72, '34', 7697.594557589343)\n",
      "(73, '35', 8125.808482950045)\n",
      "(74, None, 64.24954960729572)\n",
      "(75, None, 30.00027335901627)\n",
      "(76, '37', 8673.681206788056)\n",
      "(77, '36', 9311.55780869225)\n",
      "(79, '80', 8507.364205031296)\n",
      "(85, '24B', 24426.364737251097)\n",
      "(86, '79', 8100.658929489721)\n",
      "(87, '78', 6968.736692794291)\n",
      "(88, '75', 7730.553363566973)\n",
      "(93, '76', 6991.531795105854)\n",
      "(94, '77', 6859.764336275753)\n",
      "There are 48 lots within 500 feet\n",
      "\n"
     ]
    }
   ],
   "source": [
    "parcelList = [\"ROW OID, Lot OID, Lot Name, Lot Area\"]\n",
    "\n",
    "for rowVal in ROWValues:\n",
    "    ROWoid = rowVal[0]\n",
    "    ROWgeom = rowVal[1]\n",
    "    print(f\"Processing ROW: {rowVal[0]}\")\n",
    "    spCursor = arcpy.da.SearchCursor(lot, [\"OID@\", \"Name\", \"Shape_Area\"],\n",
    "                                spatial_filter=ROWgeom.buffer(500),\n",
    "                                spatial_relationship=\"INTERSECTS\")\n",
    "    i = 0\n",
    "    for spRow in spCursor:\n",
    "        print(spRow)\n",
    "        parcelList.append(f\"{ROWoid},{spRow[0]},{spRow[1]},{spRow[2]}\")\n",
    "        i += 1\n",
    "    print(f\"There are {i} lots within 500 feet\\n\")\n",
    "    del spCursor"
   ]
  },
  {
   "cell_type": "markdown",
   "metadata": {},
   "source": [
    "Lastly, we will save the returned information as a CSV file."
   ]
  },
  {
   "cell_type": "code",
   "execution_count": 29,
   "metadata": {},
   "outputs": [
    {
     "name": "stdout",
     "output_type": "stream",
     "text": [
      "Script Complete\n"
     ]
    }
   ],
   "source": [
    "textBody = '\\n'.join(parcelList)\n",
    "csvFile = open(outputCSV, \"w\")\n",
    "csvFile.write(textBody)\n",
    "csvFile.close()\n",
    "print(\"Script Complete\")"
   ]
  }
 ],
 "metadata": {
  "kernelspec": {
   "display_name": "ArcGISPro",
   "language": "Python",
   "name": "python3"
  },
  "language_info": {
   "file_extension": ".py",
   "name": "python",
   "version": "3"
  }
 },
 "nbformat": 4,
 "nbformat_minor": 2
}
