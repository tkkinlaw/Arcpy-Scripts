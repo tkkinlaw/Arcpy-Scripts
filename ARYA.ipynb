{
 "cells": [
  {
   "cell_type": "markdown",
   "metadata": {},
   "source": [
    "# ARYA questions"
   ]
  },
  {
   "cell_type": "markdown",
   "metadata": {},
   "source": [
    "7 questions about python:\n",
    "- Recognize or troubleshoot file paths\n",
    "- Familiar with at least one type of string concatenation\n",
    "- Recognize Type Errors in python\n",
    "- Data type conversion\n",
    "- Understand vocabulary: property, method, object, class\n",
    "- Determine what output a code snippet will return\n",
    "- A scenario for if-elif-else understanding."
   ]
  },
  {
   "cell_type": "markdown",
   "metadata": {},
   "source": [
    "3 questions about ArcGIS Pro\n",
    "- Use of environment settings\n",
    "- A scenario to identify the appropriate workflow\n",
    "- Project organization and sharing question"
   ]
  },
  {
   "cell_type": "markdown",
   "metadata": {},
   "source": [
    "## Question 1\n",
    "Goal: the potential learner should recognize how to fix or troubleshoot an invalid filepath"
   ]
  },
  {
   "cell_type": "markdown",
   "metadata": {},
   "source": [
    "### What are ways to fix this Syntax Error?\n",
    "- Change the string to a raw string\n",
    "- Replace \\ with \\\\\n",
    "- Replace \\ with //\n",
    "- Remove the reference to the C-drive"
   ]
  },
  {
   "cell_type": "code",
   "execution_count": 9,
   "metadata": {},
   "outputs": [
    {
     "name": "stdout",
     "output_type": "stream",
     "text": [
      "C:\\EsriTraining\\PYTS\n",
      "orth_carolina\\CountyData.gdb\n"
     ]
    }
   ],
   "source": [
    "ncCountyGDB = \"C:\\EsriTraining\\PYTS\\north_carolina\\CountyData.gdb\"\n",
    "print(ncCountyGDB)"
   ]
  },
  {
   "cell_type": "markdown",
   "metadata": {},
   "source": [
    "## Question 2\n",
    "Goal: demonstrate understanding of string concatenation"
   ]
  },
  {
   "cell_type": "markdown",
   "metadata": {},
   "source": [
    "Which of the following python snippet is an invalid form of string concatenation?"
   ]
  },
  {
   "cell_type": "code",
   "execution_count": 8,
   "metadata": {},
   "outputs": [
    {
     "name": "stdout",
     "output_type": "stream",
     "text": [
      "Esri was founded in 1969\n",
      "Esri was founded in 1969\n",
      "Esri was founded in 1969\n",
      "Esri was founded in 1969\n"
     ]
    },
    {
     "ename": "TypeError",
     "evalue": "can only concatenate str (not \"int\") to str",
     "output_type": "error",
     "traceback": [
      "\u001b[0;31m---------------------------------------------------------------------------\u001b[0m\n\u001b[0;31mTypeError\u001b[0m                                 Traceback (most recent call last)",
      "In  \u001b[0;34m[8]\u001b[0m:\nLine \u001b[0;34m5\u001b[0m:     \u001b[36mprint\u001b[39;49;00m(\u001b[33m\"\u001b[39;49;00m\u001b[33mEsri was founded in \u001b[39;49;00m\u001b[33m\"\u001b[39;49;00m + \u001b[34m1969\u001b[39;49;00m)\u001b[37m\u001b[39;49;00m\n",
      "\u001b[0;31mTypeError\u001b[0m: can only concatenate str (not \"int\") to str\n\u001b[0;31m---------------------------------------------------------------------------\u001b[0m"
     ]
    }
   ],
   "source": [
    "print(\"Esri was founded in \" + \"1969\")\n",
    "print(f\"Esri was founded in {1969}\")\n",
    "print(\"Esri was founded in \" + str(1969))\n",
    "print(\"Esri was founded in {}\".format(1969))\n",
    "print(\"Esri was founded in \" + 1969)"
   ]
  },
  {
   "cell_type": "markdown",
   "metadata": {},
   "source": [
    "## Question 3\n",
    "Goal: Recognize Type Errors in python"
   ]
  },
  {
   "cell_type": "markdown",
   "metadata": {},
   "source": [
    "What type of error does this code snippet contain?\n",
    "- Syntax error\n",
    "- Key error\n",
    "- Name error\n",
    "- Type error"
   ]
  },
  {
   "cell_type": "code",
   "execution_count": 11,
   "metadata": {},
   "outputs": [
    {
     "ename": "SyntaxError",
     "evalue": "unterminated string literal (detected at line 1) (<string>, line 1)",
     "output_type": "error",
     "traceback": [
      "\u001b[0;31m---------------------------------------------------------------------------\u001b[0m\n\u001b[0;31mSyntaxError\u001b[0m                               Traceback (most recent call last)",
      "File \u001b[0;34mC:\\Program Files\\ArcGIS\\Pro\\bin\\Python\\envs\\arcgispro-py3\\Lib\\ast.py\u001b[0m, in \u001b[0;32mparse\u001b[0m:\nLine \u001b[0;34m50\u001b[0m:    \u001b[34mreturn\u001b[39;49;00m \u001b[36mcompile\u001b[39;49;00m(source, filename, mode, flags,\u001b[37m\u001b[39;49;00m\n",
      "\u001b[0;31mSyntaxError\u001b[0m: unterminated string literal (detected at line 1) (<string>, line 1)\n\u001b[0;31m---------------------------------------------------------------------------\u001b[0m"
     ]
    }
   ],
   "source": [
    "ncCountyGDB = \"C:\\EsriTraining\\PYTS\\north_carolina\\CountyData.gdb\n",
    "print(ncCountyGDB)"
   ]
  },
  {
   "cell_type": "markdown",
   "metadata": {},
   "source": [
    "## Question 4\n",
    "Goal: Identify the appropriate data type conversion given a scenario"
   ]
  },
  {
   "cell_type": "code",
   "execution_count": null,
   "metadata": {},
   "outputs": [],
   "source": []
  },
  {
   "cell_type": "markdown",
   "metadata": {},
   "source": [
    "## Question 5\n",
    "Goal: Recognize how abstract python ideas manifest in a script"
   ]
  },
  {
   "cell_type": "code",
   "execution_count": null,
   "metadata": {},
   "outputs": [],
   "source": []
  },
  {
   "cell_type": "markdown",
   "metadata": {},
   "source": [
    "## Question 6\n",
    "Goal: Determine what output a code snippet will return using a for loop"
   ]
  },
  {
   "cell_type": "code",
   "execution_count": null,
   "metadata": {},
   "outputs": [],
   "source": []
  },
  {
   "cell_type": "markdown",
   "metadata": {},
   "source": [
    "## Question 7\n",
    "Goal: Demonstrate understanding for an if-elif-else statement"
   ]
  },
  {
   "cell_type": "code",
   "execution_count": 16,
   "metadata": {},
   "outputs": [
    {
     "name": "stdout",
     "output_type": "stream",
     "text": [
      "The value is 5\n"
     ]
    }
   ],
   "source": [
    "a = 5\n",
    "if a <= 4:\n",
    "    print(\"The value is  less than or equal to 4\")\n",
    "elif a == 5:\n",
    "    print(\"The value is 5\")\n",
    "elif a > 5:\n",
    "    print(\"The value is greater than 5\")\n",
    "else:\n",
    "    print(\"The value is not 4 or 5\")"
   ]
  },
  {
   "cell_type": "code",
   "execution_count": null,
   "metadata": {},
   "outputs": [],
   "source": []
  }
 ],
 "metadata": {
  "kernelspec": {
   "display_name": "ArcGISPro",
   "language": "Python",
   "name": "python3"
  },
  "language_info": {
   "file_extension": ".py",
   "name": "python",
   "version": "3"
  }
 },
 "nbformat": 4,
 "nbformat_minor": 2
}
