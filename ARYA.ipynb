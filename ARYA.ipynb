{
 "cells": [
  {
   "cell_type": "markdown",
   "metadata": {},
   "source": [
    "# ARYA questions"
   ]
  },
  {
   "cell_type": "markdown",
   "metadata": {},
   "source": [
    "7 questions about python:\n",
    "- Recognize or troubleshoot file paths\n",
    "- Familiar with at least one type of string concatenation\n",
    "- Recognize Type Errors in python\n",
    "- Data type conversion\n",
    "- Understand vocabulary: property, method, object, class\n",
    "- Determine what output a code snippet will return\n",
    "- A scenario for if-elif-else understanding."
   ]
  },
  {
   "cell_type": "markdown",
   "metadata": {},
   "source": [
    "3 questions about ArcGIS Pro\n",
    "- Use of environment settings\n",
    "- A scenario to identify the appropriate workflow\n",
    "- Differentiate between a layer and a feature class"
   ]
  },
  {
   "cell_type": "markdown",
   "metadata": {},
   "source": [
    "## Question 1\n",
    "Goal: the potential learner should recognize how to fix or troubleshoot an invalid filepath"
   ]
  },
  {
   "cell_type": "markdown",
   "metadata": {},
   "source": [
    "### What are ways to fix this Syntax Error? (Choose two)\n",
    "```py\n",
    "ncCountyGDB = \"C:\\EsriTraining\\PYTS\\north_carolina\\CountyData.gdb\"\n",
    "print(ncCountyGDB)\n",
    "```\n",
    "- Change the string to a raw string\n",
    "- Replace \\ with \\\\\n",
    "- Replace \\ with //\n",
    "- Remove the reference to the C-drive"
   ]
  },
  {
   "cell_type": "markdown",
   "metadata": {},
   "source": [
    "## Question 2\n",
    "Goal: demonstrate understanding of string concatenation"
   ]
  },
  {
   "cell_type": "markdown",
   "metadata": {},
   "source": [
    "### Which of the following python snippet is an invalid form of string concatenation?\n",
    "- `print(\"Esri was founded in \" + \"1969\")`\n",
    "- `print(f\"Esri was founded in {1969}\")`\n",
    "- `print(\"Esri was founded in \" + str(1969))`\n",
    "- `print(\"Esri was founded in {}\".format(1969))`\n",
    "- `print(\"Esri was founded in \" + 1969)`"
   ]
  },
  {
   "cell_type": "markdown",
   "metadata": {},
   "source": [
    "## Question 3\n",
    "Goal: Recognize Type Errors in python"
   ]
  },
  {
   "cell_type": "markdown",
   "metadata": {},
   "source": [
    "### What type of error does this code snippet contain?\n",
    "```py\n",
    "ncCountyGDB = \"C:\\EsriTraining\\PYTS\\north_carolina\\CountyData.gdb\n",
    "print(ncCountyGDB)\n",
    "```\n",
    "- Syntax error\n",
    "- Key error\n",
    "- Name error\n",
    "- Type error"
   ]
  },
  {
   "cell_type": "markdown",
   "metadata": {},
   "source": [
    "## Question 4\n",
    "Goal: Identify the appropriate data type conversion given a scenario"
   ]
  },
  {
   "cell_type": "markdown",
   "metadata": {},
   "source": [
    "### Given the code below, which function will convert `year` to the proper class?\n",
    "```py\n",
    "year = 1969\n",
    "print(\"Esri was founded in \" + year)\n",
    "```\n",
    "- `str(year)`\n",
    "- `int(year)`\n",
    "- `text(year)`\n",
    "- `convert(year, 'string')`"
   ]
  },
  {
   "cell_type": "markdown",
   "metadata": {},
   "source": [
    "## Question 5\n",
    "Goal: Recognize how abstract python ideas manifest in a script"
   ]
  },
  {
   "cell_type": "markdown",
   "metadata": {},
   "source": [
    "### What is `append`?\n",
    "```py\n",
    "myList = ['maps', 'layers', 'web apps']\n",
    "myList.append('services')\n",
    "```\n",
    "- Function\n",
    "- Method\n",
    "- String\n",
    "- Class"
   ]
  },
  {
   "cell_type": "markdown",
   "metadata": {},
   "source": [
    "## Question 6\n",
    "Goal: Determine what output a code snippet will return using a for loop"
   ]
  },
  {
   "cell_type": "markdown",
   "metadata": {},
   "source": [
    "### What task the code below perform?\n",
    "```py\n",
    "myList = ['maps', 'layers', 'web apps', 'services']\n",
    "for item in myList:\n",
    "    print('Esri loves ' + item)\n",
    "```\n",
    "- Printing the contents of `myList` multiple times\n",
    "- Printing just each element in the `myList` variable\n",
    "- Printing `'Esri loves '` multiple times\n",
    "- Printing a concatenated string element in the `myList` variable"
   ]
  },
  {
   "cell_type": "markdown",
   "metadata": {},
   "source": [
    "## Question 7\n",
    "Goal: Demonstrate understanding for an if-elif-else statement"
   ]
  },
  {
   "cell_type": "markdown",
   "metadata": {},
   "source": [
    "### Which statements are skipped in the execution of this code?\n",
    "```py\n",
    "a = 5\n",
    "if a <= 4:\n",
    "    print(\"The value is  less than or equal to 4\")\n",
    "elif a == 5:\n",
    "    print(\"The value is 5\")\n",
    "elif a > 5:\n",
    "    print(\"The value is greater than 5\")\n",
    "else:\n",
    "    print(\"The value is not 4 or 5\")\n",
    "```\n",
    "- `if a <= 4`\n",
    "- `elif a == 5`\n",
    "- `elif a > 5`\n",
    "- `else`"
   ]
  },
  {
   "cell_type": "markdown",
   "metadata": {},
   "source": [
    "## Question 8\n",
    "Goal: Demonstrate understanding of environment settings"
   ]
  },
  {
   "cell_type": "markdown",
   "metadata": {},
   "source": [
    "### What are environment settings in ArcGIS Pro?\n",
    "- Additional settings to control geoprocessing tools\n",
    "- Visualization settings for displaying data in ArcGIS Pro maps.\n",
    "- Additional settings only for python for geoprocessing.\n",
    "- Customizable settings for controlling editing operations."
   ]
  },
  {
   "cell_type": "markdown",
   "metadata": {},
   "source": [
    "## Question 9\n",
    "Goal: Choose a proper workflow given a scenario"
   ]
  },
  {
   "cell_type": "markdown",
   "metadata": {},
   "source": [
    "In ArcGIS Pro, a GIS analyst wants to create a geodatabase feature class from a subset of features. Which method should the analyst use?\n",
    "- Delete features from the shapefile, and then use a conversion tool to create the feature class.\n",
    "- Use a conversion tool and specify a SQL expression to convert a subset of features.\n",
    "- Create an empty table, and then selectively load a subset of features into it.\n",
    "- Truncate features into a new feature class using data management tools."
   ]
  },
  {
   "cell_type": "markdown",
   "metadata": {},
   "source": [
    "## Question 10\n",
    "Goal: Differentiate between a layer and a feature class"
   ]
  },
  {
   "cell_type": "markdown",
   "metadata": {},
   "source": [
    "### Which of the following characteristics is true for a layer, but not a feature class?\n",
    "- Support for definition queries.\n",
    "- Valid input for the Buffer tool.\n",
    "- Has a spatial reference.\n",
    "- Can be used in ModelBuilder as input."
   ]
  }
 ],
 "metadata": {
  "kernelspec": {
   "display_name": "Python 3",
   "language": "python",
   "name": "python3"
  },
  "language_info": {
   "codemirror_mode": {
    "name": "ipython",
    "version": 3
   },
   "file_extension": ".py",
   "mimetype": "text/x-python",
   "name": "python",
   "nbconvert_exporter": "python",
   "pygments_lexer": "ipython3",
   "version": "3.11.8"
  }
 },
 "nbformat": 4,
 "nbformat_minor": 2
}
