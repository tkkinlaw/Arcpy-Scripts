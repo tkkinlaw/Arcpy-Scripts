{
 "cells": [
  {
   "cell_type": "markdown",
   "metadata": {},
   "source": [
    "### Review the data using the SearchCursor"
   ]
  },
  {
   "cell_type": "code",
   "execution_count": null,
   "metadata": {},
   "outputs": [],
   "source": [
    "ImportedP = \"ImportedParcels\"\n",
    "fieldList = [\"Parcel_ID\", \"Street_Number\", \"Street_Name\", \"City\", \"State\", \"Zip\", \"Owner_Name\", \"Phone_Number\", \"SquFoot\", \"TaxValue\", \"PriceSquFt\", \"DateCreated\"]\n",
    "with arcpy.da.SearchCursor(ImportedP, fieldList) as sCursor:\n",
    "    for row in sCursor:\n",
    "        print(f\"Parcel ID: {row[0]} | Street Number: {row[1]}, Street_Name: {row[2]} | City: {row[3]} | State: {row[4]} | Zip: {int(row[5])}, Owner: {row[6]} | Square Footage: {row[7]} | Tax Value: {row[8]} | Price per Square Foot: {row[9]} | Date Created: {row[11]}\")\n",
    "del sCursor"
   ]
  },
  {
   "cell_type": "markdown",
   "metadata": {},
   "source": [
    "### Delete out of data rows"
   ]
  },
  {
   "cell_type": "code",
   "execution_count": null,
   "metadata": {},
   "outputs": [],
   "source": [
    "whereClause = \"\"\"DateCreated < time '1999-12-31' or DateCreated > time '2011-01-01'\"\"\"\n",
    "with arcpy.da.UpdateCursor(ImportedP, fieldList, where_clause=whereClause) as uCursor:\n",
    "    for row in uCursor:\n",
    "        uCursor.deleteRow()\n",
    "        print(row)\n",
    "del uCursor"
   ]
  },
  {
   "cell_type": "markdown",
   "metadata": {},
   "source": [
    "### Update Incorrect Data values"
   ]
  },
  {
   "cell_type": "code",
   "execution_count": null,
   "metadata": {},
   "outputs": [],
   "source": [
    "whereClause = \"\"\"State <> 'NC'\"\"\"\n",
    "with arcpy.da.UpdateCursor(ImportedP, fieldList, where_clause=whereClause) as uCursor:\n",
    "    for row in uCursor:\n",
    "        row[4] = 'NC'\n",
    "        uCursor.updateRow(row)\n",
    "del uCursor"
   ]
  },
  {
   "cell_type": "markdown",
   "metadata": {},
   "source": [
    "### Calculate Price Per Square foot"
   ]
  },
  {
   "cell_type": "code",
   "execution_count": null,
   "metadata": {},
   "outputs": [],
   "source": [
    "with arcpy.da.UpdateCursor(ImportedP, fieldList) as uCursor:\n",
    "    for row in uCursor:\n",
    "        row[10] = row[9]/row[8]\n",
    "        uCursor.updateRow(row)\n",
    "del uCursor"
   ]
  },
  {
   "cell_type": "markdown",
   "metadata": {},
   "source": [
    "### Insert features into a feature class"
   ]
  },
  {
   "cell_type": "code",
   "execution_count": null,
   "metadata": {},
   "outputs": [],
   "source": [
    "fieldList = [\"Parcel_ID\", \"Street_Number\", \"Street_Name\", \"City\", \"State\", \"Zip\", \"Owner_Name\", \"Phone_Number\", \"SquFoot\", \"TaxValue\", \"PriceSquFt\", \"DateCreated\", \"SHAPE@\"]\n",
    "ParcelFC = \"ParcelPts\"\n",
    "sourceCursor = arcpy.da.SearchCursor(ImportedP, fieldList)\n",
    "targetCursor = arcpy.da.InsertCursor(ParcelFC, fieldList)\n",
    "for row in sourceCursor:\n",
    "    targetCursor.insertRow(row)\n",
    "del sourceCursor\n",
    "del targetCursor"
   ]
  }
 ],
 "metadata": {
  "kernelspec": {
   "display_name": "ArcGISPro",
   "language": "Python",
   "name": "python3"
  },
  "language_info": {
   "file_extension": ".py",
   "name": "python",
   "version": "3"
  }
 },
 "nbformat": 4,
 "nbformat_minor": 2
}
