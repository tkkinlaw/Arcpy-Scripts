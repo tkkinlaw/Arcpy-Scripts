{
 "cells": [
  {
   "cell_type": "markdown",
   "metadata": {},
   "source": [
    "# Scenario\n",
    "- We have a folder of Shapefiles: C:\\Users\\student\\Desktop\\PYTS\\San_Diego\\Ecology\n",
    "- We want to run the buffer tool on each, if it is Polygon geometry\n",
    "- The outputs should live in a new geodatabase: C:\\Users\\student\\Desktop\\PYTS\\San_Diego\\Ecology.gdb"
   ]
  },
  {
   "cell_type": "markdown",
   "metadata": {},
   "source": [
    "# Plan\n",
    "1. Set the env in arcpy\n",
    "2. Create list of the input data\n",
    "3. Create the new file geodatabase \n",
    "4. Develop the for loop"
   ]
  },
  {
   "cell_type": "code",
   "execution_count": 1,
   "metadata": {},
   "outputs": [],
   "source": [
    "import os"
   ]
  },
  {
   "cell_type": "code",
   "execution_count": 2,
   "metadata": {},
   "outputs": [],
   "source": [
    "inFolder = r'C:\\Users\\student\\Desktop\\PYTS\\San_Diego\\SANDAG\\Ecology'\n",
    "gdbLoc = r'C:\\Users\\student\\Desktop\\PYTS\\San_Diego'\n",
    "gdbName = 'Ecology'\n",
    "arcpy.env.workspace = inFolder"
   ]
  },
  {
   "cell_type": "code",
   "execution_count": 3,
   "metadata": {},
   "outputs": [],
   "source": [
    "gdb = os.path.join(gdbLoc, gdbName + '.gdb')"
   ]
  },
  {
   "cell_type": "code",
   "execution_count": 4,
   "metadata": {},
   "outputs": [
    {
     "name": "stdout",
     "output_type": "stream",
     "text": [
      "['Canyons.shp', 'climate_regions.shp', 'climate_subregions.shp', 'Eco_Isopluvials.shp', 'Environmentally_Sensitive_Areas.shp', 'Forest_Conservation_Init.shp', 'Isopluvials_85thPercent.shp', 'MSCP_CN.shp', 'MSCP_Habitrak.shp', 'MSCP_NorthDraft_CN.shp', 'Precipitation.shp', 'PubUtil_Habitat_Mitigation_Sites.shp', 'SANDAG_major_spp_pop.shp', 'Watersheds.shp']\n"
     ]
    }
   ],
   "source": [
    "listShp = arcpy.ListFeatureClasses()\n",
    "print(listShp)"
   ]
  },
  {
   "cell_type": "code",
   "execution_count": 5,
   "metadata": {},
   "outputs": [
    {
     "data": {
      "text/html": [
       "<div class='gpresult'><h2>Messages</h2><div id='messages'>Start Time: Tuesday, October 15, 2024 4:25:16 PM<br>Succeeded at Tuesday, October 15, 2024 4:25:17 PM (Elapsed Time: 0.83 seconds)<br></div><div id = 'default' /></div></div>"
      ],
      "text/plain": [
       "<Result 'C:\\\\Users\\\\student\\\\Desktop\\\\PYTS\\\\San_Diego\\\\Ecology.gdb'>"
      ]
     },
     "execution_count": 5,
     "metadata": {},
     "output_type": "execute_result"
    }
   ],
   "source": [
    "arcpy.management.CreateFileGDB(out_folder_path=gdbLoc, out_name=gdbName)"
   ]
  },
  {
   "cell_type": "code",
   "execution_count": 6,
   "metadata": {
    "scrolled": true
   },
   "outputs": [
    {
     "name": "stdout",
     "output_type": "stream",
     "text": [
      "Canyons.shp\n",
      "C:\\Users\\student\\Desktop\\PYTS\\San_Diego\\Ecology.gdb\\Canyons\n",
      "climate_regions.shp\n",
      "C:\\Users\\student\\Desktop\\PYTS\\San_Diego\\Ecology.gdb\\climate_regions\n",
      "climate_subregions.shp\n",
      "C:\\Users\\student\\Desktop\\PYTS\\San_Diego\\Ecology.gdb\\climate_subregions\n",
      "Environmentally_Sensitive_Areas.shp\n",
      "C:\\Users\\student\\Desktop\\PYTS\\San_Diego\\Ecology.gdb\\Environmentally_Sensitive_Areas\n",
      "Forest_Conservation_Init.shp\n",
      "C:\\Users\\student\\Desktop\\PYTS\\San_Diego\\Ecology.gdb\\Forest_Conservation_Init\n",
      "MSCP_CN.shp\n",
      "C:\\Users\\student\\Desktop\\PYTS\\San_Diego\\Ecology.gdb\\MSCP_CN\n",
      "MSCP_Habitrak.shp\n",
      "C:\\Users\\student\\Desktop\\PYTS\\San_Diego\\Ecology.gdb\\MSCP_Habitrak\n",
      "MSCP_NorthDraft_CN.shp\n",
      "C:\\Users\\student\\Desktop\\PYTS\\San_Diego\\Ecology.gdb\\MSCP_NorthDraft_CN\n",
      "Precipitation.shp\n",
      "C:\\Users\\student\\Desktop\\PYTS\\San_Diego\\Ecology.gdb\\Precipitation\n",
      "PubUtil_Habitat_Mitigation_Sites.shp\n",
      "C:\\Users\\student\\Desktop\\PYTS\\San_Diego\\Ecology.gdb\\PubUtil_Habitat_Mitigation_Sites\n",
      "SANDAG_major_spp_pop.shp\n",
      "C:\\Users\\student\\Desktop\\PYTS\\San_Diego\\Ecology.gdb\\SANDAG_major_spp_pop\n",
      "Watersheds.shp\n",
      "C:\\Users\\student\\Desktop\\PYTS\\San_Diego\\Ecology.gdb\\Watersheds\n",
      "Script complete\n"
     ]
    }
   ],
   "source": [
    "# iterate over each shapefile\n",
    "for shp in listShp:\n",
    "    dd = arcpy.da.Describe(shp)\n",
    "    geom = dd['shapeType']\n",
    "    # Check to see if it's a polygon\n",
    "    if geom == \"Polygon\":\n",
    "        print(shp)\n",
    "        print(os.path.join(gdb, dd['baseName']))\n",
    "        arcpy.analysis.Buffer(in_features=shp,\n",
    "                              out_feature_class = os.path.join(gdb, dd['baseName']),\n",
    "                              buffer_distance_or_field=\"1 mile\")\n",
    "print(\"Script complete\")"
   ]
  }
 ],
 "metadata": {
  "kernelspec": {
   "display_name": "ArcGISPro",
   "language": "Python",
   "name": "python3"
  },
  "language_info": {
   "file_extension": ".py",
   "name": "python",
   "version": "3"
  }
 },
 "nbformat": 4,
 "nbformat_minor": 2
}
