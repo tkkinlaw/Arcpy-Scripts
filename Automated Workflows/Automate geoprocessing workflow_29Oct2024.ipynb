{
 "cells": [
  {
   "cell_type": "markdown",
   "metadata": {},
   "source": [
    "## Workflow details\n",
    "- We have a folder of Shapefiles: C:\\Users\\student\\Desktop\\PYTS\\SANDAG\\Ecology\n",
    "- We want to run the buffer tool on each, if it is Polygon geometry\n",
    "- The outputs should live in a new geodatabase: C:\\Users\\student\\Desktop\\PYTS\\SANDAG\\Ecology.gdb\n",
    "- Assume a constant 1 Mile buffer"
   ]
  },
  {
   "cell_type": "markdown",
   "metadata": {},
   "source": [
    "## Declare variables"
   ]
  },
  {
   "cell_type": "code",
   "execution_count": null,
   "metadata": {},
   "outputs": [],
   "source": [
    "import os"
   ]
  },
  {
   "cell_type": "code",
   "execution_count": null,
   "metadata": {},
   "outputs": [],
   "source": [
    "shpFolder = r\"C:\\\\Users\\\\student\\\\Desktop\\\\PYTS\\\\San_Diego\\\\SANDAG\\\\Ecology\"\n",
    "gdbFolderPath = r\"C:\\Users\\student\\Desktop\\PYTS\\San_Diego\\SANDAG\"\n",
    "gdbName = 'Ecology.gdb'"
   ]
  },
  {
   "cell_type": "code",
   "execution_count": null,
   "metadata": {},
   "outputs": [],
   "source": [
    "gdb = os.path.join(gdbFolderPath, gdbName)\n",
    "print(gdb)"
   ]
  },
  {
   "cell_type": "markdown",
   "metadata": {},
   "source": [
    "## Create the list of data (shapefiles)"
   ]
  },
  {
   "cell_type": "code",
   "execution_count": null,
   "metadata": {},
   "outputs": [],
   "source": [
    "arcpy.env.workspace = shpFolder\n",
    "shpList = arcpy.ListFeatureClasses()\n",
    "print(shpList)"
   ]
  },
  {
   "cell_type": "markdown",
   "metadata": {},
   "source": [
    "## Create the new geodatabase"
   ]
  },
  {
   "cell_type": "code",
   "execution_count": null,
   "metadata": {},
   "outputs": [],
   "source": [
    "arcpy.management.CreateFileGDB(out_folder_path=gdbFolderPath, out_name=gdbName)\n",
    "print(\"GDB created\")"
   ]
  },
  {
   "cell_type": "markdown",
   "metadata": {},
   "source": [
    "## Start the for-loop to run the buffer tool on each polygon\n",
    "Note to self:\n",
    "- We need to test if the shapefile is a polygon\n",
    "- We will need to create a unique output name for each output buffer"
   ]
  },
  {
   "cell_type": "code",
   "execution_count": null,
   "metadata": {
    "scrolled": true
   },
   "outputs": [],
   "source": [
    "for shp in shpList:\n",
    "    print(shp)\n",
    "    d = arcpy.da.Describe(shp)\n",
    "    if d['shapeType'] == 'Polygon':\n",
    "        outputPath = os.path.join(gdb, d['baseName'] + \"_buffer\")\n",
    "        print(outputPath)\n",
    "        arcpy.analysis.Buffer(in_features=shp, out_feature_class=outputPath, buffer_distance_or_field='1 Mile')\n",
    "    else:\n",
    "        pass"
   ]
  }
 ],
 "metadata": {
  "kernelspec": {
   "display_name": "ArcGISPro",
   "language": "Python",
   "name": "python3"
  },
  "language_info": {
   "file_extension": ".py",
   "name": "python",
   "version": "3"
  }
 },
 "nbformat": 4,
 "nbformat_minor": 2
}
