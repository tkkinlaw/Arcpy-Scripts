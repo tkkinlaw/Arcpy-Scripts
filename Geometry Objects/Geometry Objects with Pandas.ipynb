{
 "cells": [
  {
   "cell_type": "code",
   "execution_count": null,
   "metadata": {},
   "outputs": [],
   "source": [
    "import pandas as pd\n",
    "import numpy as np"
   ]
  },
  {
   "cell_type": "code",
   "execution_count": null,
   "metadata": {},
   "outputs": [],
   "source": [
    "file = r\"C:\\Users\\student\\Desktop\\PYTS\\BlueSkyEcologicalStream.csv\""
   ]
  },
  {
   "cell_type": "code",
   "execution_count": null,
   "metadata": {},
   "outputs": [],
   "source": [
    "df = pd.read_csv(file, header=None)\n",
    "df.rename(columns = {0: \"X\", 1: \"Y\"}, inplace=True)"
   ]
  },
  {
   "cell_type": "code",
   "execution_count": null,
   "metadata": {},
   "outputs": [],
   "source": [
    "ary = arcpy.Array()\n",
    "sp = arcpy.SpatialReference(2230)\n",
    "print(sp.name)"
   ]
  },
  {
   "cell_type": "code",
   "execution_count": null,
   "metadata": {},
   "outputs": [],
   "source": [
    "# Read each row one by one\n",
    "for row in df.iterrows():\n",
    "    x = row[1][0]\n",
    "    y=row[1][1]\n",
    "    pnt = arcpy.Point(x,y)\n",
    "    ary.append(pnt)\n",
    "print(len(ary))"
   ]
  },
  {
   "cell_type": "code",
   "execution_count": null,
   "metadata": {},
   "outputs": [],
   "source": [
    "streamGeom = arcpy.Polyline(ary, spatial_reference=sp)\n",
    "streamGeom"
   ]
  },
  {
   "cell_type": "code",
   "execution_count": null,
   "metadata": {},
   "outputs": [],
   "source": [
    "arcpy.overwriteOutput = True\n",
    "arcpy.CreateFeatureclass_management(r\"C:\\Users\\student\\Desktop\\PYTS\\SanDiego.gdb\",\"StreamSamplePts\", \"Point\", spatial_reference=sp)"
   ]
  },
  {
   "cell_type": "code",
   "execution_count": null,
   "metadata": {},
   "outputs": [],
   "source": [
    "samplePerc = np.arange(0, 1.25, 0.25)\n",
    "samplePerc"
   ]
  },
  {
   "cell_type": "code",
   "execution_count": null,
   "metadata": {},
   "outputs": [],
   "source": [
    "pointGeomList = []\n",
    "for value in samplePerc:\n",
    "    print(value)\n",
    "    pointGeom = streamGeom.positionAlongLine(value, True)\n",
    "    pointGeomList.append(pointGeom)\n",
    "    print(pointGeom.centroid.X, pointGeom.centroid.Y)"
   ]
  },
  {
   "cell_type": "code",
   "execution_count": null,
   "metadata": {},
   "outputs": [],
   "source": [
    "cursor = arcpy.da.InsertCursor(r\"C:\\Users\\student\\Desktop\\PYTS\\SanDiego.gdb\\StreamSamplePts\", \"Shape@XY\")\n",
    "\n",
    "for geom in pointGeomList:\n",
    "    print((geom.centroid.X, geom.centroid.Y))\n",
    "    cursor.insertRow([(geom.centroid.X, geom.centroid.Y)])\n",
    "del cursor"
   ]
  },
  {
   "cell_type": "code",
   "execution_count": null,
   "metadata": {},
   "outputs": [],
   "source": [
    "pointGeom.spatialReference"
   ]
  },
  {
   "cell_type": "code",
   "execution_count": null,
   "metadata": {},
   "outputs": [],
   "source": []
  }
 ],
 "metadata": {
  "kernelspec": {
   "display_name": "ArcGISPro",
   "language": "Python",
   "name": "python3"
  },
  "language_info": {
   "file_extension": ".py",
   "name": "python",
   "version": "3"
  }
 },
 "nbformat": 4,
 "nbformat_minor": 2
}
