{
 "cells": [
  {
   "cell_type": "markdown",
   "metadata": {},
   "source": [
    "# Genereate Longest Lines for Polygons"
   ]
  },
  {
   "cell_type": "markdown",
   "metadata": {},
   "source": [
    "## Import packages"
   ]
  },
  {
   "cell_type": "code",
   "execution_count": 1,
   "metadata": {},
   "outputs": [],
   "source": [
    "import os\n",
    "import pandas as pd\n",
    "from arcgis.gis import GIS\n",
    "import arcgis"
   ]
  },
  {
   "cell_type": "markdown",
   "metadata": {},
   "source": [
    "## Extract geometry objects from polygons"
   ]
  },
  {
   "cell_type": "markdown",
   "metadata": {},
   "source": [
    "The value for the *polygon* variable should be replaced with your polygon feature class file path."
   ]
  },
  {
   "cell_type": "code",
   "execution_count": 2,
   "metadata": {},
   "outputs": [
    {
     "name": "stdout",
     "output_type": "stream",
     "text": [
      "There are 2 features to process\n"
     ]
    }
   ],
   "source": [
    "polygons = \"NC_Counties\"\n",
    "\n",
    "src = arcpy.da.SearchCursor(polygons, [\"Shape@\", \"OID@\"])\n",
    "polygonList = []\n",
    "for row in src:\n",
    "    polygonList.append(row[0])\n",
    "del src\n",
    "print(f\"There are {len(polygonList)} features to process\")"
   ]
  },
  {
   "cell_type": "markdown",
   "metadata": {},
   "source": [
    "## Create a function for processing"
   ]
  },
  {
   "cell_type": "markdown",
   "metadata": {},
   "source": [
    "This function iterates through all the polygons provided. It calculates the distance between every coordinate pair in the polygon. It stores the coordinates and distance of the longest line."
   ]
  },
  {
   "cell_type": "code",
   "execution_count": 3,
   "metadata": {},
   "outputs": [],
   "source": [
    "def LongestLineInFeature(polygon):\n",
    "    pointList = polygonList[polygon][0]\n",
    "    i = 0\n",
    "    j = 0\n",
    "    numPnts = len(pointList)\n",
    "    print(f\"There are {numPnts} verticies to process\")\n",
    "    print(f\"Processing feature #{polygon}\")\n",
    "    longestDistance = 0\n",
    "    longestDistanceCoords = []\n",
    "    for point in pointList:\n",
    "        i = 0\n",
    "        while i != numPnts:\n",
    "            pnt1 = arcpy.PointGeometry(pointList[i])\n",
    "            pnt2 = arcpy.PointGeometry(pointList[j])\n",
    "            dist = pnt1.distanceTo(pnt2)\n",
    "            if dist > longestDistance:\n",
    "                longestDistance = dist\n",
    "                longestDistanceCoords = [pnt1, pnt2]\n",
    "            i += 1\n",
    "        j += 1\n",
    "    print(f\"The longest line distance is {longestDistance}\")\n",
    "    return [longestDistance, longestDistanceCoords]"
   ]
  },
  {
   "cell_type": "markdown",
   "metadata": {},
   "source": [
    "## Use the function and generate output"
   ]
  },
  {
   "cell_type": "markdown",
   "metadata": {},
   "source": [
    "This code creates a feature class in the project's default geodatabase called *LongestLines*. It adds the longest line as a feature to this feature class.\n",
    "\n",
    "You can replace the values for the *outLocation* and *outName* variables to change the output location.\n",
    "\n",
    "Depending on the complexity of your polygons, this code can take a long time to run."
   ]
  },
  {
   "cell_type": "code",
   "execution_count": 4,
   "metadata": {},
   "outputs": [
    {
     "name": "stdout",
     "output_type": "stream",
     "text": [
      "0\n",
      "There are 340 verticies to process\n",
      "Processing feature #0\n",
      "The longest line distance is 64629.578825363526\n",
      "1\n",
      "There are 225 verticies to process\n",
      "Processing feature #1\n",
      "The longest line distance is 73768.03327788014\n"
     ]
    }
   ],
   "source": [
    "arcpy.overwriteOutput = True\n",
    "\n",
    "outLocation = arcpy.env.workspace\n",
    "outName = \"LongestLines\"\n",
    "fcPath = os.path.join(outLocation, outName)\n",
    "\n",
    "arcpy.management.CreateFeatureclass(outLocation, outName, \"POLYLINE\", spatial_reference=3857)\n",
    "arcpy.management.AddField(fcPath, \"LongestDistance\", \"DOUBLE\")\n",
    "\n",
    "iCur = arcpy.da.InsertCursor(fcPath, ['Shape@', 'LongestDistance'])\n",
    "\n",
    "for num in range(len(polygonList)):\n",
    "    print(num)\n",
    "    output = LongestLineInFeature(num)\n",
    "    coords = arcpy.Array()\n",
    "    for coord in output[1]:\n",
    "        coords.append(coord.centroid)\n",
    "    polyline = arcpy.Polyline(coords)\n",
    "    iCur.insertRow([polyline, output[0]])\n",
    "del iCur"
   ]
  },
  {
   "cell_type": "markdown",
   "metadata": {},
   "source": [
    "## Visualize results"
   ]
  },
  {
   "cell_type": "markdown",
   "metadata": {},
   "source": [
    "Use the ArcGIS API for Python to embed a web map, and display the results.\n",
    "You will want to update the location the map widget shows using the parameters for the gis.map function."
   ]
  },
  {
   "cell_type": "code",
   "execution_count": 5,
   "metadata": {},
   "outputs": [
    {
     "data": {
      "application/vnd.jupyter.widget-view+json": {
       "model_id": "b2eaeef06d694448b0ebabf6181832be",
       "version_major": 2,
       "version_minor": 0
      },
      "text/plain": [
       "MapView(layout=Layout(height='400px', width='100%'))"
      ]
     },
     "metadata": {},
     "output_type": "display_data"
    },
    {
     "data": {
      "text/html": [
       "<div class=\"map-static-img-preview-bae29109-13dc-4694-97d9-9321e8cd0a81\"><img src=\"\"></img></div>"
      ],
      "text/plain": [
       "<display.HTML object>"
      ]
     },
     "metadata": {},
     "output_type": "display_data"
    },
    {
     "data": {
      "text/html": [
       "<div class=\"map-html-embed-preview-bae29109-13dc-4694-97d9-9321e8cd0a81\"></div>"
      ],
      "text/plain": [
       "<display.HTML object>"
      ]
     },
     "metadata": {},
     "output_type": "display_data"
    }
   ],
   "source": [
    "gis = GIS()\n",
    "map1 = gis.map('Mebane, NC', zoomlevel = 9)\n",
    "sdf = pd.DataFrame.spatial.from_featureclass(fcPath)\n",
    "map1.add_layer(sdf)\n",
    "map1"
   ]
  }
 ],
 "metadata": {
  "kernelspec": {
   "display_name": "ArcGISPro",
   "language": "Python",
   "name": "python3"
  },
  "language_info": {
   "file_extension": ".py",
   "name": "python",
   "version": "3"
  }
 },
 "nbformat": 4,
 "nbformat_minor": 2
}
