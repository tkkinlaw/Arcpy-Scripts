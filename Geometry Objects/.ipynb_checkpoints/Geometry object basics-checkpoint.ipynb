{
 "cells": [
  {
   "cell_type": "markdown",
   "metadata": {},
   "source": [
    "### Create a Point object\n",
    "#### Syntax\n",
    "\n",
    "arcpy.Point({X}, {Y}, {Z}, {M}, {ID})"
   ]
  },
  {
   "cell_type": "code",
   "execution_count": 6,
   "metadata": {},
   "outputs": [],
   "source": [
    "vertex = arcpy.Point('6324262.83494626', ' 1951675.563824594')"
   ]
  },
  {
   "cell_type": "markdown",
   "metadata": {},
   "source": [
    "### Create a Point Geometry Object\n",
    "#### Syntax\n",
    "arcpy.PointGeometry(inputs, {spatial_reference}, {has_z}, {has_m})"
   ]
  },
  {
   "cell_type": "code",
   "execution_count": 7,
   "metadata": {},
   "outputs": [],
   "source": [
    "pointGeom = arcpy.PointGeometry(vertex)"
   ]
  },
  {
   "cell_type": "markdown",
   "metadata": {},
   "source": [
    "### Create multiple Point objects for more complex geometry\n",
    "#### Syntax\n",
    "arcpy.Point({X}, {Y}, {Z}, {M}, {ID})"
   ]
  },
  {
   "cell_type": "code",
   "execution_count": 8,
   "metadata": {},
   "outputs": [],
   "source": [
    "# Gather the vertices (Point objects)\n",
    "v1 = arcpy.Point(6324262.83494626, 1951675.56382459)\n",
    "v2 = arcpy.Point(6324286.49992518, 1951607.12498508)\n",
    "v3 = arcpy.Point(6324468.49988925, 1951413.87504351)"
   ]
  },
  {
   "cell_type": "markdown",
   "metadata": {},
   "source": [
    "### Gather Point objects for more complex geometry\n",
    "#### Syntax\n",
    "arcpy.Array({items})\n",
    "- Items can include a Point object, another Array object, or any iterable object that returns Point objects."
   ]
  },
  {
   "cell_type": "code",
   "execution_count": 9,
   "metadata": {},
   "outputs": [],
   "source": [
    "# Put the vertices in a list\n",
    "vertList = [v1, v2, v3]\n",
    "# Use the list of vertices to create an Array object\n",
    "ary = arcpy.Array(vertList)"
   ]
  },
  {
   "cell_type": "markdown",
   "metadata": {},
   "source": [
    "### Create a Polyline object\n",
    "#### Syntax\n",
    "Polyline(inputs, {spatial_reference}, {has_z}, {has_m})\n",
    "- Inputs are the Point or Array objects. (Think - why would you want a single point for a line?...probably going to use array)"
   ]
  },
  {
   "cell_type": "code",
   "execution_count": 10,
   "metadata": {},
   "outputs": [
    {
     "data": {
      "image/svg+xml": [
       "<svg xmlns=\"http://www.w3.org/2000/svg\" xmlns:xlink=\"http://www.w3.org/1999/xlink\" width=\"226.6000454770401\" height=\"282.6238835665863\" viewBox=\"6324252.367395016 1951403.4074922667 226.6000454770401 282.6238835665863\" preserveAspectRatio=\"xMinYMin meet\"><g transform=\"matrix(1,0,0,-1,0,3903089.4388681)\"><g><polyline fill=\"none\" stroke=\"#66cc99\" stroke-width=\"2.0\" points=\"6324262.83494626,1951675.56382459 6324286.49992518,1951607.12498508 6324468.49988925,1951413.87504351\" opacity=\"0.8\" /></g></g></svg>"
      ],
      "text/plain": [
       "<Polyline object at 0x2c8816602c8[0x2c8897afe70]>"
      ]
     },
     "execution_count": 10,
     "metadata": {},
     "output_type": "execute_result"
    }
   ],
   "source": [
    "# Create the polyline geometry object using the array\n",
    "polylineGeom = arcpy.Polyline(ary)\n",
    "polylineGeom"
   ]
  },
  {
   "cell_type": "markdown",
   "metadata": {},
   "source": [
    "### Create a Polygon object\n",
    "#### Syntax\n",
    "arcpy.Polygon(inputs, {spatial_reference}, {has_z}, {has_m})\n",
    "- Inputs can be either Point or Array objects. (Think - why would you want a single point for a polygon?...probably going to use array)"
   ]
  },
  {
   "cell_type": "code",
   "execution_count": 11,
   "metadata": {
    "scrolled": true
   },
   "outputs": [
    {
     "data": {
      "image/svg+xml": [
       "<svg xmlns=\"http://www.w3.org/2000/svg\" xmlns:xlink=\"http://www.w3.org/1999/xlink\" width=\"226.599897461012\" height=\"282.62388427741826\" viewBox=\"6324252.367531738 1951403.4075708007 226.599897461012 282.62388427741826\" preserveAspectRatio=\"xMinYMin meet\"><g transform=\"matrix(1,0,0,-1,0,3903089.439025879)\"><path fill-rule=\"evenodd\" fill=\"#66cc99\" stroke=\"#555555\" stroke-width=\"2.0\" opacity=\"0.6\" d=\" M 6324262.835083008,1951675.5639038086 L 6324468.49987793,1951413.8751220703 L 6324286.49987793,1951607.1251220703 L 6324262.835083008,1951675.5639038086 z\" /></g></svg>"
      ],
      "text/plain": [
       "<Polygon object at 0x2c882570748[0x2c881615b40]>"
      ]
     },
     "execution_count": 11,
     "metadata": {},
     "output_type": "execute_result"
    }
   ],
   "source": [
    "polygonGeom = arcpy.Polygon(ary)\n",
    "polygonGeom"
   ]
  },
  {
   "cell_type": "markdown",
   "metadata": {},
   "source": [
    "### Create a Multipoint object\n",
    "#### Syntax \n",
    "arcpy.Multipoint(inputs, {spatial_reference}, {has_z}, {has_m})\n",
    "- Inputs can be either Point or Array objects. (Think - why would you want a single point for a Multipoint?...probably going to use array. Otherwise, wouldn't you want to use arcpy.PointGeometry to represent a single X, Y coordinate location?)"
   ]
  },
  {
   "cell_type": "code",
   "execution_count": 12,
   "metadata": {},
   "outputs": [
    {
     "data": {
      "image/svg+xml": [
       "<svg xmlns=\"http://www.w3.org/2000/svg\" xmlns:xlink=\"http://www.w3.org/1999/xlink\" width=\"226.6000454770401\" height=\"282.6238835665863\" viewBox=\"6324252.367395016 1951403.4074922667 226.6000454770401 282.6238835665863\" preserveAspectRatio=\"xMinYMin meet\"><g transform=\"matrix(1,0,0,-1,0,3903089.4388681)\"><g><circle cx=\"6324262.83494626\" cy=\"1951675.56382459\" r=\"3.0\" stroke=\"#555555\" stroke-width=\"1.0\" fill=\"#66cc99\" opacity=\"0.6\" /><circle cx=\"6324286.49992518\" cy=\"1951607.12498508\" r=\"3.0\" stroke=\"#555555\" stroke-width=\"1.0\" fill=\"#66cc99\" opacity=\"0.6\" /><circle cx=\"6324468.49988925\" cy=\"1951413.87504351\" r=\"3.0\" stroke=\"#555555\" stroke-width=\"1.0\" fill=\"#66cc99\" opacity=\"0.6\" /></g></g></svg>"
      ],
      "text/plain": [
       "<Multipoint object at 0x2c881609ec8[0x2c8897afea0]>"
      ]
     },
     "execution_count": 12,
     "metadata": {},
     "output_type": "execute_result"
    }
   ],
   "source": [
    "multipointGeom = arcpy.Multipoint(ary)\n",
    "multipointGeom"
   ]
  }
 ],
 "metadata": {
  "kernelspec": {
   "display_name": "ArcGISPro",
   "language": "Python",
   "name": "python3"
  },
  "language_info": {
   "file_extension": ".py",
   "name": "python",
   "version": "3"
  }
 },
 "nbformat": 4,
 "nbformat_minor": 2
}
