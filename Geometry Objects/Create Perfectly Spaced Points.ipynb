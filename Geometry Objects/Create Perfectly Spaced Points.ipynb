{
 "cells": [
  {
   "cell_type": "code",
   "execution_count": 131,
   "metadata": {},
   "outputs": [],
   "source": [
    "# Define the coordinates for the square polygon\n",
    "square_coords = [(-9050000, 4250000),\n",
    "                 (-9000000, 4250000),\n",
    "                 (-9000000, 4200000),\n",
    "                 (-9050000, 4200000)]"
   ]
  },
  {
   "cell_type": "code",
   "execution_count": 132,
   "metadata": {},
   "outputs": [],
   "source": [
    "# Create an array and add the points to it\n",
    "array = arcpy.Array()\n",
    "for coord in square_coords:\n",
    "    array.append(arcpy.Point(coord[0], coord[1]))"
   ]
  },
  {
   "cell_type": "code",
   "execution_count": 133,
   "metadata": {},
   "outputs": [],
   "source": [
    "sp = arcpy.SpatialReference(3857)\n",
    "sp.create()"
   ]
  },
  {
   "cell_type": "code",
   "execution_count": 134,
   "metadata": {},
   "outputs": [],
   "source": [
    "# Create a polygon geometry object\n",
    "polygon = arcpy.Polygon(array, spatial_reference=sp)"
   ]
  },
  {
   "cell_type": "code",
   "execution_count": 135,
   "metadata": {},
   "outputs": [],
   "source": [
    "# Calculate the number of points along one side of the square\n",
    "num_points_side = int(100 ** 0.5)"
   ]
  },
  {
   "cell_type": "code",
   "execution_count": 136,
   "metadata": {},
   "outputs": [],
   "source": [
    "# Calculate the spacing between points with a 750 buffer\n",
    "x_min, y_min = min([p[0] for p in square_coords]), min([p[1] for p in square_coords])\n",
    "x_max, y_max = max([p[0] for p in square_coords]), max([p[1] for p in square_coords])\n",
    "x_spacing = (x_max - x_min - 2 * 750) / (num_points_side - 1)\n",
    "y_spacing = (y_max - y_min - 2 * 750) / (num_points_side - 1)"
   ]
  },
  {
   "cell_type": "code",
   "execution_count": 137,
   "metadata": {},
   "outputs": [],
   "source": [
    "# Create a list to store the points\n",
    "points = []"
   ]
  },
  {
   "cell_type": "code",
   "execution_count": 138,
   "metadata": {},
   "outputs": [],
   "source": [
    "# Generate the points with a 750 buffer on all sides\n",
    "for i in range(num_points_side):\n",
    "    for j in range(num_points_side):\n",
    "        x = x_min + 750 + i * x_spacing\n",
    "        y = y_min + 750 + j * y_spacing\n",
    "        points.append(arcpy.Point(x, y))"
   ]
  },
  {
   "cell_type": "code",
   "execution_count": 139,
   "metadata": {},
   "outputs": [
    {
     "data": {
      "text/html": [
       "<div class='gpresult'><h2 class='msg-title'>Messages</h2><div id='messages'>Start Time: Thursday, January 23, 2025 10:21:58 AM<br>Succeeded at Thursday, January 23, 2025 10:21:59 AM (Elapsed Time: 0.71 seconds)<br></div><div id = 'default' /></div></div>"
      ],
      "text/plain": [
       "<Result 'C:\\\\Users\\\\tim10393\\\\OneDrive - Esri\\\\DemoData\\\\FakeSampleData.gdb\\\\evenly_distributed_points'>"
      ]
     },
     "execution_count": 139,
     "metadata": {},
     "output_type": "execute_result"
    }
   ],
   "source": [
    "# Create point geometry objects and add them to a feature class\n",
    "arcpy.env.workspace = r'C:\\Users\\tim10393\\OneDrive - Esri\\DemoData\\FakeSampleData.gdb'\n",
    "point_fc = \"evenly_distributed_points\"\n",
    "arcpy.management.CreateFeatureclass(arcpy.env.workspace, point_fc, \"POINT\", spatial_reference=sp)"
   ]
  },
  {
   "cell_type": "code",
   "execution_count": 140,
   "metadata": {},
   "outputs": [
    {
     "name": "stdout",
     "output_type": "stream",
     "text": [
      "Created 100 points evenly distributed across the square polygon.\n"
     ]
    }
   ],
   "source": [
    "with arcpy.da.InsertCursor(point_fc, [\"SHAPE@\"]) as cursor:\n",
    "    for point in points:\n",
    "        cursor.insertRow([arcpy.PointGeometry(point, spatial_reference=sp)])\n",
    "print(f\"Created {len(points)} points evenly distributed across the square polygon.\")"
   ]
  },
  {
   "cell_type": "code",
   "execution_count": null,
   "metadata": {},
   "outputs": [],
   "source": []
  }
 ],
 "metadata": {
  "kernelspec": {
   "display_name": "ArcGISPro",
   "language": "python",
   "name": "python3"
  },
  "language_info": {
   "file_extension": ".py",
   "mimetype": "text/x-python",
   "name": "python",
   "version": "3.11.10"
  }
 },
 "nbformat": 4,
 "nbformat_minor": 4
}
