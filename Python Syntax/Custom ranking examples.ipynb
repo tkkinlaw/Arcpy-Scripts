{
 "cells": [
  {
   "attachments": {},
   "cell_type": "markdown",
   "metadata": {},
   "source": [
    "# Python lists and custom sorting"
   ]
  },
  {
   "attachments": {},
   "cell_type": "markdown",
   "metadata": {},
   "source": [
    "## Prepare GIS data for scenario"
   ]
  },
  {
   "cell_type": "code",
   "execution_count": 43,
   "metadata": {},
   "outputs": [],
   "source": [
    "import pandas as pd\n",
    "import arcgis\n",
    "import arcpy\n",
    "import os"
   ]
  },
  {
   "attachments": {},
   "cell_type": "markdown",
   "metadata": {},
   "source": [
    "The code below preapres the data we want for the analysis.\n",
    "- Runs Spatial Join geoprocessing tool to add the EPA Region name to the species population with the greatest overlap..\n",
    "- Returns the results of the spatial join analysis as a pandas dataframe, spatially enabled through the ArcGIS API for Python.\n",
    "The <code>field_mapping</code> parameter for <code>arcpy.analysis.SpatialJoin</code> limits which attributes are transferred, since we just want the EPA Region name."
   ]
  },
  {
   "cell_type": "code",
   "execution_count": 44,
   "metadata": {},
   "outputs": [],
   "source": [
    "gdb = os.path.join(r\"C:\\Demos\\PYTS\\ViablePops.gdb\")\n",
    "\n",
    "viablePops = 'RareSpecies'\n",
    "epaRegions = 'EPA_Regions'\n",
    "viablePopsRegions = 'RareSpecies_SpatialJoin'\n",
    "\n",
    "arcpy.env.overwriteOutput = True\n",
    "arcpy.env.workspace = gdb\n",
    "    "
   ]
  },
  {
   "cell_type": "code",
   "execution_count": 45,
   "metadata": {},
   "outputs": [
    {
     "name": "stdout",
     "output_type": "stream",
     "text": [
      "EPA Region and viable populations now combined.\n"
     ]
    }
   ],
   "source": [
    "arcpy.analysis.SpatialJoin(\n",
    "    target_features=viablePops,\n",
    "    join_features=epaRegions,\n",
    "    out_feature_class=viablePopsRegions,\n",
    "    join_operation=\"JOIN_ONE_TO_ONE\",\n",
    "    join_type=\"KEEP_ALL\",\n",
    "    field_mapping=f'Species \"Species\" true true false 255 Text 0 0,First,#,{viablePops},Species,0,255;Viability \"Viability\" true true false 1 Text 0 0,First,#,{viablePops},Viability,0,1;ObservationDate \"ObservationDate\" true true false 8 Date 0 0,First,#,{viablePops},ObservationDate,-1,-1;EPAREGION \"EPA Region\" true true false 50 Text 0 0,First,#,{epaRegions},EPAREGION,0,50',\n",
    "    match_option=\"LARGEST_OVERLAP\",\n",
    "    search_radius=None,\n",
    "    distance_field_name=\"\"\n",
    ")\n",
    "print(\"EPA Region and viable populations now combined.\")"
   ]
  },
  {
   "cell_type": "code",
   "execution_count": 46,
   "metadata": {},
   "outputs": [
    {
     "data": {
      "text/html": [
       "<div>\n",
       "<style scoped>\n",
       "    .dataframe tbody tr th:only-of-type {\n",
       "        vertical-align: middle;\n",
       "    }\n",
       "\n",
       "    .dataframe tbody tr th {\n",
       "        vertical-align: top;\n",
       "    }\n",
       "\n",
       "    .dataframe thead th {\n",
       "        text-align: right;\n",
       "    }\n",
       "</style>\n",
       "<table border=\"1\" class=\"dataframe\">\n",
       "  <thead>\n",
       "    <tr style=\"text-align: right;\">\n",
       "      <th></th>\n",
       "      <th>OBJECTID</th>\n",
       "      <th>Join_Count</th>\n",
       "      <th>TARGET_FID</th>\n",
       "      <th>Species</th>\n",
       "      <th>Viability</th>\n",
       "      <th>ObservationDate</th>\n",
       "      <th>EPAREGION</th>\n",
       "      <th>SHAPE</th>\n",
       "    </tr>\n",
       "  </thead>\n",
       "  <tbody>\n",
       "    <tr>\n",
       "      <th>0</th>\n",
       "      <td>1</td>\n",
       "      <td>1</td>\n",
       "      <td>1</td>\n",
       "      <td>S1</td>\n",
       "      <td>A</td>\n",
       "      <td>None</td>\n",
       "      <td>Region 4</td>\n",
       "      <td>{\"rings\": [[[-8872754.7646, 4267030.036399998]...</td>\n",
       "    </tr>\n",
       "    <tr>\n",
       "      <th>1</th>\n",
       "      <td>2</td>\n",
       "      <td>1</td>\n",
       "      <td>2</td>\n",
       "      <td>S1</td>\n",
       "      <td>A</td>\n",
       "      <td>None</td>\n",
       "      <td>Region 3</td>\n",
       "      <td>{\"rings\": [[[-9111767.8654, 4635699.698799998]...</td>\n",
       "    </tr>\n",
       "    <tr>\n",
       "      <th>2</th>\n",
       "      <td>3</td>\n",
       "      <td>1</td>\n",
       "      <td>3</td>\n",
       "      <td>S1</td>\n",
       "      <td>A</td>\n",
       "      <td>None</td>\n",
       "      <td>Region 7</td>\n",
       "      <td>{\"rings\": [[[-10369664.3401, 5079475.3587], [-...</td>\n",
       "    </tr>\n",
       "    <tr>\n",
       "      <th>3</th>\n",
       "      <td>4</td>\n",
       "      <td>1</td>\n",
       "      <td>4</td>\n",
       "      <td>S1</td>\n",
       "      <td>A</td>\n",
       "      <td>None</td>\n",
       "      <td>Region 7</td>\n",
       "      <td>{\"rings\": [[[-10484599.0434, 4587810.239100002...</td>\n",
       "    </tr>\n",
       "    <tr>\n",
       "      <th>4</th>\n",
       "      <td>5</td>\n",
       "      <td>1</td>\n",
       "      <td>5</td>\n",
       "      <td>S1</td>\n",
       "      <td>H</td>\n",
       "      <td>None</td>\n",
       "      <td>Region 2</td>\n",
       "      <td>{\"rings\": [[[-8616910.1151, 5226336.368500002]...</td>\n",
       "    </tr>\n",
       "  </tbody>\n",
       "</table>\n",
       "</div>"
      ],
      "text/plain": [
       "   OBJECTID  Join_Count  TARGET_FID Species Viability ObservationDate  \\\n",
       "0         1           1           1      S1         A            None   \n",
       "1         2           1           2      S1         A            None   \n",
       "2         3           1           3      S1         A            None   \n",
       "3         4           1           4      S1         A            None   \n",
       "4         5           1           5      S1         H            None   \n",
       "\n",
       "  EPAREGION                                              SHAPE  \n",
       "0  Region 4  {\"rings\": [[[-8872754.7646, 4267030.036399998]...  \n",
       "1  Region 3  {\"rings\": [[[-9111767.8654, 4635699.698799998]...  \n",
       "2  Region 7  {\"rings\": [[[-10369664.3401, 5079475.3587], [-...  \n",
       "3  Region 7  {\"rings\": [[[-10484599.0434, 4587810.239100002...  \n",
       "4  Region 2  {\"rings\": [[[-8616910.1151, 5226336.368500002]...  "
      ]
     },
     "execution_count": 46,
     "metadata": {},
     "output_type": "execute_result"
    }
   ],
   "source": [
    "df = pd.DataFrame.spatial.from_featureclass(viablePopsRegions)\n",
    "df.head(5)"
   ]
  },
  {
   "attachments": {},
   "cell_type": "markdown",
   "metadata": {},
   "source": [
    "## List <code>sort</code> method"
   ]
  },
  {
   "attachments": {},
   "cell_type": "markdown",
   "metadata": {},
   "source": [
    "We have a list that represents population viability, from Best (A) to worst (H): \n",
    "<code>['A','B','E','C','D','F','X','H']</code>.\n",
    "\n",
    "The current order of the elements in the list are the order we want to sort datasets (of species populations in various regions). In this list, <code>E</code> is better than <code>C</code>, and <code>X</code> is better than <code>H</code>."
   ]
  },
  {
   "attachments": {},
   "cell_type": "markdown",
   "metadata": {},
   "source": [
    "A list's <code>sort</code> method can list values in ascending or descening order. This doesn't apply to this scenario though."
   ]
  },
  {
   "cell_type": "code",
   "execution_count": 47,
   "metadata": {},
   "outputs": [
    {
     "data": {
      "text/plain": [
       "['A', 'B', 'C', 'D', 'E', 'F', 'H', 'X']"
      ]
     },
     "execution_count": 47,
     "metadata": {},
     "output_type": "execute_result"
    }
   ],
   "source": [
    "popViability = ['A','B','E','C','D','F','X','H']\n",
    "popViability.sort()\n",
    "popViability"
   ]
  },
  {
   "attachments": {},
   "cell_type": "markdown",
   "metadata": {},
   "source": [
    "## List <code>sort</code> method's <code>key</code> parameter"
   ]
  },
  {
   "attachments": {},
   "cell_type": "markdown",
   "metadata": {},
   "source": [
    "We will use the <code>Viability</code> attribute from our spatial join results by converting it to a <code>list</code>.\n",
    "\n",
    "We will need a dictionary to associate a numeric value for each viability score. This dictionary will be used in the custom function for the <code>key</code> parameter."
   ]
  },
  {
   "cell_type": "code",
   "execution_count": 53,
   "metadata": {},
   "outputs": [],
   "source": [
    "viabilityList = df['Viability'].to_list()\n",
    "\n",
    "popViabilityD = {\n",
    "    'A':0,\n",
    "    'B':1,\n",
    "    'E':2,\n",
    "    'C':3,\n",
    "    'D':4,\n",
    "    'F':5,\n",
    "    'X':6,\n",
    "    'H':7\n",
    "}"
   ]
  },
  {
   "attachments": {},
   "cell_type": "markdown",
   "metadata": {},
   "source": [
    "The <code>sort</code> method has an optional parameter, <code>key</code> allows you to provide a custom function defining the sorting criteria. Here's how that code works:\n",
    "- Access the sort method for the list.\n",
    "- Use the <code>key</code> parameter.\n",
    "- <code>lambda</code> is an anonymous function. A what? Details:\n",
    "    - This is useful so we don't have to create a global function in other lines of code, that will only be once.\n",
    "    - A way of reading the <code>lambda</code> function is \"Hey python, <code>popViabilityD</code> is a dictionary. Access each <code>key</code> as <code>x</code>. Return the value for that dictionary key\".\n",
    "    - This way, the <code>key</code> parameter uses the order of <code>popViabilityD</code>'s values as the custom sorting to apply to the list, <code>viabilityList</code>."
   ]
  },
  {
   "cell_type": "code",
   "execution_count": 54,
   "metadata": {},
   "outputs": [
    {
     "name": "stdout",
     "output_type": "stream",
     "text": [
      "Original list from the data:\n",
      "['A', 'A', 'A', 'A', 'H', 'H', 'B', 'B', 'X', 'X', 'A', 'A', 'E', 'B', 'X', 'C', 'D', 'A', 'B', 'B', 'F', 'E', 'B', 'E', 'D', 'D']\n",
      "That list sorted using a custom key:\n",
      "['A', 'A', 'A', 'A', 'A', 'A', 'A', 'B', 'B', 'B', 'B', 'B', 'B', 'E', 'E', 'E', 'C', 'D', 'D', 'D', 'F', 'X', 'X', 'X', 'H', 'H']\n"
     ]
    }
   ],
   "source": [
    "print(\"Original list from the data:\")\n",
    "print([x for x in viabilityList])\n",
    "\n",
    "viabilityList.sort(key=lambda x:popViabilityD[x])\n",
    "\n",
    "print(\"That list sorted using a custom key:\")\n",
    "print([x for x in viabilityList])"
   ]
  },
  {
   "cell_type": "code",
   "execution_count": 49,
   "metadata": {},
   "outputs": [
    {
     "ename": "SyntaxError",
     "evalue": "invalid syntax (2461110325.py, line 1)",
     "output_type": "error",
     "traceback": [
      "\u001b[1;36m  File \u001b[1;32m\"C:\\Users\\tim10393\\AppData\\Local\\Temp\\13\\ipykernel_41888\\2461110325.py\"\u001b[1;36m, line \u001b[1;32m1\u001b[0m\n\u001b[1;33m    <code></code>\u001b[0m\n\u001b[1;37m    ^\u001b[0m\n\u001b[1;31mSyntaxError\u001b[0m\u001b[1;31m:\u001b[0m invalid syntax\n"
     ]
    }
   ],
   "source": [
    "<code></code>"
   ]
  },
  {
   "attachments": {},
   "cell_type": "markdown",
   "metadata": {},
   "source": []
  }
 ],
 "metadata": {
  "kernelspec": {
   "display_name": "Python 3",
   "language": "python",
   "name": "python3"
  },
  "language_info": {
   "codemirror_mode": {
    "name": "ipython",
    "version": 3
   },
   "file_extension": ".py",
   "mimetype": "text/x-python",
   "name": "python",
   "nbconvert_exporter": "python",
   "pygments_lexer": "ipython3",
   "version": "3.9.16"
  },
  "orig_nbformat": 4
 },
 "nbformat": 4,
 "nbformat_minor": 2
}
