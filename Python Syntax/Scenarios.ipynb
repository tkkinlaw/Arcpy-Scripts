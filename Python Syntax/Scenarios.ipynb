{
 "cells": [
  {
   "cell_type": "markdown",
   "metadata": {},
   "source": [
    "## Processing data with if statements"
   ]
  },
  {
   "cell_type": "markdown",
   "metadata": {},
   "source": [
    "Below are two ways of accomplishing the same thing. Option 1 processes a list of all the files in a workspace. Option 1 uses a `wild_card` filter and then processes fewer results in the for-loop."
   ]
  },
  {
   "cell_type": "code",
   "execution_count": 1,
   "metadata": {},
   "outputs": [],
   "source": [
    "folder = r'C:\\Demos\\PYTS\\San_Diego\\SANDAG\\Ecology'\n",
    "arcpy.env.workspace = folder"
   ]
  },
  {
   "cell_type": "code",
   "execution_count": 14,
   "metadata": {
    "scrolled": true
   },
   "outputs": [
    {
     "name": "stdout",
     "output_type": "stream",
     "text": [
      "Environmentally_Sensitive_Areas.pdf\n",
      "Water_Quality_Sensitive_Areas_SD.pdf\n"
     ]
    }
   ],
   "source": [
    "# Option 1\n",
    "myList = arcpy.ListFiles()\n",
    "for data in myList:\n",
    "    if 'Areas' in arcpy.da.Describe(data)['baseName'] and 'pdf' == arcpy.da.Describe(data)['extension']:\n",
    "        print(data)"
   ]
  },
  {
   "cell_type": "code",
   "execution_count": 15,
   "metadata": {},
   "outputs": [
    {
     "name": "stdout",
     "output_type": "stream",
     "text": [
      "Environmentally_Sensitive_Areas.pdf\n",
      "Water_Quality_Sensitive_Areas_SD.pdf\n"
     ]
    }
   ],
   "source": [
    "# Option 2\n",
    "myList = arcpy.ListFiles(wild_card = '*.pdf')\n",
    "for data in myList:\n",
    "    if 'Areas' in arcpy.da.Describe(data)['baseName']:\n",
    "        print(data)"
   ]
  }
 ],
 "metadata": {
  "kernelspec": {
   "display_name": "ArcGISPro",
   "language": "Python",
   "name": "python3"
  },
  "language_info": {
   "file_extension": ".py",
   "name": "python",
   "version": "3"
  }
 },
 "nbformat": 4,
 "nbformat_minor": 2
}
