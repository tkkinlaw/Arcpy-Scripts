{
 "cells": [
  {
   "cell_type": "code",
   "execution_count": 1,
   "metadata": {},
   "outputs": [
    {
     "name": "stdout",
     "output_type": "stream",
     "text": [
      "OBJECTID\n",
      "Shape\n",
      "NAME\n",
      "PERMIT_NO\n",
      "ADDRESS\n",
      "CITY\n",
      "ZIP_CODE\n",
      "PHONE\n",
      "CONTACT\n",
      "PUMPS\n",
      "CNG_DEV\n"
     ]
    }
   ],
   "source": [
    "gdb = r'C:\\Demos\\PYTS\\SanDiego.gdb'\n",
    "arcpy.env.workspace = gdb\n",
    "\n",
    "fieldNames = []\n",
    "fieldsList = arcpy.ListFields('GasStations')\n",
    "for field in fieldsList:\n",
    "    print(field.name)\n",
    "    fieldNames.append(field.name)"
   ]
  }
 ],
 "metadata": {
  "kernelspec": {
   "display_name": "Python 3 (ipykernel)",
   "language": "python",
   "name": "python3"
  },
  "language_info": {
   "file_extension": ".py",
   "name": "python",
   "version": "3"
  }
 },
 "nbformat": 4,
 "nbformat_minor": 2
}
