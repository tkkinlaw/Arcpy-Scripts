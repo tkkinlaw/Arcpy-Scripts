{
 "cells": [
  {
   "cell_type": "code",
   "execution_count": 2,
   "metadata": {},
   "outputs": [],
   "source": [
    "import arcpy, os"
   ]
  },
  {
   "cell_type": "markdown",
   "metadata": {},
   "source": [
    "Set the environment workspace for arcpy to a directory containing file paths"
   ]
  },
  {
   "cell_type": "code",
   "execution_count": 3,
   "metadata": {},
   "outputs": [],
   "source": [
    "arcpy.env.workspace = r\"C:\\Demos\\PYTS\""
   ]
  },
  {
   "cell_type": "markdown",
   "metadata": {},
   "source": [
    "Use the ListFiles function to gather a list of just the CSV files in that directory"
   ]
  },
  {
   "cell_type": "code",
   "execution_count": 4,
   "metadata": {},
   "outputs": [
    {
     "name": "stdout",
     "output_type": "stream",
     "text": [
      "['BlueSkyEcologicalStream.csv']\n"
     ]
    }
   ],
   "source": [
    "listFiles = arcpy.ListFiles(\"*.csv\")\n",
    "print(listFiles)"
   ]
  },
  {
   "cell_type": "markdown",
   "metadata": {},
   "source": [
    "Iterate over list of CSV files and use the os.path.split function to seperate the file name from the file extension. Then, use the CopyRows arcpy function to create a copy of the CSV file, storing it in another format."
   ]
  },
  {
   "cell_type": "code",
   "execution_count": 5,
   "metadata": {},
   "outputs": [
    {
     "name": "stdout",
     "output_type": "stream",
     "text": [
      "BlueSkyEcologicalStream\n"
     ]
    }
   ],
   "source": [
    "for csv_file in arcpy.ListFiles(\"*.csv\"):\n",
    "    print(os.path.splitext(csv_file)[0])\n",
    "    dbase_file = os.path.splitext(csv_file)[0] + \".dbf\"\n",
    "    arcpy.CopyRows_management(csv_file, dbase_file)"
   ]
  },
  {
   "cell_type": "code",
   "execution_count": null,
   "metadata": {},
   "outputs": [],
   "source": []
  }
 ],
 "metadata": {
  "kernelspec": {
   "display_name": "ArcGISPro",
   "language": "Python",
   "name": "python3"
  },
  "language_info": {
   "file_extension": ".py",
   "name": "python",
   "version": "3"
  }
 },
 "nbformat": 4,
 "nbformat_minor": 2
}
