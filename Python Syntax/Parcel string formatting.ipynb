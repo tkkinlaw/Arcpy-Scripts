{
 "cells": [
  {
   "cell_type": "code",
   "execution_count": 3,
   "metadata": {},
   "outputs": [],
   "source": [
    "table = r\"C:\\Demos\\PYTS\\SanDiego.gdb\\Parcel_Alexa\""
   ]
  },
  {
   "cell_type": "code",
   "execution_count": 4,
   "metadata": {},
   "outputs": [
    {
     "data": {
      "text/html": [
       "<div class='gpresult'><h2>Messages</h2><div id='messages' data-messages='[\"Start Time: Thursday, March 30, 2023 9:59:12 PM\",\"WARNING 000304: Renamed field Parcel Text Formatted to Parcel_Text_Formatted\",\"Adding Parcel_Text_Formatted to Parcel_Alexa...\",\"Succeeded at Thursday, March 30, 2023 9:59:15 PM (Elapsed Time: 3.01 seconds)\"]' data-show='true'><div id = 'default' /></div></div>"
      ],
      "text/plain": [
       "<Result 'C:\\\\Demos\\\\PYTS\\\\SanDiego.gdb\\\\Parcel_Alexa'>"
      ]
     },
     "execution_count": 4,
     "metadata": {},
     "output_type": "execute_result"
    }
   ],
   "source": [
    "arcpy.management.AddField(in_table = table, \n",
    "                          field_name = \"Parcel Text Formatted\", \n",
    "                          field_type = \"TEXT\")"
   ]
  },
  {
   "cell_type": "code",
   "execution_count": 5,
   "metadata": {},
   "outputs": [
    {
     "name": "stdout",
     "output_type": "stream",
     "text": [
      "OBJECTID is OID\n",
      "NumSeq is Integer\n",
      "Parcel_Text_Formatted is String\n"
     ]
    }
   ],
   "source": [
    "desc = arcpy.Describe(table)\n",
    "arcpy.env.workspace =desc.path\n",
    "fieldsList = arcpy.ListFields(desc.name)\n",
    "\n",
    "for field in fieldsList:\n",
    "    print(field.name + \" is \" + field.type)"
   ]
  },
  {
   "cell_type": "code",
   "execution_count": 7,
   "metadata": {},
   "outputs": [
    {
     "name": "stdout",
     "output_type": "stream",
     "text": [
      "[285893701, '(2) 8-5-893-701']\n",
      "[425347719, '(4) 2-5-347-719']\n",
      "[453215975, '(4) 5-3-215-975']\n",
      "[287501243, '(2) 8-7-501-243']\n",
      "[123584216, '(1) 2-3-584-216']\n"
     ]
    }
   ],
   "source": [
    "uCur = arcpy.da.UpdateCursor(table, [\"NumSeq\", \"Parcel_Text_Formatted\"])\n",
    "for row in uCur:\n",
    "    value = str(row[0])\n",
    "    row[1] = f\"({value[0]}) {value[1]}-{value[2]}-{value[3:6]}-{value[6:]}\"\n",
    "    print(row)\n",
    "    uCur.updateRow(row)\n",
    "del uCur"
   ]
  },
  {
   "cell_type": "code",
   "execution_count": null,
   "metadata": {},
   "outputs": [],
   "source": []
  }
 ],
 "metadata": {
  "kernelspec": {
   "display_name": "ArcGISPro",
   "language": "Python",
   "name": "python3"
  },
  "language_info": {
   "file_extension": ".py",
   "name": "python",
   "version": "3"
  }
 },
 "nbformat": 4,
 "nbformat_minor": 2
}
