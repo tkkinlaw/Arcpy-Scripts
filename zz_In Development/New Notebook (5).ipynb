{
 "cells": [
  {
   "cell_type": "code",
   "execution_count": 12,
   "metadata": {},
   "outputs": [],
   "source": [
    "arcpy.overwriteOutput = True\n",
    "with arcpy.EnvManager(outputCoordinateSystem='PROJCS[\"WGS_1984_Web_Mercator_Auxiliary_Sphere\",GEOGCS[\"GCS_WGS_1984\",DATUM[\"D_WGS_1984\",SPHEROID[\"WGS_1984\",6378137.0,298.257223563]],PRIMEM[\"Greenwich\",0.0],UNIT[\"Degree\",0.0174532925199433]],PROJECTION[\"Mercator_Auxiliary_Sphere\"],PARAMETER[\"False_Easting\",0.0],PARAMETER[\"False_Northing\",0.0],PARAMETER[\"Central_Meridian\",0.0],PARAMETER[\"Standard_Parallel_1\",0.0],PARAMETER[\"Auxiliary_Sphere_Type\",0.0],UNIT[\"Meter\",1.0]]'):\n",
    "    arcpy.management.CreateFeatureDataset(\n",
    "        out_dataset_path=r\"C:\\Demos\\PYTS\\ForSam.gdb\",\n",
    "        out_name=\"NC\",\n",
    "        spatial_reference='PROJCS[\"NAD_1983_StatePlane_North_Carolina_FIPS_3200_Feet\",GEOGCS[\"GCS_North_American_1983\",DATUM[\"D_North_American_1983\",SPHEROID[\"GRS_1980\",6378137.0,298.257222101]],PRIMEM[\"Greenwich\",0.0],UNIT[\"Degree\",0.0174532925199433]],PROJECTION[\"Lambert_Conformal_Conic\"],PARAMETER[\"False_Easting\",2000000.002616666],PARAMETER[\"False_Northing\",0.0],PARAMETER[\"Central_Meridian\",-79.0],PARAMETER[\"Standard_Parallel_1\",34.33333333333334],PARAMETER[\"Standard_Parallel_2\",36.16666666666666],PARAMETER[\"Latitude_Of_Origin\",33.75],UNIT[\"Foot_US\",0.3048006096012192]];-121841900 -93659000 3048.00609601219;-100000 10000;-100000 10000;3.28083333333333E-03;0.001;0.001;IsHighPrecision'\n",
    "    )"
   ]
  },
  {
   "cell_type": "code",
   "execution_count": 13,
   "metadata": {},
   "outputs": [
    {
     "data": {
      "text/html": [
       "<div class='gpresult'><h2>Messages</h2><div id='messages' data-messages='[\"Start Time: Tuesday, June 27, 2023 9:47:51 AM\",\"Executing CreateTopology...\",\"Succeeded at Tuesday, June 27, 2023 9:47:52 AM (Elapsed Time: 1.19 seconds)\"]' data-show='true'><div id = 'default' /></div></div>"
      ],
      "text/plain": [
       "<Result 'C:\\\\Demos\\\\PYTS\\\\ForSam.gdb\\\\NC\\\\NC_Topology'>"
      ]
     },
     "execution_count": 13,
     "metadata": {},
     "output_type": "execute_result"
    }
   ],
   "source": [
    "arcpy.management.CreateTopology(\n",
    "    in_dataset=r\"C:\\Demos\\PYTS\\ForSam.gdb\\NC\",\n",
    "    out_name=\"NC_Topology\",\n",
    "    in_cluster_tolerance=0.01\n",
    ")"
   ]
  },
  {
   "cell_type": "code",
   "execution_count": 14,
   "metadata": {},
   "outputs": [
    {
     "data": {
      "text/html": [
       "<div class='gpresult'><h2>Messages</h2><div id='messages' data-messages='[\"Start Time: Tuesday, June 27, 2023 9:47:53 AM\",\"Succeeded at Tuesday, June 27, 2023 9:47:56 AM (Elapsed Time: 2.94 seconds)\"]' data-show='true'><div id = 'default' /></div></div>"
      ],
      "text/plain": [
       "<Result 'C:\\\\Demos\\\\PYTS\\\\ForSam.gdb\\\\NC\\\\NC_SPCS_Topo'>"
      ]
     },
     "execution_count": 14,
     "metadata": {},
     "output_type": "execute_result"
    }
   ],
   "source": [
    "arcpy.conversion.ExportFeatures(\n",
    "    in_features=r\"C:\\Demos\\PYTS\\ForSam.gdb\\NC_SPCS\",\n",
    "    out_features=r\"C:\\Demos\\PYTS\\ForSam.gdb\\NC\\NC_SPCS_Topo\",\n",
    "    where_clause=\"\",\n",
    "    use_field_alias_as_name=\"NOT_USE_ALIAS\",\n",
    "    field_mapping=r'Shape_Length \"Shape_Length\" false true true 8 Double 0 0,First,#,C:\\Demos\\PYTS\\ForSam.gdb\\NC_SPCS,Shape_Length,-1,-1;Shape_Area \"Shape_Area\" false true true 8 Double 0 0,First,#,C:\\Demos\\PYTS\\ForSam.gdb\\NC_SPCS,Shape_Area,-1,-1',\n",
    "    sort_field=None\n",
    ")"
   ]
  },
  {
   "cell_type": "code",
   "execution_count": 15,
   "metadata": {},
   "outputs": [
    {
     "data": {
      "text/html": [
       "<div class='gpresult'><h2>Messages</h2><div id='messages' data-messages='[\"Start Time: Tuesday, June 27, 2023 9:47:57 AM\",\"Succeeded at Tuesday, June 27, 2023 9:48:02 AM (Elapsed Time: 4.97 seconds)\"]' data-show='true'><div id = 'default' /></div></div>"
      ],
      "text/plain": [
       "<Result 'C:\\\\Demos\\\\PYTS\\\\ForSam.gdb\\\\NC\\\\NCDOT_City_Boundaries_Topo'>"
      ]
     },
     "execution_count": 15,
     "metadata": {},
     "output_type": "execute_result"
    }
   ],
   "source": [
    "arcpy.conversion.ExportFeatures(\n",
    "    in_features=r\"C:\\Demos\\PYTS\\ForSam.gdb\\NCDOT_City_Boundaries\",\n",
    "    out_features=r\"C:\\Demos\\PYTS\\ForSam.gdb\\NC\\NCDOT_City_Boundaries_Topo\",\n",
    "    where_clause=\"\",\n",
    "    use_field_alias_as_name=\"NOT_USE_ALIAS\",\n",
    "    field_mapping=r'OBJECTID \"OBJECTID\" true true false 4 Long 0 0,First,#,C:\\Demos\\PYTS\\ForSam.gdb\\NCDOT_City_Boundaries,OBJECTID,-1,-1;MunicipalB \"MunicipalB\" true true false 80 Text 0 0,First,#,C:\\Demos\\PYTS\\ForSam.gdb\\NCDOT_City_Boundaries,MunicipalB,0,80;PowellBill \"PowellBill\" true true false 80 Text 0 0,First,#,C:\\Demos\\PYTS\\ForSam.gdb\\NCDOT_City_Boundaries,PowellBill,0,80;Population \"Population\" true true false 4 Long 0 0,First,#,C:\\Demos\\PYTS\\ForSam.gdb\\NCDOT_City_Boundaries,Population,-1,-1;Populati_1 \"Populati_1\" true true false 4 Long 0 0,First,#,C:\\Demos\\PYTS\\ForSam.gdb\\NCDOT_City_Boundaries,Populati_1,-1,-1;MNCPL_BNDR \"MNCPL_BNDR\" true true false 80 Text 0 0,First,#,C:\\Demos\\PYTS\\ForSam.gdb\\NCDOT_City_Boundaries,MNCPL_BNDR,0,80;Shape_Length \"Shape_Length\" false true true 8 Double 0 0,First,#,C:\\Demos\\PYTS\\ForSam.gdb\\NCDOT_City_Boundaries,Shape_Length,-1,-1;Shape_Area \"Shape_Area\" false true true 8 Double 0 0,First,#,C:\\Demos\\PYTS\\ForSam.gdb\\NCDOT_City_Boundaries,Shape_Area,-1,-1',\n",
    "    sort_field=None\n",
    ")"
   ]
  },
  {
   "cell_type": "code",
   "execution_count": 16,
   "metadata": {},
   "outputs": [
    {
     "data": {
      "text/html": [
       "<div class='gpresult'><h2>Messages</h2><div id='messages' data-messages='[\"Start Time: Tuesday, June 27, 2023 9:48:02 AM\",\"Succeeded at Tuesday, June 27, 2023 9:48:05 AM (Elapsed Time: 2.68 seconds)\"]' data-show='true'><div id = 'default' /></div></div>"
      ],
      "text/plain": [
       "<Result 'C:\\\\Demos\\\\PYTS\\\\ForSam.gdb\\\\NC\\\\NC_Topology'>"
      ]
     },
     "execution_count": 16,
     "metadata": {},
     "output_type": "execute_result"
    }
   ],
   "source": [
    "arcpy.management.AddFeatureClassToTopology(\n",
    "    in_topology=r\"C:\\Demos\\PYTS\\ForSam.gdb\\NC\\NC_Topology\",\n",
    "    in_featureclass=r\"C:\\Demos\\PYTS\\ForSam.gdb\\NC\\NC_SPCS_Topo\",\n",
    "    xy_rank=1,\n",
    "    z_rank=1\n",
    ")"
   ]
  },
  {
   "cell_type": "code",
   "execution_count": 17,
   "metadata": {},
   "outputs": [
    {
     "data": {
      "text/html": [
       "<div class='gpresult'><h2>Messages</h2><div id='messages' data-messages='[\"Start Time: Tuesday, June 27, 2023 9:48:05 AM\",\"Succeeded at Tuesday, June 27, 2023 9:48:06 AM (Elapsed Time: 1.10 seconds)\"]' data-show='true'><div id = 'default' /></div></div>"
      ],
      "text/plain": [
       "<Result 'C:\\\\Demos\\\\PYTS\\\\ForSam.gdb\\\\NC\\\\NC_Topology'>"
      ]
     },
     "execution_count": 17,
     "metadata": {},
     "output_type": "execute_result"
    }
   ],
   "source": [
    "arcpy.management.AddFeatureClassToTopology(\n",
    "    in_topology=r\"C:\\Demos\\PYTS\\ForSam.gdb\\NC\\NC_Topology\",\n",
    "    in_featureclass=r\"C:\\Demos\\PYTS\\ForSam.gdb\\NC\\NCDOT_City_Boundaries_Topo\",\n",
    "    xy_rank=1,\n",
    "    z_rank=1\n",
    ")"
   ]
  },
  {
   "cell_type": "code",
   "execution_count": 18,
   "metadata": {},
   "outputs": [
    {
     "data": {
      "text/html": [
       "<div class='gpresult'><h2>Messages</h2><div id='messages' data-messages='[\"Start Time: Tuesday, June 27, 2023 9:48:06 AM\",\"Succeeded at Tuesday, June 27, 2023 9:48:07 AM (Elapsed Time: 0.97 seconds)\"]' data-show='true'><div id = 'default' /></div></div>"
      ],
      "text/plain": [
       "<Result 'C:\\\\Demos\\\\PYTS\\\\ForSam.gdb\\\\NC\\\\NC_Topology'>"
      ]
     },
     "execution_count": 18,
     "metadata": {},
     "output_type": "execute_result"
    }
   ],
   "source": [
    "arcpy.management.AddRuleToTopology(\n",
    "    in_topology=r\"C:\\Demos\\PYTS\\ForSam.gdb\\NC\\NC_Topology\",\n",
    "    rule_type=\"Must Be Covered By Feature Class Of (Area-Area)\",\n",
    "    in_featureclass=r\"C:\\Demos\\PYTS\\ForSam.gdb\\NC\\NCDOT_City_Boundaries_Topo\",\n",
    "    subtype=\"\",\n",
    "    in_featureclass2=r\"C:\\Demos\\PYTS\\ForSam.gdb\\NC\\NC_SPCS_Topo\",\n",
    "    subtype2=\"\"\n",
    ")"
   ]
  },
  {
   "cell_type": "code",
   "execution_count": 19,
   "metadata": {},
   "outputs": [],
   "source": [
    "r = arcpy.management.ValidateTopology(\n",
    "    in_topology=r\"C:\\Demos\\PYTS\\ForSam.gdb\\NC\\NC_Topology\",\n",
    "    visible_extent=\"Full_Extent\"\n",
    ")"
   ]
  },
  {
   "cell_type": "code",
   "execution_count": 27,
   "metadata": {},
   "outputs": [
    {
     "data": {
      "text/plain": [
       "['__class__', '__cmp__', '__delattr__', '__dict__', '__dir__', '__doc__', '__eq__', '__format__', '__ge__', '__getattribute__', '__getitem__', '__gt__', '__hash__', '__init__', '__init_subclass__', '__iter__', '__le__', '__len__', '__lt__', '__module__', '__ne__', '__new__', '__reduce__', '__reduce_ex__', '__repr__', '__setattr__', '__sizeof__', '__str__', '__subclasshook__', '__unicode__', '__weakref__', '_arc_object', '_go', '_repr_html_', 'cancel', 'getInput', 'getMapImageURL', 'getMessage', 'getMessages', 'getOutput', 'getSeverity', 'inputCount', 'maxSeverity', 'messageCount', 'outputCount', 'resultID', 'saveToFile', 'status']"
      ]
     },
     "execution_count": 27,
     "metadata": {},
     "output_type": "execute_result"
    }
   ],
   "source": [
    "dir(r)"
   ]
  },
  {
   "cell_type": "code",
   "execution_count": 32,
   "metadata": {},
   "outputs": [
    {
     "data": {
      "text/plain": [
       "'C:\\\\Demos\\\\PYTS\\\\ForSam.gdb\\\\NC\\\\NC_Topology'"
      ]
     },
     "execution_count": 32,
     "metadata": {},
     "output_type": "execute_result"
    }
   ],
   "source": [
    "r[0]"
   ]
  },
  {
   "cell_type": "code",
   "execution_count": null,
   "metadata": {},
   "outputs": [],
   "source": []
  }
 ],
 "metadata": {
  "kernelspec": {
   "display_name": "Python 3 (ipykernel)",
   "language": "python",
   "name": "python3"
  },
  "language_info": {
   "file_extension": ".py",
   "name": "python",
   "version": "3"
  }
 },
 "nbformat": 4,
 "nbformat_minor": 2
}
