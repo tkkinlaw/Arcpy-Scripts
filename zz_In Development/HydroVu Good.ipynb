{
 "cells": [
  {
   "cell_type": "code",
   "execution_count": 87,
   "metadata": {},
   "outputs": [],
   "source": [
    "import requests, json"
   ]
  },
  {
   "cell_type": "code",
   "execution_count": 88,
   "metadata": {},
   "outputs": [],
   "source": [
    "client_id = \"PublicApiDemo\"\n",
    "client_secret = \"PublicApiSecret\"\n",
    "tokenUrl = \"https://www.hydrovu.com/public-api/oauth/token\""
   ]
  },
  {
   "cell_type": "code",
   "execution_count": 95,
   "metadata": {},
   "outputs": [
    {
     "name": "stdout",
     "output_type": "stream",
     "text": [
      "{\"access_token\":\"seFWiba9etuEhWI_Pz6ZAKYDyFs\",\"token_type\":\"bearer\",\"expires_in\":35999,\"scope\":\"read:locations read:data\"}\n",
      "seFWiba9etuEhWI_Pz6ZAKYDyFs\n"
     ]
    }
   ],
   "source": [
    "auth_url = \"https://www.hydrovu.com/public-api/oauth/token\"\n",
    "auth_data = {\n",
    "    \"grant_type\": \"client_credentials\",\n",
    "    \"client_id\": client_id,\n",
    "    \"client_secret\": client_secret,\n",
    "}\n",
    "    \n",
    "\n",
    "dataUrl = \"https://www.hydrovu.com/public-api/v1/locations/4808483623665664/\"\n",
    "r = requests.post(auth_url, data=auth_data)\n",
    "print(r.text)\n",
    "strToken = r.content.decode('utf-8')\n",
    "data_dict = json.loads(strToken)\n",
    "access_token = data_dict[\"access_token\"]\n",
    "print(access_token)"
   ]
  },
  {
   "cell_type": "code",
   "execution_count": 104,
   "metadata": {},
   "outputs": [
    {
     "data": {
      "text/plain": [
       "'{\"timestamp\":\"2023-09-11T21:37:26.184+00:00\",\"status\":404,\"error\":\"Not Found\",\"path\":\"/public-api/v1/locations/4808483623665664/data/data\"}'"
      ]
     },
     "execution_count": 104,
     "metadata": {},
     "output_type": "execute_result"
    }
   ],
   "source": [
    "headers = {\"Authorization\": f\"Bearer {access_token}\"}\n",
    "response = requests.get(url + f\"data?endTime={params['end']}&startTime={params['start']}\", headers=headers)\n",
    "response.text"
   ]
  },
  {
   "cell_type": "code",
   "execution_count": 103,
   "metadata": {},
   "outputs": [
    {
     "data": {
      "text/plain": [
       "'https://www.hydrovu.com/public-api/v1/locations/4808483623665664/data/data?endTime=2023-09-11&startTime=2023-06-13'"
      ]
     },
     "execution_count": 103,
     "metadata": {},
     "output_type": "execute_result"
    }
   ],
   "source": [
    "url + f\"data?endTime={params['end']}&startTime={params['start']}\""
   ]
  },
  {
   "cell_type": "code",
   "execution_count": 97,
   "metadata": {},
   "outputs": [],
   "source": [
    "from datetime import datetime, timedelta"
   ]
  },
  {
   "cell_type": "code",
   "execution_count": 98,
   "metadata": {},
   "outputs": [],
   "source": [
    "end_date = datetime.now().date()\n",
    "start_date = end_date - timedelta(days=90)"
   ]
  },
  {
   "cell_type": "code",
   "execution_count": 102,
   "metadata": {},
   "outputs": [
    {
     "ename": "KeyError",
     "evalue": "'end_date'",
     "output_type": "error",
     "traceback": [
      "\u001b[0;31m---------------------------------------------------------------------------\u001b[0m\n\u001b[0;31mKeyError\u001b[0m                                  Traceback (most recent call last)",
      "In  \u001b[0;34m[102]\u001b[0m:\nLine \u001b[0;34m5\u001b[0m:     params[\u001b[33m'\u001b[39;49;00m\u001b[33mend_date\u001b[39;49;00m\u001b[33m'\u001b[39;49;00m]\n",
      "\u001b[0;31mKeyError\u001b[0m: 'end_date'\n\u001b[0;31m---------------------------------------------------------------------------\u001b[0m"
     ]
    }
   ],
   "source": [
    "params = {\n",
    "    \"start\": start_date.isoformat(),\n",
    "    \"end\": end_date.isoformat()\n",
    "}\n",
    "params['end_date']"
   ]
  },
  {
   "cell_type": "code",
   "execution_count": 108,
   "metadata": {},
   "outputs": [
    {
     "data": {
      "text/plain": [
       "'{\"status\":\"BAD_REQUEST\",\"timestamp\":\"11-09-2023 09:40:32\",\"message\":\"Malformed request. Provided argument was the wrong type.\",\"debugMessage\":\"\"}'"
      ]
     },
     "execution_count": 108,
     "metadata": {},
     "output_type": "execute_result"
    }
   ],
   "source": [
    "fullUrl = 'https://www.hydrovu.com/public-api/v1/locations/4808483623665664/data?endTime=2022-08-31&startTime=2022-08-01'\n",
    "response = requests.get(fullUrl, headers=headers)\n",
    "response.text"
   ]
  },
  {
   "cell_type": "code",
   "execution_count": 107,
   "metadata": {},
   "outputs": [
    {
     "data": {
      "text/plain": [
       "['ConnectTimeout', 'ConnectionError', 'DependencyWarning', 'FileModeWarning', 'HTTPError', 'JSONDecodeError', 'NullHandler', 'PreparedRequest', 'ReadTimeout', 'Request', 'RequestException', 'RequestsDependencyWarning', 'Response', 'Session', 'Timeout', 'TooManyRedirects', 'URLRequired', '__author__', '__author_email__', '__build__', '__builtins__', '__cached__', '__cake__', '__copyright__', '__description__', '__doc__', '__file__', '__license__', '__loader__', '__name__', '__package__', '__path__', '__spec__', '__title__', '__url__', '__version__', '_check_cryptography', '_internal_utils', 'adapters', 'api', 'auth', 'certs', 'chardet_version', 'charset_normalizer_version', 'check_compatibility', 'codes', 'compat', 'cookies', 'delete', 'exceptions', 'get', 'head', 'hooks', 'logging', 'models', 'options', 'packages', 'patch', 'post', 'put', 'request', 'session', 'sessions', 'ssl', 'status_codes', 'structures', 'urllib3', 'utils', 'warnings']"
      ]
     },
     "execution_count": 107,
     "metadata": {},
     "output_type": "execute_result"
    }
   ],
   "source": [
    "dir(requests)"
   ]
  },
  {
   "cell_type": "code",
   "execution_count": null,
   "metadata": {},
   "outputs": [],
   "source": []
  }
 ],
 "metadata": {
  "kernelspec": {
   "display_name": "ArcGISPro",
   "language": "Python",
   "name": "python3"
  },
  "language_info": {
   "file_extension": ".py",
   "name": "python",
   "version": "3"
  },
  "toc": {
   "base_numbering": 1,
   "nav_menu": {},
   "number_sections": true,
   "sideBar": false,
   "skip_h1_title": false,
   "title_cell": "Table of Contents",
   "title_sidebar": "Contents",
   "toc_cell": false,
   "toc_position": {},
   "toc_section_display": true,
   "toc_window_display": false
  }
 },
 "nbformat": 4,
 "nbformat_minor": 2
}
