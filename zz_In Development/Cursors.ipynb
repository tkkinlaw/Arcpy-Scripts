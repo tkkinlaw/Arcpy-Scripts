{
 "cells": [
  {
   "cell_type": "code",
   "execution_count": 46,
   "metadata": {},
   "outputs": [
    {
     "name": "stdout",
     "output_type": "stream",
     "text": [
      "['76 # NORTH PARK', 24]\n",
      "['76 # NORTH PARK', 34]\n"
     ]
    }
   ],
   "source": [
    "fc = 'GasStations'\n",
    "fields = [\"NAME\", \"PUMPS\"]\n",
    "exp = \"\"\"NAME = '76 # NORTH PARK'\"\"\"\n",
    "clause = (None,\"ORDER BY PUMPS DESC\")\n",
    "\n",
    "src = arcpy.da.UpdateCursor(fc, fields, exp)\n",
    "for row in src:\n",
    "    print(row)\n",
    "    row[1] = row[1]+10\n",
    "    src.updateRow(row)\n",
    "    print(row)\n",
    "    \n",
    "del src"
   ]
  },
  {
   "cell_type": "code",
   "execution_count": 47,
   "metadata": {},
   "outputs": [
    {
     "name": "stdout",
     "output_type": "stream",
     "text": [
      "('76 # NORTH PARK', 34)\n"
     ]
    }
   ],
   "source": [
    "src = arcpy.da.SearchCursor(fc, fields, exp)\n",
    "for row in src:\n",
    "    print(row)"
   ]
  },
  {
   "cell_type": "code",
   "execution_count": null,
   "metadata": {},
   "outputs": [],
   "source": []
  }
 ],
 "metadata": {
  "kernelspec": {
   "display_name": "ArcGISPro",
   "language": "Python",
   "name": "python3"
  },
  "language_info": {
   "file_extension": ".py",
   "name": "python",
   "version": "3"
  }
 },
 "nbformat": 4,
 "nbformat_minor": 2
}
