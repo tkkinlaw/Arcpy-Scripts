{
 "cells": [
  {
   "cell_type": "code",
   "execution_count": 90,
   "metadata": {},
   "outputs": [],
   "source": [
    "import time"
   ]
  },
  {
   "cell_type": "code",
   "execution_count": 91,
   "metadata": {},
   "outputs": [],
   "source": [
    "mdEle = arcpy.Raster(r\"C:\\Users\\tim10393\\OneDrive - Esri\\DemoData\\DemoData.gdb\\WesternNC_Elevation\")\n",
    "extent = arcpy.Extent(809439.0412844947,1132011.1860479708,1147367.4139231048,798698.1502799202)\n",
    "arcpy.env.extent = extent\n",
    "arcpy.env.parallelProcessingFactor = \"50%\""
   ]
  },
  {
   "cell_type": "code",
   "execution_count": null,
   "metadata": {},
   "outputs": [],
   "source": [
    "startTime = time.time()\n",
    "fillRas = arcpy.sa.Fill(mdEle)\n",
    "endTime = time.time()\n",
    "print(f\"Process took this long: {endTime-startTime}\")"
   ]
  },
  {
   "cell_type": "code",
   "execution_count": null,
   "metadata": {},
   "outputs": [],
   "source": [
    "startTime = time.time()\n",
    "flowDirRas = arcpy.sa.FlowDirection(fillRas)\n",
    "endTime = time.time()\n",
    "print(f\"Process took this long: {endTime-startTime}\")"
   ]
  },
  {
   "cell_type": "code",
   "execution_count": null,
   "metadata": {},
   "outputs": [],
   "source": [
    "startTime = time.time()\n",
    "flowAccRas = arcpy.sa.FlowAccumulation(flowDirRas)\n",
    "endTime = time.time()\n",
    "print(f\"Process took this long: {endTime-startTime}\")"
   ]
  },
  {
   "cell_type": "code",
   "execution_count": null,
   "metadata": {},
   "outputs": [],
   "source": [
    "startTime = time.time()\n",
    "greaterThanRas = arcpy.sa.GreaterThan(flowAccRas, threshold)\n",
    "endTime = time.time()\n",
    "print(f\"Process took this long: {endTime-startTime}\")"
   ]
  }
 ],
 "metadata": {
  "kernelspec": {
   "display_name": "ArcGISPro",
   "language": "Python",
   "name": "python3"
  },
  "language_info": {
   "file_extension": ".py",
   "name": "python",
   "version": "3"
  }
 },
 "nbformat": 4,
 "nbformat_minor": 2
}
