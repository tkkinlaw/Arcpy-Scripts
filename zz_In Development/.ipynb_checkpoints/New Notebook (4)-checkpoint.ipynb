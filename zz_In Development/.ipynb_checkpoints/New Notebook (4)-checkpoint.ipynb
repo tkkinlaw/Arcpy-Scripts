{
 "cells": [
  {
   "cell_type": "markdown",
   "metadata": {},
   "source": [
    "Script goals:\n",
    "- Determine the conversion scale of the target annotation FC\n",
    "- A new feature in the FC is created. I want to automatically style a label according to it's attributes and then convert it to an annotation.\n",
    "- Label the newly created features. How to determine which are new?\n",
    " - Compare the values of annotations to the labels. Generate a list of values that are in the FC and not in the Annotation. This will be fine for standard annotation. But what about feature linked?\n",
    "  -I think for feature linked, we convert to standard and then use the append tool. Should work"
   ]
  },
  {
   "cell_type": "code",
   "execution_count": 11,
   "metadata": {},
   "outputs": [
    {
     "name": "stdout",
     "output_type": "stream",
     "text": [
      "10215.35\n",
      "<class 'float'>\n"
     ]
    }
   ],
   "source": [
    "annoFC = r\"C:\\Demos\\PYTS\\SanDiego.gdb\\MajorAttractionsAnno\"\n",
    "\n",
    "referenceScale = arcpy.Describe(annoFC).extensionProperties.referenceScale\n",
    "print(referenceScale)\n",
    "print(type(referenceScale))"
   ]
  },
  {
   "cell_type": "markdown",
   "metadata": {},
   "source": [
    "# Grab a list of features"
   ]
  }
 ],
 "metadata": {
  "kernelspec": {
   "display_name": "Python 3 (ipykernel)",
   "language": "python",
   "name": "python3"
  },
  "language_info": {
   "file_extension": ".py",
   "name": "python",
   "version": "3"
  }
 },
 "nbformat": 4,
 "nbformat_minor": 2
}
