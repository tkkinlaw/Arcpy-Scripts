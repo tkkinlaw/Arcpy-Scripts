{
 "cells": [
  {
   "cell_type": "code",
   "execution_count": 71,
   "metadata": {},
   "outputs": [],
   "source": [
    "mdEle = arcpy.Raster(r\"C:\\Users\\tim10393\\OneDrive - Esri\\DemoData\\DemoData.gdb\\WesternNC_Elevation\")\n",
    "extent = arcpy.Extent(809439.0412844947,1132011.1860479708,1147367.4139231048,798698.1502799202)\n",
    "arcpy.env.extent = extent"
   ]
  },
  {
   "cell_type": "code",
   "execution_count": 72,
   "metadata": {},
   "outputs": [],
   "source": [
    "fillRas = arcpy.sa.Fill(mdEle)"
   ]
  },
  {
   "cell_type": "code",
   "execution_count": null,
   "metadata": {},
   "outputs": [],
   "source": []
  }
 ],
 "metadata": {
  "kernelspec": {
   "display_name": "Python 3 (ipykernel)",
   "language": "python",
   "name": "python3"
  },
  "language_info": {
   "file_extension": ".py",
   "name": "python",
   "version": "3"
  }
 },
 "nbformat": 4,
 "nbformat_minor": 2
}
