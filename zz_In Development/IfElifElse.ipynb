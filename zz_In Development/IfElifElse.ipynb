{
 "cells": [
  {
   "cell_type": "code",
   "execution_count": 24,
   "metadata": {},
   "outputs": [
    {
     "name": "stdout",
     "output_type": "stream",
     "text": [
      "The value is greater than 5\n",
      "Done\n"
     ]
    }
   ],
   "source": [
    "a = '6'\n",
    "b =7 \n",
    "if a == 5 and b ==5:\n",
    "    print(\"The value is 5\")\n",
    "elif type(a) == type(\"\") and int(a) > 5 or :\n",
    "    print(\"The value is greater than 5\")\n",
    "elif a < 5:\n",
    "    print(\"The value is less than 5\")\n",
    "else:\n",
    "    print(\"IDK what's happenning\")\n",
    "    \n",
    "print(\"Done\")"
   ]
  },
  {
   "cell_type": "code",
   "execution_count": 26,
   "metadata": {},
   "outputs": [],
   "source": [
    "fc = r\"C:\\Demos\\PYTS\\SanDiego.gdb\\GasBuffer\"\n",
    "desc = arcpy.Describe(fc)\n",
    "\n",
    "if desc.shapeType == \"Point\":\n",
    "    print(\"It's a point\")"
   ]
  },
  {
   "cell_type": "code",
   "execution_count": null,
   "metadata": {},
   "outputs": [],
   "source": []
  }
 ],
 "metadata": {
  "kernelspec": {
   "display_name": "ArcGISPro",
   "language": "Python",
   "name": "python3"
  },
  "language_info": {
   "file_extension": ".py",
   "name": "python",
   "version": "3"
  }
 },
 "nbformat": 4,
 "nbformat_minor": 2
}
