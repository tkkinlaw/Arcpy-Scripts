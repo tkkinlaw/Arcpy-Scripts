{
 "cells": [
  {
   "cell_type": "code",
   "execution_count": 1,
   "metadata": {},
   "outputs": [
    {
     "name": "stdout",
     "output_type": "stream",
     "text": [
      "['Coffee', 'Green tea', 'black tea', 'herbal tea', 'sparkling water', 'water', 'Green Tea']\n",
      "<class 'list'>\n",
      "['Coffee', 'Green tea', 'black tea', 'herbal tea', 'sparkling water', 'water', 'Green Tea', 'Soda']\n"
     ]
    }
   ],
   "source": [
    "myList = [\"Coffee\", \"Green tea\", \"black tea\", \"herbal tea\", \"sparkling water\", \"water\", \"Green Tea\"]\n",
    "print(myList)\n",
    "print(type(myList))\n",
    "\n",
    "myList.append(\"Soda\")\n",
    "print(myList)"
   ]
  },
  {
   "cell_type": "code",
   "execution_count": 2,
   "metadata": {},
   "outputs": [
    {
     "data": {
      "text/plain": [
       "'Coffee'"
      ]
     },
     "execution_count": 2,
     "metadata": {},
     "output_type": "execute_result"
    }
   ],
   "source": [
    "myList[0]"
   ]
  },
  {
   "cell_type": "code",
   "execution_count": 4,
   "metadata": {},
   "outputs": [
    {
     "name": "stdout",
     "output_type": "stream",
     "text": [
      "I like Coffee\n",
      "0\n",
      "I like Green tea\n",
      "1\n",
      "I like black tea\n",
      "2\n",
      "I like herbal tea\n",
      "3\n",
      "I like sparkling water\n",
      "4\n",
      "I like water\n",
      "5\n"
     ]
    }
   ],
   "source": [
    "i = 0\n",
    "while i < 6:\n",
    "    print(f\"I like {myList[i]}\")\n",
    "    print(i)\n",
    "    i += 1"
   ]
  },
  {
   "cell_type": "code",
   "execution_count": 9,
   "metadata": {},
   "outputs": [
    {
     "name": "stdout",
     "output_type": "stream",
     "text": [
      "I like Coffee\n",
      "0\n",
      "I like Green tea\n",
      "1\n",
      "I like black tea\n",
      "2\n",
      "I like herbal tea\n",
      "3\n",
      "I like sparkling water\n",
      "4\n",
      "I like water\n",
      "5\n"
     ]
    }
   ],
   "source": [
    "i = 0\n",
    "for liquid in myList:\n",
    "    if i < 6:\n",
    "        print(f\"I like {liquid}\")\n",
    "        print(i)\n",
    "        i+=1\n",
    "    elif i == 100:\n",
    "        print(\"What\")\n"
   ]
  },
  {
   "cell_type": "code",
   "execution_count": null,
   "metadata": {},
   "outputs": [],
   "source": []
  }
 ],
 "metadata": {
  "kernelspec": {
   "display_name": "ArcGISPro",
   "language": "Python",
   "name": "python3"
  },
  "language_info": {
   "file_extension": ".py",
   "name": "python",
   "version": "3"
  }
 },
 "nbformat": 4,
 "nbformat_minor": 2
}
