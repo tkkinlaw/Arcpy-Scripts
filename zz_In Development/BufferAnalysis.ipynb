{
 "cells": [
  {
   "cell_type": "code",
   "execution_count": null,
   "metadata": {},
   "outputs": [],
   "source": [
    "# Define the variables\n",
    "bufferIn = r\"C:\\DemoData\\PYTS\\SanDiego.gdb\\MajorAttractions\"\n",
    "bufferOut = r\"C:\\DemoData\\PYTS\\SanDiego.gdb\\AttractionsBuffer_FromNotebook\""
   ]
  },
  {
   "cell_type": "code",
   "execution_count": null,
   "metadata": {},
   "outputs": [],
   "source": [
    "# Perform the analysis\n",
    "arcpy.analysis.Buffer(bufferIn, bufferOut, \"1 Mile\")\n",
    "print(\"Buffer analysis is complete.\")"
   ]
  }
 ],
 "metadata": {
  "kernelspec": {
   "display_name": "ArcGISPro",
   "language": "Python",
   "name": "python3"
  },
  "language_info": {
   "file_extension": ".py",
   "name": "python",
   "version": "3"
  }
 },
 "nbformat": 4,
 "nbformat_minor": 2
}
