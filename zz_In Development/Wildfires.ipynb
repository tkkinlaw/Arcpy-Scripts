{
 "cells": [
  {
   "cell_type": "code",
   "execution_count": 75,
   "metadata": {},
   "outputs": [],
   "source": [
    "from arcgis import GIS\n",
    "from arcgis.features import GeoAccessor, GeoSeriesAccessor\n",
    "import pandas as pd"
   ]
  },
  {
   "cell_type": "code",
   "execution_count": 76,
   "metadata": {},
   "outputs": [],
   "source": [
    "gis = GIS(\"pro\")"
   ]
  },
  {
   "cell_type": "code",
   "execution_count": 77,
   "metadata": {},
   "outputs": [
    {
     "data": {
      "text/html": [
       "<div class=\"item_container\" style=\"height: auto; overflow: hidden; border: 1px solid #cfcfcf; border-radius: 2px; background: #f6fafa; line-height: 1.21429em; padding: 10px;\">\n",
       "                    <div class=\"item_left\" style=\"width: 210px; float: left;\">\n",
       "                       <a href='https://www.arcgis.com//home/item.html?id=d957997ccee7408287a963600a77f61f' target='_blank'>\n",
       "                        <img src='data:image/png;base64,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' width='200' height='133' class=\"itemThumbnail\">\n",
       "                       </a>\n",
       "                    </div>\n",
       "\n",
       "                    <div class=\"item_right\"     style=\"float: none; width: auto; overflow: hidden;\">\n",
       "                        <a href='https://www.arcgis.com//home/item.html?id=d957997ccee7408287a963600a77f61f' target='_blank'><b>USA Current Wildfires</b>\n",
       "                        </a>\n",
       "                        <br/>This layer shows wildfires that have been updated within the past 7 days in the United States from IRWIN and NIFC information.<img src='https://www.arcgis.com//home/js/jsapi/esri/css/images/item_type_icons/featureshosted16.png' style=\"vertical-align:middle;\">Feature Layer Collection by esri_livefeeds2\n",
       "                        <br/>Last Modified: May 19, 2023\n",
       "                        <br/>224 comments, 156,696,533 views\n",
       "                    </div>\n",
       "                </div>\n",
       "                "
      ],
      "text/plain": [
       "<Item title:\"USA Current Wildfires\" type:Feature Layer Collection owner:esri_livefeeds2>"
      ]
     },
     "execution_count": 77,
     "metadata": {},
     "output_type": "execute_result"
    }
   ],
   "source": [
    "item = gis.content.get(\"d957997ccee7408287a963600a77f61f\")\n",
    "item"
   ]
  },
  {
   "cell_type": "code",
   "execution_count": 78,
   "metadata": {},
   "outputs": [
    {
     "data": {
      "text/html": [
       "<div>\n",
       "<style scoped>\n",
       "    .dataframe tbody tr th:only-of-type {\n",
       "        vertical-align: middle;\n",
       "    }\n",
       "\n",
       "    .dataframe tbody tr th {\n",
       "        vertical-align: top;\n",
       "    }\n",
       "\n",
       "    .dataframe thead th {\n",
       "        text-align: right;\n",
       "    }\n",
       "</style>\n",
       "<table border=\"1\" class=\"dataframe\">\n",
       "  <thead>\n",
       "    <tr style=\"text-align: right;\">\n",
       "      <th></th>\n",
       "      <th>OBJECTID</th>\n",
       "      <th>IncidentName</th>\n",
       "      <th>IncidentTypeCategory</th>\n",
       "      <th>UniqueFireIdentifier</th>\n",
       "      <th>DailyAcres</th>\n",
       "      <th>CalculatedAcres</th>\n",
       "      <th>PercentContained</th>\n",
       "      <th>ICS209ReportDateTime</th>\n",
       "      <th>FireDiscoveryDateTime</th>\n",
       "      <th>DiscoveryAcres</th>\n",
       "      <th>POOCounty</th>\n",
       "      <th>POOState</th>\n",
       "      <th>FireCause</th>\n",
       "      <th>FireCauseGeneral</th>\n",
       "      <th>GACC</th>\n",
       "      <th>TotalIncidentPersonnel</th>\n",
       "      <th>IncidentManagementOrganization</th>\n",
       "      <th>FireMgmtComplexity</th>\n",
       "      <th>ResidencesDestroyed</th>\n",
       "      <th>OtherStructuresDestroyed</th>\n",
       "      <th>Injuries</th>\n",
       "      <th>Fatalities</th>\n",
       "      <th>PredominantFuelGroup</th>\n",
       "      <th>PredominantFuelModel</th>\n",
       "      <th>PrimaryFuelModel</th>\n",
       "      <th>ContainmentDateTime</th>\n",
       "      <th>ControlDateTime</th>\n",
       "      <th>FinalAcres</th>\n",
       "      <th>IsValid</th>\n",
       "      <th>FireOutDateTime</th>\n",
       "      <th>ModifiedOnDateTime</th>\n",
       "      <th>IncidentTypeKind</th>\n",
       "      <th>IrwinID</th>\n",
       "      <th>GlobalID</th>\n",
       "      <th>ModifiedOnAge</th>\n",
       "      <th>FireDiscoveryAge</th>\n",
       "      <th>SHAPE</th>\n",
       "    </tr>\n",
       "  </thead>\n",
       "  <tbody>\n",
       "    <tr>\n",
       "      <th>0</th>\n",
       "      <td>1</td>\n",
       "      <td>Fairfield Pile Burn RX</td>\n",
       "      <td>RX</td>\n",
       "      <td>2023-IDSTF-000007</td>\n",
       "      <td>1.0</td>\n",
       "      <td>&lt;NA&gt;</td>\n",
       "      <td>&lt;NA&gt;</td>\n",
       "      <td>NaT</td>\n",
       "      <td>2023-01-03 21:55:01</td>\n",
       "      <td>1.0</td>\n",
       "      <td>Elmore</td>\n",
       "      <td>US-ID</td>\n",
       "      <td>Undetermined</td>\n",
       "      <td>&lt;NA&gt;</td>\n",
       "      <td>GBCC</td>\n",
       "      <td>&lt;NA&gt;</td>\n",
       "      <td>&lt;NA&gt;</td>\n",
       "      <td>&lt;NA&gt;</td>\n",
       "      <td>&lt;NA&gt;</td>\n",
       "      <td>&lt;NA&gt;</td>\n",
       "      <td>&lt;NA&gt;</td>\n",
       "      <td>&lt;NA&gt;</td>\n",
       "      <td>&lt;NA&gt;</td>\n",
       "      <td>&lt;NA&gt;</td>\n",
       "      <td>&lt;NA&gt;</td>\n",
       "      <td>NaT</td>\n",
       "      <td>NaT</td>\n",
       "      <td>&lt;NA&gt;</td>\n",
       "      <td>1</td>\n",
       "      <td>NaT</td>\n",
       "      <td>2023-05-17 22:33:52</td>\n",
       "      <td>FI</td>\n",
       "      <td>dae2f7cb-81a2-43cb-a75c-b1efb2ed0e53</td>\n",
       "      <td>dae2f7cb-81a2-43cb-a75c-b1efb2ed0e53</td>\n",
       "      <td>1</td>\n",
       "      <td>135</td>\n",
       "      <td>{\"x\": -115.16289999999998, \"y\": 43.61560000000...</td>\n",
       "    </tr>\n",
       "    <tr>\n",
       "      <th>1</th>\n",
       "      <td>2</td>\n",
       "      <td>Sherwood Creek Piles RX</td>\n",
       "      <td>RX</td>\n",
       "      <td>2023-COBLX-000007</td>\n",
       "      <td>1.0</td>\n",
       "      <td>&lt;NA&gt;</td>\n",
       "      <td>&lt;NA&gt;</td>\n",
       "      <td>NaT</td>\n",
       "      <td>2023-01-03 16:45:00</td>\n",
       "      <td>1.0</td>\n",
       "      <td>Boulder</td>\n",
       "      <td>US-CO</td>\n",
       "      <td>Undetermined</td>\n",
       "      <td>&lt;NA&gt;</td>\n",
       "      <td>RMCC</td>\n",
       "      <td>&lt;NA&gt;</td>\n",
       "      <td>&lt;NA&gt;</td>\n",
       "      <td>&lt;NA&gt;</td>\n",
       "      <td>&lt;NA&gt;</td>\n",
       "      <td>&lt;NA&gt;</td>\n",
       "      <td>&lt;NA&gt;</td>\n",
       "      <td>&lt;NA&gt;</td>\n",
       "      <td>&lt;NA&gt;</td>\n",
       "      <td>&lt;NA&gt;</td>\n",
       "      <td>&lt;NA&gt;</td>\n",
       "      <td>NaT</td>\n",
       "      <td>NaT</td>\n",
       "      <td>&lt;NA&gt;</td>\n",
       "      <td>1</td>\n",
       "      <td>NaT</td>\n",
       "      <td>2023-05-17 17:11:07</td>\n",
       "      <td>FI</td>\n",
       "      <td>9feb560f-50bf-4236-b872-27fa0911a0a3</td>\n",
       "      <td>9feb560f-50bf-4236-b872-27fa0911a0a3</td>\n",
       "      <td>1</td>\n",
       "      <td>135</td>\n",
       "      <td>{\"x\": -105.52329999999995, \"y\": 39.98105000000...</td>\n",
       "    </tr>\n",
       "    <tr>\n",
       "      <th>2</th>\n",
       "      <td>3</td>\n",
       "      <td>Glen Haven 3 RX</td>\n",
       "      <td>RX</td>\n",
       "      <td>2023-COARF-000028</td>\n",
       "      <td>1.0</td>\n",
       "      <td>&lt;NA&gt;</td>\n",
       "      <td>&lt;NA&gt;</td>\n",
       "      <td>NaT</td>\n",
       "      <td>2023-01-15 07:00:00</td>\n",
       "      <td>1.0</td>\n",
       "      <td>Larimer</td>\n",
       "      <td>US-CO</td>\n",
       "      <td>Undetermined</td>\n",
       "      <td>&lt;NA&gt;</td>\n",
       "      <td>RMCC</td>\n",
       "      <td>&lt;NA&gt;</td>\n",
       "      <td>&lt;NA&gt;</td>\n",
       "      <td>&lt;NA&gt;</td>\n",
       "      <td>&lt;NA&gt;</td>\n",
       "      <td>&lt;NA&gt;</td>\n",
       "      <td>&lt;NA&gt;</td>\n",
       "      <td>&lt;NA&gt;</td>\n",
       "      <td>&lt;NA&gt;</td>\n",
       "      <td>&lt;NA&gt;</td>\n",
       "      <td>&lt;NA&gt;</td>\n",
       "      <td>NaT</td>\n",
       "      <td>NaT</td>\n",
       "      <td>&lt;NA&gt;</td>\n",
       "      <td>1</td>\n",
       "      <td>NaT</td>\n",
       "      <td>2023-05-17 16:26:33</td>\n",
       "      <td>FI</td>\n",
       "      <td>b39704ff-e8a8-4ba4-93e0-dbf4054bba7c</td>\n",
       "      <td>b39704ff-e8a8-4ba4-93e0-dbf4054bba7c</td>\n",
       "      <td>1</td>\n",
       "      <td>124</td>\n",
       "      <td>{\"x\": -105.47409999999996, \"y\": 40.43540000000...</td>\n",
       "    </tr>\n",
       "    <tr>\n",
       "      <th>3</th>\n",
       "      <td>4</td>\n",
       "      <td>Poncha Loop Piles</td>\n",
       "      <td>RX</td>\n",
       "      <td>2023-COPSF-000071</td>\n",
       "      <td>68.0</td>\n",
       "      <td>&lt;NA&gt;</td>\n",
       "      <td>&lt;NA&gt;</td>\n",
       "      <td>NaT</td>\n",
       "      <td>2023-02-14 16:26:42</td>\n",
       "      <td>1.0</td>\n",
       "      <td>Saguache</td>\n",
       "      <td>US-CO</td>\n",
       "      <td>Undetermined</td>\n",
       "      <td>&lt;NA&gt;</td>\n",
       "      <td>RMCC</td>\n",
       "      <td>&lt;NA&gt;</td>\n",
       "      <td>&lt;NA&gt;</td>\n",
       "      <td>&lt;NA&gt;</td>\n",
       "      <td>&lt;NA&gt;</td>\n",
       "      <td>&lt;NA&gt;</td>\n",
       "      <td>&lt;NA&gt;</td>\n",
       "      <td>&lt;NA&gt;</td>\n",
       "      <td>&lt;NA&gt;</td>\n",
       "      <td>&lt;NA&gt;</td>\n",
       "      <td>&lt;NA&gt;</td>\n",
       "      <td>NaT</td>\n",
       "      <td>NaT</td>\n",
       "      <td>&lt;NA&gt;</td>\n",
       "      <td>1</td>\n",
       "      <td>NaT</td>\n",
       "      <td>2023-05-11 20:51:22</td>\n",
       "      <td>FI</td>\n",
       "      <td>b4504e31-3c97-442e-b2fa-27ec05027e65</td>\n",
       "      <td>b4504e31-3c97-442e-b2fa-27ec05027e65</td>\n",
       "      <td>7</td>\n",
       "      <td>93</td>\n",
       "      <td>{\"x\": -106.10829999999999, \"y\": 38.41256000000...</td>\n",
       "    </tr>\n",
       "    <tr>\n",
       "      <th>4</th>\n",
       "      <td>5</td>\n",
       "      <td>Cleveland Mountain Piles</td>\n",
       "      <td>RX</td>\n",
       "      <td>2023-COPSF-000078</td>\n",
       "      <td>174.0</td>\n",
       "      <td>&lt;NA&gt;</td>\n",
       "      <td>&lt;NA&gt;</td>\n",
       "      <td>NaT</td>\n",
       "      <td>2023-02-16 16:00:13</td>\n",
       "      <td>1.0</td>\n",
       "      <td>Chaffee</td>\n",
       "      <td>US-CO</td>\n",
       "      <td>Undetermined</td>\n",
       "      <td>&lt;NA&gt;</td>\n",
       "      <td>RMCC</td>\n",
       "      <td>&lt;NA&gt;</td>\n",
       "      <td>&lt;NA&gt;</td>\n",
       "      <td>&lt;NA&gt;</td>\n",
       "      <td>&lt;NA&gt;</td>\n",
       "      <td>&lt;NA&gt;</td>\n",
       "      <td>&lt;NA&gt;</td>\n",
       "      <td>&lt;NA&gt;</td>\n",
       "      <td>&lt;NA&gt;</td>\n",
       "      <td>&lt;NA&gt;</td>\n",
       "      <td>&lt;NA&gt;</td>\n",
       "      <td>NaT</td>\n",
       "      <td>NaT</td>\n",
       "      <td>&lt;NA&gt;</td>\n",
       "      <td>1</td>\n",
       "      <td>NaT</td>\n",
       "      <td>2023-05-11 20:53:26</td>\n",
       "      <td>FI</td>\n",
       "      <td>89a9994a-b1f4-4c6b-a307-628d59ed4461</td>\n",
       "      <td>89a9994a-b1f4-4c6b-a307-628d59ed4461</td>\n",
       "      <td>7</td>\n",
       "      <td>91</td>\n",
       "      <td>{\"x\": -106.11949999999996, \"y\": 38.47282000000...</td>\n",
       "    </tr>\n",
       "  </tbody>\n",
       "</table>\n",
       "</div>"
      ],
      "text/plain": [
       "   OBJECTID  ...                                              SHAPE\n",
       "0         1  ...  {\"x\": -115.16289999999998, \"y\": 43.61560000000...\n",
       "1         2  ...  {\"x\": -105.52329999999995, \"y\": 39.98105000000...\n",
       "2         3  ...  {\"x\": -105.47409999999996, \"y\": 40.43540000000...\n",
       "3         4  ...  {\"x\": -106.10829999999999, \"y\": 38.41256000000...\n",
       "4         5  ...  {\"x\": -106.11949999999996, \"y\": 38.47282000000...\n",
       "\n",
       "[5 rows x 37 columns]"
      ]
     },
     "execution_count": 78,
     "metadata": {},
     "output_type": "execute_result"
    }
   ],
   "source": [
    "daysQuery = \"FireDiscoveryAge < 183\"\n",
    "fires = item.layers[0].query(where=daysQuery)\n",
    "fires.sdf.head()"
   ]
  },
  {
   "cell_type": "code",
   "execution_count": 79,
   "metadata": {},
   "outputs": [
    {
     "data": {
      "application/vnd.jupyter.widget-view+json": {
       "model_id": "91939a6cd34d4b2b8ccaeb94dea34691",
       "version_major": 2,
       "version_minor": 0
      },
      "text/plain": [
       "MapView(layout=Layout(height='400px', width='100%'))"
      ]
     },
     "metadata": {},
     "output_type": "display_data"
    },
    {
     "data": {
      "text/html": [
       "<div class=\"map-static-img-preview-c06d6ffc-2af6-455e-912c-87667c06db69\"><img src=\"\"></img></div>"
      ],
      "text/plain": [
       "<display.HTML object>"
      ]
     },
     "metadata": {},
     "output_type": "display_data"
    },
    {
     "data": {
      "text/html": [
       "<div class=\"map-html-embed-preview-c06d6ffc-2af6-455e-912c-87667c06db69\"></div>"
      ],
      "text/plain": [
       "<display.HTML object>"
      ]
     },
     "metadata": {},
     "output_type": "display_data"
    }
   ],
   "source": [
    "m1 = GIS().map(\"United States\")\n",
    "m1.add_layer(fires)\n",
    "m1\n",
    "\n",
    "#Basemap"
   ]
  },
  {
   "cell_type": "code",
   "execution_count": null,
   "metadata": {},
   "outputs": [],
   "source": [
    "fcPath = r\"C:\\Demos\\PYTS\\SanDiego.gdb\\RecentWildfires\"\n",
    "fires.sdf.spatial.to_featureclass(fcPath)"
   ]
  },
  {
   "cell_type": "code",
   "execution_count": null,
   "metadata": {},
   "outputs": [],
   "source": [
    "arcpy.analysis.SpatialJoin(\"USA States\", \"RecentWildfires\", \"WildfiresPerState\")"
   ]
  },
  {
   "cell_type": "code",
   "execution_count": null,
   "metadata": {},
   "outputs": [],
   "source": [
    "wfState_sdf = pd.DataFrame.spatial.from_featureclass('WildfiresPerState')\n",
    "wfState_sdf = wfState_sdf[[\"STATE_NAME\",\"STATE_ABBR\", \"SUB_REGION\", \"Join_Count\"]]\n",
    "wfState_sdf "
   ]
  },
  {
   "cell_type": "code",
   "execution_count": null,
   "metadata": {},
   "outputs": [],
   "source": [
    "from matplotlib import pyplot as plt\n",
    "%matplotlib inline\n",
    "plt.subplots(figsize=(20,6))\n",
    "states = wfState_sdf['STATE_ABBR']\n",
    "counts = wfState_sdf['Join_Count']\n",
    "plt.bar(states,counts, color = 'darkorange')\n",
    "plt.show()"
   ]
  },
  {
   "cell_type": "code",
   "execution_count": null,
   "metadata": {},
   "outputs": [],
   "source": [
    "wfState_sdf.groupby(['SUB_REGION']).sum()"
   ]
  },
  {
   "cell_type": "code",
   "execution_count": null,
   "metadata": {},
   "outputs": [],
   "source": [
    "plt.subplots(figsize=(20,6))\n",
    "plt.barh(wfState_sdf.SUB_REGION, wfState_sdf.Join_Count, color = 'darkorange')\n",
    "plt.show()"
   ]
  },
  {
   "cell_type": "code",
   "execution_count": null,
   "metadata": {},
   "outputs": [],
   "source": []
  }
 ],
 "metadata": {
  "kernelspec": {
   "display_name": "ArcGISPro",
   "language": "Python",
   "name": "python3"
  },
  "language_info": {
   "file_extension": ".py",
   "name": "python",
   "version": "3"
  }
 },
 "nbformat": 4,
 "nbformat_minor": 2
}
