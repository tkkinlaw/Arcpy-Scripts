{
 "cells": [
  {
   "cell_type": "code",
   "execution_count": 211,
   "metadata": {},
   "outputs": [],
   "source": [
    "%reset -f\n",
    "import arcpy\n",
    "import os\n",
    "from datetime import datetime\n",
    "\n",
    "topo = r\"C:\\Demos\\PYTS\\NorthCarolina.gdb\\NCCities\\NCCitiesToState\"\n",
    "fcToCheck = r\"C:\\Demos\\PYTS\\NorthCarolina.gdb\\NC_Census_Tracts\"\n",
    "state = r\"C:\\Demos\\PYTS\\NorthCarolina.gdb\\NCCities\\NC_SPCS_FD\"\n",
    "outPath = r\"C:\\Demos\\PYTS\\ForSam.gdb\"\n",
    "outName = \"Test\"\n",
    "overwrite = True"
   ]
  },
  {
   "cell_type": "code",
   "execution_count": null,
   "metadata": {},
   "outputs": [],
   "source": []
  },
  {
   "cell_type": "code",
   "execution_count": 212,
   "metadata": {},
   "outputs": [
    {
     "name": "stdout",
     "output_type": "stream",
     "text": [
      "These are the feature classes participating in the topology: ['NC_SPCS_FD', 'NCDOT_City_Boundaries_FD']\n"
     ]
    }
   ],
   "source": [
    "descFc = arcpy.Describe(fcToCheck)\n",
    "descTopo = arcpy.Describe(topo)\n",
    "\n",
    "arcpy.env.workspace = descFc.path\n",
    "print(f\"These are the feature classes participating in the topology: {descTopo.featureClassNames}\")"
   ]
  },
  {
   "cell_type": "code",
   "execution_count": 213,
   "metadata": {},
   "outputs": [
    {
     "name": "stdout",
     "output_type": "stream",
     "text": [
      "The workspace is: C:\\Demos\\PYTS\\NorthCarolina.gdb\n",
      "The new feature class is: C:\\Demos\\PYTS\\NorthCarolina.gdb\\NCCities\\NC_Census_Tracts_FD\n",
      "C:\\Demos\\PYTS\\NorthCarolina.gdb\\NCCities\\NC_Census_Tracts_FD has been added to the feature dataset\n"
     ]
    }
   ],
   "source": [
    "print(f\"The workspace is: {arcpy.env.workspace}\")\n",
    "feature_classes = []\n",
    "\n",
    "walk = arcpy.da.Walk(descFc.path, datatype=\"FeatureClass\", type=\"Polygon\")\n",
    "\n",
    "for dirpath, dirnames, filenames in walk:\n",
    "    for filename in filenames:\n",
    "        feature_classes.append(os.path.join(dirpath, filename))\n",
    "\n",
    "outFCFDName = os.path.join(descTopo.path, descFc.name+\"_FD\")\n",
    "\n",
    "with arcpy.EnvManager(workspace = descTopo.path, overwriteOutput=True):\n",
    "    if fcToCheck in feature_classes:\n",
    "        print(f\"The new feature class is: {outFCFDName}\")\n",
    "        arcpy.conversion.ExportFeatures(fcToCheck, outFCFDName)\n",
    "    else:\n",
    "        arcpy.conversion.ExportFeatures(fcToCheck, outFCFDName)\n",
    "    fcToCheck = outFCFDName\n",
    "    print(f\"{fcToCheck} has been added to the feature dataset\")"
   ]
  },
  {
   "cell_type": "markdown",
   "metadata": {
    "heading_collapsed": true
   },
   "source": [
    "#  Bad"
   ]
  },
  {
   "cell_type": "code",
   "execution_count": 117,
   "metadata": {
    "hidden": true
   },
   "outputs": [
    {
     "name": "stdout",
     "output_type": "stream",
     "text": [
      "Listing the feature classes in: C:\\Demos\\PYTS\\NorthCarolina.gdb\\NCCities.\n"
     ]
    }
   ],
   "source": [
    "arcpy.env.workspace = descTopo.path\n",
    "print(f\"Listing the feature classes in: {arcpy.env.workspace}.\")\n",
    "fcsInFD = arcpy.ListFeatureClasses()"
   ]
  },
  {
   "cell_type": "code",
   "execution_count": 138,
   "metadata": {
    "hidden": true
   },
   "outputs": [
    {
     "name": "stdout",
     "output_type": "stream",
     "text": [
      "Testing C:\\Demos\\PYTS\\NorthCarolina.gdb\\NC_SPCS_FD\n",
      "Testing C:\\Demos\\PYTS\\NorthCarolina.gdb\\NCDOT_City_Boundaries_FD\n",
      "No match...yet\n",
      "C:\\Demos\\PYTS\\NorthCarolina.gdb\n",
      "Checking C:\\Demos\\PYTS\\NorthCarolina.gdb\n",
      "Unique name is NC_Census_Tracts0\n",
      "C:\\Demos\\PYTS\\NorthCarolina.gdb\\NC_SPCS\n",
      "C:\\Demos\\PYTS\\NorthCarolina.gdb\\NCDOT_City_Boundaries\n",
      "C:\\Demos\\PYTS\\NorthCarolina.gdb\\NC_Census_Tracts\n"
     ]
    }
   ],
   "source": [
    "for fc in fcsInFD:\n",
    "    testFCPath = os.path.join(arcpy.env.workspace, fc)\n",
    "    print(f\"Testing {testFCPath}\")\n",
    "    if testFCPath == fcToCheck:\n",
    "        print(\"match\")\n",
    "else:\n",
    "    print(\"No match...yet\")\n",
    "    gdbTestPath = descTopo.path.split('.gdb')[0]+'.gdb'\n",
    "    print(gdbTestPath)\n",
    "    with arcpy.EnvManager(workspace=gdbTestPath):\n",
    "        print(f\"Checking {gdbTestPath}\")\n",
    "        gdbFCs = arcpy.ListFeatureClasses()\n",
    "        arcpy.env.workspace = r\"C:\\Demos\\PYTS\\NorthCarolina.gdb\"\n",
    "        fcNameinFD = arcpy.CreateUniqueName(descFc.name).split('\\\\')[-1]\n",
    "        print(f\"Unique name is {fcNameinFD}\")\n",
    "        for gdbFc in gdbFCs:\n",
    "            gdbFcPath = os.path.join(gdbTestPath,gdbFc)\n",
    "            print(gdbFcPath)\n",
    "            if fcToCheck == gdbFcPath:\n",
    "                #outputNameInFD = os.path.join(descTopo.path, arcpy.CreateUniqueName(descFc.name))\n",
    "                print(\"The input feature class is in the same geodatabase as the feature dataset & topology, but is not in the feature dataset.\")\n",
    "                #fcNameinFD = arcpy.CreateUniqueName(descFc.name)\n",
    "                with arcpy.EnvManager(workspace = descTopo.path):\n",
    "                    print(\"Exporting features to feature dataset\")\n",
    "                    #fcNameinFD = arcpy.CreateUniqueName(descFc.name)\n",
    "                    #print(fcNameinFD)\n",
    "                    arcpy.conversion.ExportFeatures(in_features=fcToCheck, out_features=os.path.join(fcNameinFD)\n",
    "                    fcToCheck = fcNameinFD #reassign the value of the inpu since we now have the data in the right place\n",
    "                    print(fcToCheck)"
   ]
  },
  {
   "cell_type": "code",
   "execution_count": 111,
   "metadata": {
    "hidden": true
   },
   "outputs": [
    {
     "data": {
      "text/plain": [
       "'C:\\\\Demos\\\\PYTS\\\\NorthCarolina.gdb\\\\NC_Census_Tracts5'"
      ]
     },
     "execution_count": 111,
     "metadata": {},
     "output_type": "execute_result"
    }
   ],
   "source": [
    "fcToCheck"
   ]
  },
  {
   "cell_type": "code",
   "execution_count": 137,
   "metadata": {
    "hidden": true
   },
   "outputs": [
    {
     "data": {
      "text/plain": [
       "'NC_Census_Tracts0'"
      ]
     },
     "execution_count": 137,
     "metadata": {},
     "output_type": "execute_result"
    }
   ],
   "source": [
    "fcNameinFD"
   ]
  },
  {
   "cell_type": "code",
   "execution_count": 113,
   "metadata": {
    "hidden": true
   },
   "outputs": [
    {
     "data": {
      "text/plain": [
       "'C:\\\\Demos\\\\PYTS\\\\NorthCarolina.gdb\\\\NC_Census_Tracts5'"
      ]
     },
     "execution_count": 113,
     "metadata": {},
     "output_type": "execute_result"
    }
   ],
   "source": [
    "outputNameInFD"
   ]
  },
  {
   "cell_type": "code",
   "execution_count": 114,
   "metadata": {
    "hidden": true
   },
   "outputs": [
    {
     "data": {
      "text/plain": [
       "'C:\\\\Demos\\\\PYTS\\\\NorthCarolina.gdb\\\\NCCities'"
      ]
     },
     "execution_count": 114,
     "metadata": {},
     "output_type": "execute_result"
    }
   ],
   "source": [
    "descTopo.path"
   ]
  },
  {
   "cell_type": "code",
   "execution_count": 127,
   "metadata": {
    "hidden": true
   },
   "outputs": [
    {
     "data": {
      "text/plain": [
       "'C:\\\\Demos\\\\PYTS\\\\NorthCarolina.gdb\\\\NC_SPCS_FD0'"
      ]
     },
     "execution_count": 127,
     "metadata": {},
     "output_type": "execute_result"
    }
   ],
   "source": [
    "arcpy.env.workspace = r\"C:\\Demos\\PYTS\\NorthCarolina.gdb\"\n",
    "arcpy.CreateUniqueName(descFc.name)"
   ]
  }
 ],
 "metadata": {
  "kernelspec": {
   "display_name": "Python 3 (ipykernel)",
   "language": "python",
   "name": "python3"
  },
  "language_info": {
   "file_extension": ".py",
   "name": "python",
   "version": "3"
  }
 },
 "nbformat": 4,
 "nbformat_minor": 2
}
