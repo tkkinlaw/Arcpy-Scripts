{
 "cells": [
  {
   "cell_type": "code",
   "execution_count": 2,
   "metadata": {},
   "outputs": [
    {
     "data": {
      "text/plain": [
       "['NC_SPCS', 'NCDOT_City_Boundaries']"
      ]
     },
     "execution_count": 2,
     "metadata": {},
     "output_type": "execute_result"
    }
   ],
   "source": [
    "arcpy.env.workspace = r\"C:\\Demos\\PYTS\\NorthCarolina.gdb\\\"\n",
    "arcpy.ListFeatureClasses()"
   ]
  },
  {
   "cell_type": "code",
   "execution_count": 3,
   "metadata": {},
   "outputs": [],
   "source": [
    "topo = r\"C:\\Demos\\PYTS\\NorthCarolina.gdb\\NCCities\\NCCitiesToState\"\n",
    "descTopo = arcpy.Describe(topo)"
   ]
  },
  {
   "cell_type": "code",
   "execution_count": 15,
   "metadata": {},
   "outputs": [
    {
     "data": {
      "text/plain": [
       "['NCCities']"
      ]
     },
     "execution_count": 15,
     "metadata": {},
     "output_type": "execute_result"
    }
   ],
   "source": [
    "descTopo.path.split('\\\\')[-1:]"
   ]
  },
  {
   "cell_type": "code",
   "execution_count": 25,
   "metadata": {},
   "outputs": [
    {
     "data": {
      "text/plain": [
       "False"
      ]
     },
     "execution_count": 25,
     "metadata": {},
     "output_type": "execute_result"
    }
   ],
   "source": [
    "arcpy.Describe('NC_SPCS_FD').path == arcpy.Describe(state).path"
   ]
  },
  {
   "cell_type": "code",
   "execution_count": 26,
   "metadata": {},
   "outputs": [
    {
     "data": {
      "text/plain": [
       "'C:\\\\Demos\\\\PYTS\\\\NorthCarolina.gdb'"
      ]
     },
     "execution_count": 26,
     "metadata": {},
     "output_type": "execute_result"
    }
   ],
   "source": [
    "arcpy.Describe('NC_SPCS_FD').path"
   ]
  },
  {
   "cell_type": "code",
   "execution_count": 27,
   "metadata": {},
   "outputs": [
    {
     "data": {
      "text/plain": [
       "'C:\\\\Demos\\\\PYTS\\\\NorthCarolina.gdb\\\\NCCities'"
      ]
     },
     "execution_count": 27,
     "metadata": {},
     "output_type": "execute_result"
    }
   ],
   "source": [
    "arcpy.Describe(state).path"
   ]
  },
  {
   "cell_type": "code",
   "execution_count": 46,
   "metadata": {},
   "outputs": [],
   "source": [
    "fc = r\"C:\\Demos\\PYTS\\NorthCarolina.gdb\\NCDOT_City_Boundaries\""
   ]
  },
  {
   "cell_type": "code",
   "execution_count": 56,
   "metadata": {},
   "outputs": [],
   "source": [
    "import os\n",
    "walk = arcpy.da.Walk(arcpy.env.workspace, datatype=\"FeatureClass\")\n",
    "feature_classes = []\n",
    "\n",
    "#for dirpath, dirnames, filenames in walk:\n",
    "##    for filename in filenames:\n",
    " #       feature_classes.append(os.path.join(dirpath, filename))"
   ]
  },
  {
   "cell_type": "code",
   "execution_count": 71,
   "metadata": {},
   "outputs": [
    {
     "ename": "SyntaxError",
     "evalue": "EOL while scanning string literal (<string>, line 8)",
     "output_type": "error",
     "traceback": [
      "\u001b[0;31m---------------------------------------------------------------------------\u001b[0m\n\u001b[0;31mSyntaxError\u001b[0m                               Traceback (most recent call last)",
      "File \u001b[0;34mC:\\Users\\tim10393\\AppData\\Local\\ESRI\\conda\\envs\\arcgispro-py3-clone\\Lib\\ast.py\u001b[0m, in \u001b[0;32mparse\u001b[0m:\nLine \u001b[0;34m50\u001b[0m:    \u001b[34mreturn\u001b[39;49;00m \u001b[36mcompile\u001b[39;49;00m(source, filename, mode, flags,\n",
      "\u001b[0;31mSyntaxError\u001b[0m: EOL while scanning string literal (<string>, line 8)\n\u001b[0;31m---------------------------------------------------------------------------\u001b[0m"
     ]
    }
   ],
   "source": [
    "arcpy.env.workspace = descTopo.path\n",
    "fcsInFD = arcpy.ListFeatureClasses()\n",
    "for fc in fcsInFD:\n",
    "    if os.path.join(arcpy.env.workspace, fc) == fcToCheck:\n",
    "        print(\"The input feature class is in the featuredataset already\")\n",
    "    else:\n",
    "        with arcpy.EnvManager(workspace=descTopo.path.split('.gdb')[0]+'.gdb'):\n",
    "            print(f\"Checking {arcpy.env.workspace}.)\n",
    "            if fcToCheck in arcpy.env.workspace:\n",
    "                  print(f\"{fcToCheck} is in {arcpy.env.workspace}\")"
   ]
  },
  {
   "cell_type": "code",
   "execution_count": 48,
   "metadata": {},
   "outputs": [
    {
     "name": "stdout",
     "output_type": "stream",
     "text": [
      "C:\\Demos\\PYTS\\NorthCarolina.gdb\\NC_SPCS\n",
      "C:\\Demos\\PYTS\\NorthCarolina.gdb\\NCDOT_City_Boundaries\n",
      "C:\\Demos\\PYTS\\NorthCarolina.gdb\\NCCities\\NC_SPCS_FD\n",
      "C:\\Demos\\PYTS\\NorthCarolina.gdb\\NCCities\\NCDOT_City_Boundaries_FD\n"
     ]
    },
    {
     "data": {
      "text/plain": [
       "[None, None, None, None]"
      ]
     },
     "execution_count": 48,
     "metadata": {},
     "output_type": "execute_result"
    }
   ],
   "source": [
    "[print(x) for x in feature_classes]"
   ]
  },
  {
   "cell_type": "code",
   "execution_count": 49,
   "metadata": {},
   "outputs": [
    {
     "data": {
      "text/plain": [
       "True"
      ]
     },
     "execution_count": 49,
     "metadata": {},
     "output_type": "execute_result"
    }
   ],
   "source": [
    "fc in feature_classes"
   ]
  },
  {
   "cell_type": "code",
   "execution_count": 50,
   "metadata": {},
   "outputs": [
    {
     "data": {
      "text/plain": [
       "'C:\\\\Demos\\\\PYTS\\\\NorthCarolina.gdb'"
      ]
     },
     "execution_count": 50,
     "metadata": {},
     "output_type": "execute_result"
    }
   ],
   "source": [
    "arcpy.Describe(fc).path"
   ]
  },
  {
   "cell_type": "code",
   "execution_count": 51,
   "metadata": {},
   "outputs": [
    {
     "data": {
      "text/plain": [
       "'C:\\\\Demos\\\\PYTS\\\\NorthCarolina.gdb\\\\NCCities'"
      ]
     },
     "execution_count": 51,
     "metadata": {},
     "output_type": "execute_result"
    }
   ],
   "source": [
    "arcpy.Describe(topo).path #If here, then don't export"
   ]
  },
  {
   "cell_type": "code",
   "execution_count": null,
   "metadata": {},
   "outputs": [],
   "source": [
    "#If in the FD already, then skip to adding.\n",
    "#elif in same gdb, then export to fd & add _1\n",
    "#else in another place, then just export"
   ]
  },
  {
   "cell_type": "code",
   "execution_count": 70,
   "metadata": {},
   "outputs": [
    {
     "data": {
      "text/plain": [
       "'C:\\\\Demos\\\\PYTS\\\\NorthCarolina.gdb'"
      ]
     },
     "execution_count": 70,
     "metadata": {},
     "output_type": "execute_result"
    }
   ],
   "source": [
    "descTopo.path.split('.gdb')[0]+'.gdb'"
   ]
  },
  {
   "cell_type": "code",
   "execution_count": 99,
   "metadata": {},
   "outputs": [
    {
     "data": {
      "text/plain": [
       "'NCDOT_City_Boundaries_FD'"
      ]
     },
     "execution_count": 99,
     "metadata": {},
     "output_type": "execute_result"
    }
   ],
   "source": [
    "fc"
   ]
  },
  {
   "cell_type": "code",
   "execution_count": 100,
   "metadata": {},
   "outputs": [
    {
     "data": {
      "text/plain": [
       "'C:\\\\Demos\\\\PYTS\\\\NorthCarolina.gdb\\\\NC_Census_Tracts'"
      ]
     },
     "execution_count": 100,
     "metadata": {},
     "output_type": "execute_result"
    }
   ],
   "source": [
    "fcToCheck"
   ]
  },
  {
   "cell_type": "code",
   "execution_count": null,
   "metadata": {},
   "outputs": [],
   "source": []
  }
 ],
 "metadata": {
  "kernelspec": {
   "display_name": "Python 3 (ipykernel)",
   "language": "python",
   "name": "python3"
  },
  "language_info": {
   "file_extension": ".py",
   "name": "python",
   "version": "3"
  }
 },
 "nbformat": 4,
 "nbformat_minor": 2
}
