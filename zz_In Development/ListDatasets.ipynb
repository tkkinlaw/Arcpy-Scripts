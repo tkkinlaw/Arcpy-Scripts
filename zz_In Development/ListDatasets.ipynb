{
 "cells": [
  {
   "cell_type": "code",
   "execution_count": 23,
   "metadata": {},
   "outputs": [
    {
     "name": "stdout",
     "output_type": "stream",
     "text": [
      "['LinvilleGorgeTrail_GPS', 'LinvilleGorgeTrail', 'LinvilleGorgeWildernessArea', 'LinvilleGorgeTrail_SPCS']\n"
     ]
    }
   ],
   "source": [
    "gdb = r'C:\\Users\\tim10393\\OneDrive - Esri\\DemoData\\DemoData.gdb'\n",
    "arcpy.env.workspace = gdb\n",
    "\n",
    "fcListLin = arcpy.ListFeatureClasses(wild_card=\"Linville*\")\n",
    "print(fcListLin)"
   ]
  },
  {
   "cell_type": "code",
   "execution_count": null,
   "metadata": {},
   "outputs": [],
   "source": []
  }
 ],
 "metadata": {
  "kernelspec": {
   "display_name": "ArcGISPro",
   "language": "Python",
   "name": "python3"
  },
  "language_info": {
   "file_extension": ".py",
   "name": "python",
   "version": "3"
  }
 },
 "nbformat": 4,
 "nbformat_minor": 2
}
