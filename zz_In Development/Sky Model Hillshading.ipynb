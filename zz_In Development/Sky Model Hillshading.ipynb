{
 "cells": [
  {
   "cell_type": "markdown",
   "metadata": {
    "vscode": {
     "languageId": "plaintext"
    }
   },
   "source": [
    "---------------------------------------------------------------------------\n",
    "SkyModel.py\n",
    "Calculates a multipoint illumination hillshade raster from text file input.\n",
    "Based on model developed by Kennelly and Stewart, 2013\n",
    "Programmed by Linda Beale, Esri Inc\n",
    "---------------------------------------------------------------------------"
   ]
  },
  {
   "cell_type": "code",
   "execution_count": null,
   "metadata": {},
   "outputs": [],
   "source": [
    "import os\n",
    "import sys\n",
    "import arcpy\n",
    "import csv\n",
    "from arcpy import env\n",
    "from arcpy.sa import *"
   ]
  },
  {
   "cell_type": "code",
   "execution_count": null,
   "metadata": {},
   "outputs": [],
   "source": [
    "def skymodel(inDEM, inFile, outRaster):\n",
    "    \"\"\"\n",
    "    skymodel: calculates hillshade raster\n",
    "\n",
    "    Required arguments:\n",
    "    inDEM -- Input DEM.\n",
    "    inFile -- input text file.\n",
    "    outRaster -- output Raster.\n",
    "    \"\"\"\n",
    "    try:\n",
    "        # Check out the Spatial Analyst license\n",
    "        arcpy.CheckOutExtension(\"Spatial\")\n",
    "\n",
    "        # Create a blank raster fror the area.\n",
    "        zeroRaster = Times(inDEM, 0)\n",
    "        count = 0\n",
    "        timesDEM = Raster(inDEM) * 5\n",
    "\n",
    "        # Open file and iterate through file line by line.\n",
    "        with open(inFile, \"r\") as in_file:\n",
    "            reader = csv.reader(in_file)\n",
    "            for line in reader:\n",
    "                # splits the line at comma.\n",
    "                azimuth = line[0]\n",
    "                altitude = line[1]\n",
    "                weight = float(line[2])\n",
    "\n",
    "                # Hillshade input with azimuth and altitude from text file\n",
    "                outHillShade = Hillshade(timesDEM, azimuth, altitude, \"SHADOWS\", 1)\n",
    "\n",
    "                # Weight input with weight from text file.\n",
    "                weightRas = outHillShade * weight\n",
    "\n",
    "                # Sum weighted grids.\n",
    "                if count == 0:\n",
    "                    sumRaster = weightRas + zeroRaster\n",
    "                else:\n",
    "                    sumRaster = weightRas + prevRaster\n",
    "\n",
    "                # Create output raster\n",
    "                prevRaster = sumRaster\n",
    "\n",
    "                # Increment to next text file line.\n",
    "                count += 1\n",
    "                print(str(count))\n",
    "\n",
    "        # Save output file.\n",
    "        prevRaster.save(outRaster)\n",
    "\n",
    "        # set the symbology\n",
    "        scriptPath = sys.path[0]\n",
    "        one_folder_up = os.path.dirname(scriptPath)\n",
    "        toolLayerPath = os.path.join(one_folder_up, \"LayerFiles\")\n",
    "        lyrFile = os.path.join(toolLayerPath, \"SkyModel.lyr\")\n",
    "        params = arcpy.GetParameterInfo()\n",
    "        params[2].symbology = lyrFile\n",
    "\n",
    "        arcpy.Delete_management(timesDEM)\n",
    "\n",
    "    except arcpy.ExecuteError:\n",
    "        print(arcpy.GetMessages(2))\n",
    "# End main function\n",
    "md = r\"C:\\Demos\\Cartography\\Cartography.gdb\\New_Zealand_DEM\"\n",
    "if __name__ == '__main__':\n",
    "    skymodel(md, r\"C:\\Users\\tim10393\\Downloads\\TerrainTools\\TerrainTools_v1_1\\SkyLuminance\\model_clear.txt\", r\"C:\\Demos\\Cartography\\New Zealand\\Surface Products\\SkyModel.tif\")\n"
   ]
  },
  {
   "cell_type": "markdown",
   "metadata": {},
   "source": []
  }
 ],
 "metadata": {
  "kernelspec": {
   "display_name": "Python 3",
   "language": "python",
   "name": "python3"
  },
  "language_info": {
   "codemirror_mode": {
    "name": "ipython",
    "version": 3
   },
   "file_extension": ".py",
   "mimetype": "text/x-python",
   "name": "python",
   "nbconvert_exporter": "python",
   "pygments_lexer": "ipython3",
   "version": "3.11.8"
  }
 },
 "nbformat": 4,
 "nbformat_minor": 2
}
