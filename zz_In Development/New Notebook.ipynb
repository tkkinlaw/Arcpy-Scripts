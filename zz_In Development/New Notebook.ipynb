{
 "cells": [
  {
   "cell_type": "code",
   "execution_count": 7,
   "metadata": {},
   "outputs": [
    {
     "data": {
      "text/html": [
       "<style>table td#td0  {font-weight: bold}</style><table class=\"notebook\"><colgroup><col style=\"width:45%\"></col><col style=\"width:55%\"></col></colgroup><tr><td id = \"td0\" title=\"catalogPath\">catalogPath</td><td title=\"C:\\Demos\\PYTS\\SanDiego.gdb\\GasStations\">C:\\Demos\\PYTS\\SanDiego.gdb\\GasStations</td></tr><tr><td id = \"td0\" title=\"dataType\">dataType</td><td title=\"FeatureClass\">FeatureClass</td></tr><tr><td id = \"td0\" title=\"shapeType\">shapeType</td><td title=\"Point\">Point</td></tr><tr><td id = \"td0\" title=\"hasM\">hasM</td><td title=\"False\">False</td></tr><tr><td id = \"td0\" title=\"hasZ\">hasZ</td><td title=\"False\">False</td></tr></table><div class=\"title\"><i class=\"chevron-open\" onClick=\"event.preventDefault();document.getElementById('E0A84F26-2A9E-41AB-8218-57FF497E0253').style.display =   document.getElementById('E0A84F26-2A9E-41AB-8218-57FF497E0253').style.display == 'none' ? 'block' : 'none';this.classList.toggle('chevron-closed');\"></i>fields</div><div id=\"E0A84F26-2A9E-41AB-8218-57FF497E0253\"><style>table td#td0  {font-weight: bold}</style><table class=\"notebook\"><colgroup><col style=\"width:45%\"></col><col style=\"width:55%\"></col></colgroup><tr><td id = \"td0\" title=\"OBJECTID\">OBJECTID</td><td title=\"OID\">OID</td></tr><tr><td id = \"td0\" title=\"Shape\">Shape</td><td title=\"Geometry\">Geometry</td></tr><tr><td id = \"td0\" title=\"NAME\">NAME</td><td title=\"String\">String</td></tr><tr><td id = \"td0\" title=\"PERMIT_NO\">PERMIT_NO</td><td title=\"Integer\">Integer</td></tr><tr><td id = \"td0\" title=\"ADDRESS\">ADDRESS</td><td title=\"String\">String</td></tr><tr><td id = \"td0\" title=\"CITY\">CITY</td><td title=\"String\">String</td></tr><tr><td id = \"td0\" title=\"ZIP_CODE\">ZIP_CODE</td><td title=\"Double\">Double</td></tr><tr><td id = \"td0\" title=\"PHONE\">PHONE</td><td title=\"String\">String</td></tr><tr><td id = \"td0\" title=\"CONTACT\">CONTACT</td><td title=\"String\">String</td></tr><tr><td id = \"td0\" title=\"PUMPS\">PUMPS</td><td title=\"SmallInteger\">SmallInteger</td></tr><tr><td id = \"td0\" title=\"CNG_DEV\">CNG_DEV</td><td title=\"SmallInteger\">SmallInteger</td></tr></table></div><div class=\"title\"><i class=\"chevron-open\" onClick=\"event.preventDefault();document.getElementById('C595ECC0-F5E6-4F44-9D77-088AE1F8CCDB').style.display =   document.getElementById('C595ECC0-F5E6-4F44-9D77-088AE1F8CCDB').style.display == 'none' ? 'block' : 'none';this.classList.toggle('chevron-closed');\"></i>spatialReference</div><div id=\"C595ECC0-F5E6-4F44-9D77-088AE1F8CCDB\"><style>table td#td0  {font-weight: bold}</style><table class=\"notebook\"><colgroup><col style=\"width:45%\"></col><col style=\"width:55%\"></col></colgroup><tr><td id = \"td0\" title=\"name (Projected Coordinate System)\">name (Projected Coordinate System)</td><td title=\"NAD_1983_StatePlane_California_VI_FIPS_0406_Feet\">NAD_1983_StatePlane_California_VI_FIPS_0406_Feet</td></tr><tr><td id = \"td0\" title=\"factoryCode (WKID)\">factoryCode (WKID)</td><td title=\"2230\">2230</td></tr><tr><td id = \"td0\" title=\"linearUnitName (Linear Unit)\">linearUnitName (Linear Unit)</td><td title=\"Foot_US\">Foot_US</td></tr></table><div class=\"subtitle\">spatialReference.GCS</div><style>table td#td0  {font-weight: bold}</style><table class=\"notebook\"><colgroup><col style=\"width:45%\"></col><col style=\"width:55%\"></col></colgroup><tr><td id = \"td0\" title=\"name (Geographic Coordinate System)\">name (Geographic Coordinate System)</td><td title=\"GCS_North_American_1983\">GCS_North_American_1983</td></tr><tr><td id = \"td0\" title=\"factoryCode (WKID)\">factoryCode (WKID)</td><td title=\"4269\">4269</td></tr><tr><td id = \"td0\" title=\"angularUnitName (Angular Unit)\">angularUnitName (Angular Unit)</td><td title=\"Degree\">Degree</td></tr><tr><td id = \"td0\" title=\"datumName (Datum)\">datumName (Datum)</td><td title=\"D_North_American_1983\">D_North_American_1983</td></tr></table></div><p class=\"gpresult\">For additional help,     see <a href=\"#\" onclick=\"chrome.webview.postMessage('describe_helpid_120003794');return false;\">arcpy.Describe</a></p><br>"
      ],
      "text/plain": [
       "<geoprocessing describe data object object at 0x000001AF3F1DD710>"
      ]
     },
     "execution_count": 7,
     "metadata": {},
     "output_type": "execute_result"
    }
   ],
   "source": [
    "arcpy.Describe(r\"C:\\Demos\\PYTS\\SanDiego.gdb\\GasStations\")"
   ]
  },
  {
   "cell_type": "code",
   "execution_count": null,
   "metadata": {},
   "outputs": [],
   "source": []
  }
 ],
 "metadata": {
  "kernelspec": {
   "display_name": "Python 3 (ipykernel)",
   "language": "python",
   "name": "python3"
  },
  "language_info": {
   "file_extension": ".py",
   "name": "python",
   "version": "3"
  }
 },
 "nbformat": 4,
 "nbformat_minor": 2
}
