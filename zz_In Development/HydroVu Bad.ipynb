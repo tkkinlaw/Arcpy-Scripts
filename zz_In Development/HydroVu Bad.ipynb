{
 "cells": [
  {
   "cell_type": "markdown",
   "metadata": {},
   "source": [
    "/public-api/v1/locations/list\n",
    "\n",
    "https://www.hydrovu.com/public-api/v1/locations/list\n",
    "\n",
    "/public-api/v1/locations/{id}/data"
   ]
  },
  {
   "cell_type": "code",
   "execution_count": 1,
   "metadata": {},
   "outputs": [],
   "source": [
    "import requests"
   ]
  },
  {
   "cell_type": "code",
   "execution_count": 31,
   "metadata": {},
   "outputs": [
    {
     "name": "stdout",
     "output_type": "stream",
     "text": [
      "https://www.hydrovu.com/public-api/v1/locations/4808483623665664/data/\n",
      "<urllib3.response.HTTPResponse object at 0x000002914911A2E0>\n"
     ]
    }
   ],
   "source": [
    "stationID = \"4808483623665664\"\n",
    "url = f\"https://www.hydrovu.com/public-api/v1/locations/{stationID}/data/\"\n",
    "print(url)\n",
    "\n",
    "clientName = 'kfinan'\n",
    "clientSecret = 'e1308e8a949342d890209288f80e7917'\n",
    "params = {\"client_name\": clientName, \n",
    "          \"client_secret\": clientSecret}\n",
    "r = requests.get(url, params)\n",
    "print(r.raw)"
   ]
  },
  {
   "cell_type": "code",
   "execution_count": 28,
   "metadata": {},
   "outputs": [
    {
     "data": {
      "text/plain": [
       "['__attrs__', '__bool__', '__class__', '__delattr__', '__dict__', '__dir__', '__doc__', '__enter__', '__eq__', '__exit__', '__format__', '__ge__', '__getattribute__', '__getstate__', '__gt__', '__hash__', '__init__', '__init_subclass__', '__iter__', '__le__', '__lt__', '__module__', '__ne__', '__new__', '__nonzero__', '__reduce__', '__reduce_ex__', '__repr__', '__setattr__', '__setstate__', '__sizeof__', '__str__', '__subclasshook__', '__weakref__', '_content', '_content_consumed', '_next', 'apparent_encoding', 'close', 'connection', 'content', 'cookies', 'elapsed', 'encoding', 'headers', 'history', 'is_permanent_redirect', 'is_redirect', 'iter_content', 'iter_lines', 'json', 'links', 'next', 'ok', 'raise_for_status', 'raw', 'reason', 'request', 'status_code', 'text', 'url']"
      ]
     },
     "execution_count": 28,
     "metadata": {},
     "output_type": "execute_result"
    }
   ],
   "source": [
    "r = requests.get(url, auth=(clientName, clientSecret))\n",
    "dir(r)"
   ]
  },
  {
   "cell_type": "markdown",
   "metadata": {},
   "source": [
    "## Try #2 "
   ]
  },
  {
   "cell_type": "code",
   "execution_count": 8,
   "metadata": {},
   "outputs": [],
   "source": [
    "import sys\n",
    "import requests\n",
    "import json\n",
    "import logging\n",
    "import time"
   ]
  },
  {
   "cell_type": "code",
   "execution_count": 21,
   "metadata": {},
   "outputs": [],
   "source": [
    "urlData = requests.get(f\"https://www.hydrovu.com/public-api/v1/locations/{stationID}/data?api-key={clientSecret}\")\n",
    "urlData"
   ]
  },
  {
   "cell_type": "markdown",
   "metadata": {},
   "source": [
    "## #3 "
   ]
  },
  {
   "cell_type": "code",
   "execution_count": 33,
   "metadata": {},
   "outputs": [
    {
     "name": "stdout",
     "output_type": "stream",
     "text": [
      "Request failed with status code: 401\n"
     ]
    }
   ],
   "source": [
    "# Set your OAuth 2.0 access token here\n",
    "access_token = clientSecret\n",
    "\n",
    "# API endpoint URL\n",
    "url = \"https://www.hydrovu.com/public-api/v1/locations/4808483623665664/data/\"\n",
    "\n",
    "# Set the Authorization header with the access token\n",
    "headers = {\n",
    "    \"Authorization\": f\"Bearer {access_token}\"\n",
    "}\n",
    "\n",
    "try:\n",
    "    # Send GET request to retrieve data from the API endpoint\n",
    "    response = requests.get(url, headers=headers)\n",
    "\n",
    "    # Check if the request was successful (status code 200)\n",
    "    if response.status_code == 200:\n",
    "        data = response.json()\n",
    "        # Process and use the retrieved data as needed\n",
    "        print(data)\n",
    "    else:\n",
    "        print(f\"Request failed with status code: {response.status_code}\")\n",
    "\n",
    "except requests.exceptions.RequestException as e:\n",
    "    print(f\"An error occurred: {e}\")"
   ]
  },
  {
   "cell_type": "code",
   "execution_count": 38,
   "metadata": {},
   "outputs": [
    {
     "data": {
      "text/plain": [
       "'<html>\\r\\n<head><title>502 Bad Gateway</title></head>\\r\\n<body bgcolor=\"white\">\\r\\n<center><h1>502 Bad Gateway</h1></center>\\r\\n<hr><center>nginx</center>\\r\\n</body>\\r\\n</html>\\r\\n'"
      ]
     },
     "execution_count": 38,
     "metadata": {},
     "output_type": "execute_result"
    }
   ],
   "source": [
    "auth_url = \"https://www.hydrovu.com/oauth/token\"\n",
    "auth_data = {\n",
    "    \"grant_type\": \"client_credentials\",\n",
    "    \"client_id\": clientName,\n",
    "    \"client_secret\": clientSecret}\n",
    "    \n",
    "response = requests.post(auth_url, data=auth_data)\n",
    "response.text"
   ]
  },
  {
   "cell_type": "code",
   "execution_count": null,
   "metadata": {},
   "outputs": [],
   "source": []
  }
 ],
 "metadata": {
  "kernelspec": {
   "display_name": "ArcGISPro",
   "language": "Python",
   "name": "python3"
  },
  "language_info": {
   "file_extension": ".py",
   "name": "python",
   "version": "3"
  },
  "toc": {
   "base_numbering": 1,
   "nav_menu": {},
   "number_sections": true,
   "sideBar": false,
   "skip_h1_title": false,
   "title_cell": "Table of Contents",
   "title_sidebar": "Contents",
   "toc_cell": false,
   "toc_position": {},
   "toc_section_display": true,
   "toc_window_display": false
  }
 },
 "nbformat": 4,
 "nbformat_minor": 2
}
