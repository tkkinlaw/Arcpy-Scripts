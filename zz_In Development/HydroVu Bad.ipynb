{
 "cells": [
  {
   "cell_type": "markdown",
   "metadata": {},
   "source": [
    "/public-api/v1/locations/list\n",
    "\n",
    "https://www.hydrovu.com/public-api/v1/locations/list\n",
    "\n",
    "/public-api/v1/locations/{id}/data"
   ]
  },
  {
   "cell_type": "code",
   "execution_count": null,
   "metadata": {},
   "outputs": [],
   "source": [
    "import requests"
   ]
  },
  {
   "cell_type": "code",
   "execution_count": null,
   "metadata": {},
   "outputs": [],
   "source": [
    "stationID = \"4808483623665664\"\n",
    "url = f\"https://www.hydrovu.com/public-api/v1/locations/{stationID}/data/\"\n",
    "print(url)\n",
    "\n",
    "clientName = 'Name'\n",
    "clientSecret = 'long characters'\n",
    "params = {\"client_name\": clientName, \n",
    "          \"client_secret\": clientSecret}\n",
    "r = requests.get(url, params)\n",
    "print(r.raw)"
   ]
  },
  {
   "cell_type": "code",
   "execution_count": null,
   "metadata": {},
   "outputs": [],
   "source": [
    "r = requests.get(url, auth=(clientName, clientSecret))\n",
    "dir(r)"
   ]
  },
  {
   "cell_type": "markdown",
   "metadata": {},
   "source": [
    "## Try #2 "
   ]
  },
  {
   "cell_type": "code",
   "execution_count": null,
   "metadata": {},
   "outputs": [],
   "source": [
    "import sys\n",
    "import requests\n",
    "import json\n",
    "import logging\n",
    "import time"
   ]
  },
  {
   "cell_type": "code",
   "execution_count": null,
   "metadata": {},
   "outputs": [],
   "source": [
    "urlData = requests.get(f\"https://www.hydrovu.com/public-api/v1/locations/{stationID}/data?api-key={clientSecret}\")\n",
    "urlData"
   ]
  },
  {
   "cell_type": "markdown",
   "metadata": {},
   "source": [
    "## #3 "
   ]
  },
  {
   "cell_type": "code",
   "execution_count": null,
   "metadata": {},
   "outputs": [],
   "source": [
    "# Set your OAuth 2.0 access token here\n",
    "access_token = clientSecret\n",
    "\n",
    "# API endpoint URL\n",
    "url = \"https://www.hydrovu.com/public-api/v1/locations/4808483623665664/data/\"\n",
    "\n",
    "# Set the Authorization header with the access token\n",
    "headers = {\n",
    "    \"Authorization\": f\"Bearer {access_token}\"\n",
    "}\n",
    "\n",
    "try:\n",
    "    # Send GET request to retrieve data from the API endpoint\n",
    "    response = requests.get(url, headers=headers)\n",
    "\n",
    "    # Check if the request was successful (status code 200)\n",
    "    if response.status_code == 200:\n",
    "        data = response.json()\n",
    "        # Process and use the retrieved data as needed\n",
    "        print(data)\n",
    "    else:\n",
    "        print(f\"Request failed with status code: {response.status_code}\")\n",
    "\n",
    "except requests.exceptions.RequestException as e:\n",
    "    print(f\"An error occurred: {e}\")"
   ]
  },
  {
   "cell_type": "code",
   "execution_count": null,
   "metadata": {},
   "outputs": [],
   "source": [
    "auth_url = \"https://www.hydrovu.com/oauth/token\"\n",
    "auth_data = {\n",
    "    \"grant_type\": \"client_credentials\",\n",
    "    \"client_id\": clientName,\n",
    "    \"client_secret\": clientSecret}\n",
    "    \n",
    "response = requests.post(auth_url, data=auth_data)\n",
    "response.text"
   ]
  },
  {
   "cell_type": "code",
   "execution_count": null,
   "metadata": {},
   "outputs": [],
   "source": []
  }
 ],
 "metadata": {
  "kernelspec": {
   "display_name": "ArcGISPro",
   "language": "Python",
   "name": "python3"
  },
  "language_info": {
   "file_extension": ".py",
   "name": "python",
   "version": "3"
  },
  "toc": {
   "base_numbering": 1,
   "nav_menu": {},
   "number_sections": true,
   "sideBar": false,
   "skip_h1_title": false,
   "title_cell": "Table of Contents",
   "title_sidebar": "Contents",
   "toc_cell": false,
   "toc_position": {},
   "toc_section_display": true,
   "toc_window_display": false
  }
 },
 "nbformat": 4,
 "nbformat_minor": 2
}
