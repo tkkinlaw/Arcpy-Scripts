{
 "cells": [
  {
   "cell_type": "markdown",
   "metadata": {},
   "source": [
    "## Introducing more fields"
   ]
  },
  {
   "cell_type": "markdown",
   "metadata": {},
   "source": [
    "This script uses the FieldMap and FieldMapping objects to add data from a table to a feature class.\n",
    "This scripts shows the basic functionality:\n",
    "- Creates a list of fields from the input and target datasets\n",
    "- Creates a field map for each pair of fields from these two courses. This script assumes that the paired fields are at the same index position (this will be accounted for later)\n",
    "- This script fromats a string to list the matching fields required for the match_fields parameter in the append tool"
   ]
  },
  {
   "cell_type": "code",
   "execution_count": 1,
   "metadata": {},
   "outputs": [],
   "source": [
    "import arcpy"
   ]
  },
  {
   "cell_type": "code",
   "execution_count": 2,
   "metadata": {},
   "outputs": [],
   "source": [
    "targetFC = r\"C:\\Demos\\PYTS\\SanDiego.gdb\\CrimeTest\"\n",
    "inputTable = r\"C:\\Demos\\PYTS\\SanDiego.gdb\\Crime_XY\""
   ]
  },
  {
   "cell_type": "code",
   "execution_count": 3,
   "metadata": {},
   "outputs": [],
   "source": [
    "# Get a list of input fields\n",
    "fieldNamesTarget = []\n",
    "for field in arcpy.Describe(targetFC).fields:\n",
    "    if field.type != \"OID\" and field.type != \"Geometry\": # Don't include the OID or Shape fields\n",
    "        fieldNamesTarget.append(field)\n",
    "\n",
    "fieldNamesInput = []\n",
    "for field in arcpy.Describe(inputTable).fields:\n",
    "    if \"OID\" not in field.name and field.type != \"OID\": # Don't include the OBJECTID or OID_ fields\n",
    "        fieldNamesInput.append(field)"
   ]
  },
  {
   "cell_type": "code",
   "execution_count": 4,
   "metadata": {},
   "outputs": [],
   "source": [
    "# Create the field map & field mappings objects\n",
    "fieldMaps = []\n",
    "fm0 = arcpy.FieldMap()\n",
    "fm1 = arcpy.FieldMap()\n",
    "fm2 = arcpy.FieldMap()\n",
    "fms = arcpy.FieldMappings()\n",
    "\n",
    "fm0.addInputField(targetFC, fieldNamesTarget[0].name)\n",
    "fm0.addInputField(inputTable, fieldNamesInput[0].name)\n",
    "\n",
    "fm1.addInputField(targetFC, fieldNamesTarget[1].name)\n",
    "fm1.addInputField(inputTable, fieldNamesInput[1].name)\n",
    "\n",
    "fm2.addInputField(targetFC, fieldNamesTarget[2].name)\n",
    "fm2.addInputField(inputTable, fieldNamesInput[2].name)\n",
    "\n",
    "fms.addFieldMap(fm0)\n",
    "fms.addFieldMap(fm1)\n",
    "fms.addFieldMap(fm2)"
   ]
  },
  {
   "cell_type": "code",
   "execution_count": 5,
   "metadata": {},
   "outputs": [
    {
     "name": "stdout",
     "output_type": "stream",
     "text": [
      "EventTimeDate start_date;XCoordinate X_WGS1984;YCoordinate Y_WGS1984\n"
     ]
    }
   ],
   "source": [
    "# Format a string: \"XCoordinate X_WGS1984;YCoordinate Y_WGS1984;EventTimeDate start_date\"\n",
    "# This code here prints the paired fields\n",
    "matchFields = \"\"\n",
    "for fm in fms.fieldMappings:\n",
    "    match = f\"{fm.getInputFieldName(0)} {fm.getInputFieldName(1)};\"\n",
    "    matchFields += match\n",
    "matchFields = matchFields[:-1]\n",
    "print(matchFields)"
   ]
  },
  {
   "cell_type": "code",
   "execution_count": 6,
   "metadata": {},
   "outputs": [
    {
     "data": {
      "text/html": [
       "<div class='gpresult'><h2>Messages</h2><div id='messages' data-messages='[\"Start Time: Tuesday, January 30, 2024 1:07:40 PM\",\"\",\"Succeeded at Tuesday, January 30, 2024 1:07:40 PM (Elapsed Time: 0.47 seconds)\"]' data-show='true'><div id = 'default' /></div></div>"
      ],
      "text/plain": [
       "<Result 'C:\\\\Demos\\\\PYTS\\\\SanDiego.gdb\\\\CrimeTest'>"
      ]
     },
     "execution_count": 6,
     "metadata": {},
     "output_type": "execute_result"
    }
   ],
   "source": [
    "arcpy.management.Append(\n",
    "    inputs=inputTable,\n",
    "    target=targetFC,\n",
    "    schema_type=\"NO_TEST\",\n",
    "    field_mapping=fms,\n",
    "    subtype=\"\",\n",
    "    expression=\"\",\n",
    "    match_fields=matchFields,\n",
    "    update_geometry=\"NOT_UPDATE_GEOMETRY\"\n",
    ")"
   ]
  },
  {
   "cell_type": "markdown",
   "metadata": {},
   "source": [
    "Opportunities for improvement are:\n",
    "- Programaticaly create FieldMap objects for n desired field pairings\n",
    "- Don't refer to fields based upon index positions in a list."
   ]
  },
  {
   "cell_type": "markdown",
   "metadata": {},
   "source": []
  }
 ],
 "metadata": {
  "kernelspec": {
   "display_name": "Python 3",
   "language": "python",
   "name": "python3"
  },
  "language_info": {
   "codemirror_mode": {
    "name": "ipython",
    "version": 3
   },
   "file_extension": ".py",
   "mimetype": "text/x-python",
   "name": "python",
   "nbconvert_exporter": "python",
   "pygments_lexer": "ipython3",
   "version": "3.9.18"
  }
 },
 "nbformat": 4,
 "nbformat_minor": 2
}
