{
 "cells": [
  {
   "cell_type": "code",
   "execution_count": 21,
   "metadata": {},
   "outputs": [
    {
     "name": "stdout",
     "output_type": "stream",
     "text": [
      "PERMIT_NO\n"
     ]
    }
   ],
   "source": [
    "gdb = r'C:\\Demos\\PYTS\\SanDiego.gdb'\n",
    "arcpy.env.workspace = gdb\n",
    "\n",
    "fieldsList = arcpy.ListFields('GasStations')\n",
    "print(fieldsList[3].name)"
   ]
  },
  {
   "cell_type": "code",
   "execution_count": 22,
   "metadata": {},
   "outputs": [
    {
     "name": "stdout",
     "output_type": "stream",
     "text": [
      "OBJECTID\n",
      "Shape\n",
      "NAME\n",
      "PERMIT_NO\n",
      "ADDRESS\n",
      "CITY\n",
      "ZIP_CODE\n",
      "PHONE\n",
      "CONTACT\n",
      "PUMPS\n",
      "CNG_DEV\n"
     ]
    }
   ],
   "source": [
    "for field in fieldsList:\n",
    "    print(field.name)"
   ]
  },
  {
   "cell_type": "code",
   "execution_count": null,
   "metadata": {},
   "outputs": [],
   "source": []
  }
 ],
 "metadata": {
  "kernelspec": {
   "display_name": "ArcGISPro",
   "language": "Python",
   "name": "python3"
  },
  "language_info": {
   "file_extension": ".py",
   "name": "python",
   "version": "3"
  }
 },
 "nbformat": 4,
 "nbformat_minor": 2
}
