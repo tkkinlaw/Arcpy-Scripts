{
 "cells": [
  {
   "cell_type": "markdown",
   "metadata": {},
   "source": [
    "Start by selecting an annotation in the map you want to \"copy\""
   ]
  },
  {
   "cell_type": "code",
   "execution_count": 4,
   "metadata": {},
   "outputs": [
    {
     "name": "stdout",
     "output_type": "stream",
     "text": [
      "['SHAPE', 'FeatureID', 'ZOrder', 'AnnotationClassID', 'Element', 'SymbolID', 'Status', 'TextString', 'FontName', 'FontStyle', 'FontSize', 'Underline', 'VerticalAlignment', 'HorizontalAlignment', 'XOffset', 'YOffset', 'Angle', 'FontLeading', 'WordSpacing', 'CharacterWidth', 'CharacterSpacing', 'FlipAngle', 'Override'] \n",
      "\n",
      "((6282710.269429512, 1839204.1188204214), 53, None, 0, <memory at 0x0000020BA7F61580>, 0, 0, 'HOTEL SOLAMAR', 'Corbel', 'Regular', 10.0, 0, 2, 0, 0.0, 0.0, 0.0, 0.0, 95.39999999999999, 100.0, 9.0, 90.0, 1028)\n",
      "22\n"
     ]
    }
   ],
   "source": [
    "annoLyr=\"MajorAttractionsAnno\"\n",
    "anno = r\"C:\\Demos\\PYTS\\SanDiego.gdb\\MajorAttractionsAnno\"\n",
    "\n",
    "fieldsList = arcpy.ListFields(\"MajorAttractionsAnno\")\n",
    "fieldNames = []\n",
    "for field in fieldsList:\n",
    "    fieldNames.append(field.name)\n",
    "fieldNames.remove(\"OBJECTID\")\n",
    "fieldNames.remove(\"SHAPE_Length\")\n",
    "fieldNames.remove(\"SHAPE_Area\")\n",
    "print(fieldNames, \"\\n\")\n",
    "\n",
    "sCur = arcpy.da.SearchCursor(anno, fieldNames)\n",
    "countRows = 0\n",
    "for an in sCur:\n",
    "    countRows += 1\n",
    "print(an)\n",
    "print(countRows)\n",
    "del sCur"
   ]
  },
  {
   "cell_type": "code",
   "execution_count": 5,
   "metadata": {},
   "outputs": [
    {
     "data": {
      "text/html": [
       "<div class='gpresult'><h2>Messages</h2><div id='messages' data-messages='[\"Start Time: Monday, May 22, 2023 3:08:09 PM\",\"Succeeded at Monday, May 22, 2023 3:08:09 PM (Elapsed Time: 0.49 seconds)\"]' data-show='true'><div id = 'default' /></div></div>"
      ],
      "text/plain": [
       "<Result 'MajorAttractionsAnno'>"
      ]
     },
     "execution_count": 5,
     "metadata": {},
     "output_type": "execute_result"
    }
   ],
   "source": [
    "arcpy.env.addOutputsToMap = False\n",
    "anno = arcpy.management.CopyFeatures(\"MajorAttractionsAnno\", 'Copy')\n",
    "arcpy.management.Append(anno, annoLyr)"
   ]
  },
  {
   "cell_type": "code",
   "execution_count": 6,
   "metadata": {},
   "outputs": [
    {
     "name": "stdout",
     "output_type": "stream",
     "text": [
      "[(6282284.420051545, 1839446.444615297), 36, None, 0, <memory at 0x0000020B9A8BB700>, 0, 0, 'MARRIOTT\\r\\nRENAISSANCE\\r\\nHOTEL', 'Corbel', 'Regular', 10.0, 0, 2, 0, 0.0, 0.0, 0.0, 0.0, 100.0, 100.0, 9.0, 90.0, 4]\n"
     ]
    }
   ],
   "source": [
    "x = 6283348.06\n",
    "y = 1839150.16\n",
    "coords = arcpy.PointGeometry(arcpy.Point(x,y))\n",
    "uCur = arcpy.da.UpdateCursor(annoLyr, fieldNames)\n",
    "i=0\n",
    "for row in uCur:\n",
    "    if i == countRows-1:\n",
    "        row[0]=coords\n",
    "        row[1]= row[1]+1\n",
    "        row[6]=0\n",
    "        row[7]=\"Best Tacos in San Diego\"\n",
    "        uCur.updateRow(row)\n",
    "        print(row)\n",
    "    i+=1\n",
    "print(row)\n",
    "del uCur"
   ]
  },
  {
   "cell_type": "code",
   "execution_count": 21,
   "metadata": {},
   "outputs": [
    {
     "name": "stdout",
     "output_type": "stream",
     "text": [
      "Done\n"
     ]
    }
   ],
   "source": [
    "x = 6283348.06\n",
    "y = 1839150.16\n",
    "coords = [x,y]\n",
    "\n",
    "row[0]=coords\n",
    "row[1]= row[1]+1\n",
    "row[6]=0\n",
    "row[7]=\"Best Tacos in San Diego\"\n",
    "iCur = arcpy.da.InsertCursor(anno, fieldNames)\n",
    "iCur.insertRow(row)\n",
    "del iCur\n",
    "print(\"Done\")"
   ]
  },
  {
   "cell_type": "code",
   "execution_count": 11,
   "metadata": {},
   "outputs": [
    {
     "name": "stdout",
     "output_type": "stream",
     "text": [
      "(<memory at 0x0000020B9A8BB580>,)\n"
     ]
    }
   ],
   "source": [
    "scur = arcpy.da.SearchCursor(anno, \"Element\")\n",
    "for r in scur:\n",
    "    print(r)"
   ]
  },
  {
   "cell_type": "code",
   "execution_count": 16,
   "metadata": {},
   "outputs": [
    {
     "data": {
      "text/plain": [
       "['__class__', '__delattr__', '__delitem__', '__dir__', '__doc__', '__enter__', '__eq__', '__exit__', '__format__', '__ge__', '__getattribute__', '__getitem__', '__gt__', '__hash__', '__init__', '__init_subclass__', '__le__', '__len__', '__lt__', '__ne__', '__new__', '__reduce__', '__reduce_ex__', '__repr__', '__setattr__', '__setitem__', '__sizeof__', '__str__', '__subclasshook__', 'c_contiguous', 'cast', 'contiguous', 'f_contiguous', 'format', 'hex', 'itemsize', 'nbytes', 'ndim', 'obj', 'readonly', 'release', 'shape', 'strides', 'suboffsets', 'tobytes', 'tolist', 'toreadonly']"
      ]
     },
     "execution_count": 16,
     "metadata": {},
     "output_type": "execute_result"
    }
   ],
   "source": [
    "dir(r[0])"
   ]
  },
  {
   "cell_type": "code",
   "execution_count": 19,
   "metadata": {},
   "outputs": [
    {
     "ename": "AttributeError",
     "evalue": "'tuple' object has no attribute 'tobytes'",
     "output_type": "error",
     "traceback": [
      "\u001b[0;31m---------------------------------------------------------------------------\u001b[0m\n\u001b[0;31mAttributeError\u001b[0m                            Traceback (most recent call last)",
      "In  \u001b[0;34m[19]\u001b[0m:\nLine \u001b[0;34m1\u001b[0m:     r.tobytes()\n",
      "\u001b[0;31mAttributeError\u001b[0m: 'tuple' object has no attribute 'tobytes'\n\u001b[0;31m---------------------------------------------------------------------------\u001b[0m"
     ]
    }
   ],
   "source": [
    "r.tobytes()"
   ]
  },
  {
   "cell_type": "code",
   "execution_count": null,
   "metadata": {},
   "outputs": [],
   "source": []
  }
 ],
 "metadata": {
  "kernelspec": {
   "display_name": "ArcGISPro",
   "language": "Python",
   "name": "python3"
  },
  "language_info": {
   "file_extension": ".py",
   "name": "python",
   "version": "3"
  }
 },
 "nbformat": 4,
 "nbformat_minor": 2
}
