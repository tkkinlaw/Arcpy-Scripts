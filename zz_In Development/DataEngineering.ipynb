{
 "cells": [
  {
   "cell_type": "markdown",
   "metadata": {},
   "source": [
    "# Data Engineering"
   ]
  },
  {
   "cell_type": "markdown",
   "metadata": {},
   "source": [
    "## Access data from a NOAA web service"
   ]
  },
  {
   "cell_type": "code",
   "execution_count": 1,
   "metadata": {},
   "outputs": [],
   "source": [
    "%reset -f\n",
    "import requests\n",
    "import json\n",
    "import pandas as pd\n",
    "import matplotlib.pyplot as plt"
   ]
  },
  {
   "cell_type": "markdown",
   "metadata": {},
   "source": [
    "Retrieve monthly summaries of precipitation totals (mm)."
   ]
  },
  {
   "cell_type": "code",
   "execution_count": 2,
   "metadata": {},
   "outputs": [],
   "source": [
    "req = requests.get(\"https://www.ncdc.noaa.gov/cdo-web/api/v2/data?datasetid=GSOM&datatypeid=PRCP&limit=100&stationid=GHCND:USC00387395,GHCND:USC00310438,GHCND:US1SCYR0023,GHCND:US1NCRW0016,GHCND:US1SCYR0047,GHCND:US1SCLN0010,GHCND:US1NCGS0037,GHCND:US1NCMK0095,GHCND:US1NCMK0059,GHCND:USC00314996,GHCND:USC00316289,GHCND:USC00311695,GHCND:USC00389625,GHCND:US1NCGS0038,GHCND:US1NCUN0001,GHCND:US1NCRW0008,GHCND:USC00381462,GHCND:US1NCUN0014,GHCND:US1SCYR0045,GHCND:US1NCUN0021,GHCND:US1NCGS0024,GHCND:US1NCUN0034,GHCND:US1NCUN0017,GHCND:US1SCYR0061,GHCND:US1NCCB0010,GHCND:USW00053872,GHCND:US1SCYR0039,GHCND:US1SCYR0052,GHCND:US1NCMK0026,GHCND:US1NCCB0011,GHCND:US1SCYR0029,GHCND:US1SCLN0015,GHCND:USC00315424,GHCND:USW00053871,GHCND:US1NCRW0002,GHCND:US1SCYR0003,GHCND:USC00315945,GHCND:US1SCYR0004,GHCND:US1SCYR0006,GHCND:US1NCMK0017,GHCND:US1NCMK0060,GHCND:US1NCUN0028,GHCND:US1SCYR0009,GHCND:US1NCMK0039,GHCND:US1NCMK0099,GHCND:US1NCCB0013,GHCND:US1NCCT0037,GHCND:US1SCYR0040,GHCND:US1NCGS0053,GHCND:US1NCMK0070,GHCND:US1SCYR0010,GHCND:US1NCMK0053,GHCND:US1NCMK0087,GHCND:USC00314328,GHCND:USC00315771,GHCND:US1SCYR0077,GHCND:US1SCYR0063,GHCND:US1NCGS0022,GHCND:US1SCYR0013,GHCND:US1SCYR0078,GHCND:US1NCMK0029,GHCND:US1SCYR0060,GHCND:US1SCYR0007,GHCND:US1NCCT0015,GHCND:US1SCYR0068,GHCND:US1SCYR0030,GHCND:US1NCCB0001,GHCND:US1NCCB0008,GHCND:US1NCMK0050,GHCND:US1NCMK0012,GHCND:US1SCYR0074,GHCND:US1NCMK0010,GHCND:US1NCGS0011,GHCND:US1NCLN0012,GHCND:US1NCGS0028,GHCND:US1NCCT0006,GHCND:US1NCGS0008,GHCND:US1NCGS0026,GHCND:US1NCMK0052,GHCND:US1NCGS0021,GHCND:US1NCGS0006,GHCND:US1NCMK0015,GHCND:US1NCIR0027,GHCND:US1SCYR0002,GHCND:US1NCMK0075,GHCND:US1SCYR0026,GHCND:US1NCGS0058,GHCND:US1SCYR0028,GHCND:US1NCSN0002,GHCND:US1NCLN0001,GHCND:US1NCMK0056,GHCND:US1NCMK0062,GHCND:USW00053870,GHCND:US1NCCB0023,GHCND:US1NCMK0071,GHCND:US1SCYR0058,GHCND:USC00314997,GHCND:US1NCMK0067,GHCND:US1NCCB0007,GHCND:US1SCYR0038,GHCND:US1NCMK0100,GHCND:US1NCMK0009,GHCND:US1NCCT0042,GHCND:US1NCCT0032,GHCND:US1NCMK0044,GHCND:US1NCGS0007,GHCND:USC00389350,GHCND:US1NCUN0008,GHCND:US1NCSN0013,GHCND:US1SCYR0073,GHCND:US1NCMK0005,GHCND:US1NCUN0010,GHCND:US1NCMK0037,GHCND:US1NCUN0027,GHCND:US1NCUN0003,GHCND:US1NCMK0098,GHCND:US1NCMK0024,GHCND:US1NCMK0069,GHCND:US1NCGS0060,GHCND:US1NCSN0011,GHCND:US1NCGS0044,GHCND:US1NCGS0009,GHCND:US1NCMK0092,GHCND:USW00013881,GHCND:US1NCSN0006,GHCND:US1NCGS0030,GHCND:US1SCYR0021,GHCND:US1NCGS0001,GHCND:US1NCIR0021,GHCND:US1NCMK0088,GHCND:US1NCMK0016,GHCND:US1NCUN0020,GHCND:USC00311975,GHCND:US1NCGS0036,GHCND:US1NCGS0002,GHCND:US1NCAN0008,GHCND:US1NCUN0026,GHCND:US1NCCB0024,GHCND:US1SCYR0011,GHCND:US1SCYR0065,GHCND:USC00383216,GHCND:USC00316275,GHCND:US1NCUN0009,GHCND:US1NCMK0002,GHCND:US1SCYR0071,GHCND:US1NCSN0005,GHCND:US1NCGS0049,GHCND:US1SCYR0062,GHCND:US1NCCB0006,GHCND:USC00310090,GHCND:US1SCCS0001,GHCND:US1NCGS0033,GHCND:US1NCGS0005,GHCND:US1NCUN0002,GHCND:US1NCLN0007,GHCND:USC00315814,GHCND:US1SCLN0002,GHCND:US1NCCB0020,GHCND:US1NCLN0004,GHCND:US1NCGS0054,GHCND:US1NCUN0022,GHCND:US1SCYR0024,GHCND:US1NCMK0077,GHCND:US1SCYR0051,GHCND:US1NCMK0078,GHCND:US1SCYR0072,GHCND:US1NCMK0068,GHCND:US1NCMK0097,GHCND:US1NCMK0094,GHCND:US1NCMK0019,GHCND:US1SCYR0044,GHCND:US1SCYR0019,GHCND:US1SCYR0069,GHCND:US1NCCT0038,GHCND:US1NCMK0013,GHCND:US1SCYR0043,GHCND:US1NCCB0026,GHCND:US1NCIR0010,GHCND:US1NCIR0001,GHCND:US1NCSN0010,GHCND:US1NCMK0034,GHCND:US1SCLN0005,GHCND:US1NCMK0064,GHCND:US1SCYR0064,GHCND:US1NCGS0052,GHCND:USC00387390,GHCND:US1SCYR0016,GHCND:US1NCSN0014,GHCND:US1SCYR0055,GHCND:US1NCCB0002,GHCND:US1NCCB0021,GHCND:USC00313356,GHCND:US1NCLN0002,GHCND:USR0000NMTI,GHCND:USC00314679,GHCND:US1NCCT0048,GHCND:US1NCRW0020,GHCND:US1NCRW0010,GHCND:US1NCCB0032,GHCND:US1SCYR0031,GHCND:USC00315913,GHCND:US1NCRW0004,GHCND:US1NCGS0029,GHCND:US1NCCB0015,GHCND:US1SCYR0076,GHCND:US1NCLN0008&startdate=2023-01-01&enddate=2023-01-31&format=json\", headers={'token':\"VuErdRKUcmflRtQQoDtKcetOXataWGfD\"})\n",
    "json_object = json.dumps(req.json()['results'], indent=5)\n",
    "df = pd.read_json(json_object).drop(['attributes'],axis=1)"
   ]
  },
  {
   "cell_type": "markdown",
   "metadata": {},
   "source": [
    "Print how many weather stations you have pulled data from, and the first few records"
   ]
  },
  {
   "cell_type": "code",
   "execution_count": 3,
   "metadata": {
    "scrolled": true
   },
   "outputs": [
    {
     "name": "stdout",
     "output_type": "stream",
     "text": [
      "You are working with 70 weather stations\n"
     ]
    },
    {
     "data": {
      "text/html": [
       "<div>\n",
       "<style scoped>\n",
       "    .dataframe tbody tr th:only-of-type {\n",
       "        vertical-align: middle;\n",
       "    }\n",
       "\n",
       "    .dataframe tbody tr th {\n",
       "        vertical-align: top;\n",
       "    }\n",
       "\n",
       "    .dataframe thead th {\n",
       "        text-align: right;\n",
       "    }\n",
       "</style>\n",
       "<table border=\"1\" class=\"dataframe\">\n",
       "  <thead>\n",
       "    <tr style=\"text-align: right;\">\n",
       "      <th></th>\n",
       "      <th>date</th>\n",
       "      <th>datatype</th>\n",
       "      <th>station</th>\n",
       "      <th>value</th>\n",
       "    </tr>\n",
       "  </thead>\n",
       "  <tbody>\n",
       "    <tr>\n",
       "      <th>0</th>\n",
       "      <td>2023-01-01</td>\n",
       "      <td>PRCP</td>\n",
       "      <td>GHCND:US1NCAN0008</td>\n",
       "      <td>105.5</td>\n",
       "    </tr>\n",
       "    <tr>\n",
       "      <th>1</th>\n",
       "      <td>2023-01-01</td>\n",
       "      <td>PRCP</td>\n",
       "      <td>GHCND:US1NCCB0021</td>\n",
       "      <td>133.3</td>\n",
       "    </tr>\n",
       "    <tr>\n",
       "      <th>2</th>\n",
       "      <td>2023-01-01</td>\n",
       "      <td>PRCP</td>\n",
       "      <td>GHCND:US1NCCB0023</td>\n",
       "      <td>134.8</td>\n",
       "    </tr>\n",
       "    <tr>\n",
       "      <th>3</th>\n",
       "      <td>2023-01-01</td>\n",
       "      <td>PRCP</td>\n",
       "      <td>GHCND:US1NCCB0026</td>\n",
       "      <td>130.7</td>\n",
       "    </tr>\n",
       "    <tr>\n",
       "      <th>4</th>\n",
       "      <td>2023-01-01</td>\n",
       "      <td>PRCP</td>\n",
       "      <td>GHCND:US1NCCB0032</td>\n",
       "      <td>134.7</td>\n",
       "    </tr>\n",
       "  </tbody>\n",
       "</table>\n",
       "</div>"
      ],
      "text/plain": [
       "        date datatype            station  value\n",
       "0 2023-01-01     PRCP  GHCND:US1NCAN0008  105.5\n",
       "1 2023-01-01     PRCP  GHCND:US1NCCB0021  133.3\n",
       "2 2023-01-01     PRCP  GHCND:US1NCCB0023  134.8\n",
       "3 2023-01-01     PRCP  GHCND:US1NCCB0026  130.7\n",
       "4 2023-01-01     PRCP  GHCND:US1NCCB0032  134.7"
      ]
     },
     "execution_count": 3,
     "metadata": {},
     "output_type": "execute_result"
    }
   ],
   "source": [
    "print(f\"You are working with {len(df['station'].unique())} weather stations\")\n",
    "df.head(5)"
   ]
  },
  {
   "cell_type": "markdown",
   "metadata": {},
   "source": [
    "## Explore the data"
   ]
  },
  {
   "cell_type": "markdown",
   "metadata": {},
   "source": [
    "### Explore the attributes of the data"
   ]
  },
  {
   "cell_type": "code",
   "execution_count": 4,
   "metadata": {},
   "outputs": [
    {
     "name": "stdout",
     "output_type": "stream",
     "text": [
      "<class 'pandas.core.frame.DataFrame'>\n",
      "RangeIndex: 70 entries, 0 to 69\n",
      "Data columns (total 4 columns):\n",
      " #   Column    Non-Null Count  Dtype         \n",
      "---  ------    --------------  -----         \n",
      " 0   date      70 non-null     datetime64[ns]\n",
      " 1   datatype  70 non-null     object        \n",
      " 2   station   70 non-null     object        \n",
      " 3   value     70 non-null     float64       \n",
      "dtypes: datetime64[ns](1), float64(1), object(2)\n",
      "memory usage: 2.3+ KB\n"
     ]
    }
   ],
   "source": [
    "df.info()"
   ]
  },
  {
   "cell_type": "markdown",
   "metadata": {
    "heading_collapsed": true
   },
   "source": [
    "### Describe the data using statistics"
   ]
  },
  {
   "cell_type": "markdown",
   "metadata": {
    "hidden": true
   },
   "source": [
    "Describe the whole dataset using descriptive statistics"
   ]
  },
  {
   "cell_type": "code",
   "execution_count": 5,
   "metadata": {
    "hidden": true
   },
   "outputs": [
    {
     "data": {
      "text/plain": [
       "count     70\n",
       "mean     147\n",
       "std       17\n",
       "min       96\n",
       "25%      135\n",
       "50%      147\n",
       "75%      156\n",
       "max      189\n",
       "Name: value, dtype: int32"
      ]
     },
     "execution_count": 5,
     "metadata": {},
     "output_type": "execute_result"
    }
   ],
   "source": [
    "df['value'].describe().astype(int)"
   ]
  },
  {
   "cell_type": "markdown",
   "metadata": {
    "hidden": true
   },
   "source": [
    "Now generate descriptive statistics for each weather station"
   ]
  },
  {
   "cell_type": "code",
   "execution_count": 6,
   "metadata": {
    "hidden": true
   },
   "outputs": [
    {
     "data": {
      "text/html": [
       "<div>\n",
       "<style scoped>\n",
       "    .dataframe tbody tr th:only-of-type {\n",
       "        vertical-align: middle;\n",
       "    }\n",
       "\n",
       "    .dataframe tbody tr th {\n",
       "        vertical-align: top;\n",
       "    }\n",
       "\n",
       "    .dataframe thead th {\n",
       "        text-align: right;\n",
       "    }\n",
       "</style>\n",
       "<table border=\"1\" class=\"dataframe\">\n",
       "  <thead>\n",
       "    <tr style=\"text-align: right;\">\n",
       "      <th></th>\n",
       "      <th>value</th>\n",
       "    </tr>\n",
       "    <tr>\n",
       "      <th>station</th>\n",
       "      <th></th>\n",
       "    </tr>\n",
       "  </thead>\n",
       "  <tbody>\n",
       "    <tr>\n",
       "      <th>GHCND:US1NCAN0008</th>\n",
       "      <td>105.5</td>\n",
       "    </tr>\n",
       "    <tr>\n",
       "      <th>GHCND:US1NCCB0021</th>\n",
       "      <td>133.3</td>\n",
       "    </tr>\n",
       "    <tr>\n",
       "      <th>GHCND:US1NCCB0023</th>\n",
       "      <td>134.8</td>\n",
       "    </tr>\n",
       "    <tr>\n",
       "      <th>GHCND:US1NCCB0026</th>\n",
       "      <td>130.7</td>\n",
       "    </tr>\n",
       "    <tr>\n",
       "      <th>GHCND:US1NCCB0032</th>\n",
       "      <td>134.7</td>\n",
       "    </tr>\n",
       "    <tr>\n",
       "      <th>...</th>\n",
       "      <td>...</td>\n",
       "    </tr>\n",
       "    <tr>\n",
       "      <th>GHCND:USC00389625</th>\n",
       "      <td>141.0</td>\n",
       "    </tr>\n",
       "    <tr>\n",
       "      <th>GHCND:USW00013881</th>\n",
       "      <td>144.0</td>\n",
       "    </tr>\n",
       "    <tr>\n",
       "      <th>GHCND:USW00053870</th>\n",
       "      <td>152.6</td>\n",
       "    </tr>\n",
       "    <tr>\n",
       "      <th>GHCND:USW00053871</th>\n",
       "      <td>138.0</td>\n",
       "    </tr>\n",
       "    <tr>\n",
       "      <th>GHCND:USW00053872</th>\n",
       "      <td>120.6</td>\n",
       "    </tr>\n",
       "  </tbody>\n",
       "</table>\n",
       "<p>70 rows × 1 columns</p>\n",
       "</div>"
      ],
      "text/plain": [
       "                   value\n",
       "station                 \n",
       "GHCND:US1NCAN0008  105.5\n",
       "GHCND:US1NCCB0021  133.3\n",
       "GHCND:US1NCCB0023  134.8\n",
       "GHCND:US1NCCB0026  130.7\n",
       "GHCND:US1NCCB0032  134.7\n",
       "...                  ...\n",
       "GHCND:USC00389625  141.0\n",
       "GHCND:USW00013881  144.0\n",
       "GHCND:USW00053870  152.6\n",
       "GHCND:USW00053871  138.0\n",
       "GHCND:USW00053872  120.6\n",
       "\n",
       "[70 rows x 1 columns]"
      ]
     },
     "execution_count": 6,
     "metadata": {},
     "output_type": "execute_result"
    }
   ],
   "source": [
    "df.groupby('station').agg({'value':'sum'})"
   ]
  },
  {
   "cell_type": "markdown",
   "metadata": {
    "hidden": true
   },
   "source": [
    "Probably delete. This code extracts a subset of stations in the charlotte area."
   ]
  },
  {
   "cell_type": "code",
   "execution_count": 24,
   "metadata": {
    "hidden": true
   },
   "outputs": [
    {
     "name": "stdout",
     "output_type": "stream",
     "text": [
      "206\n"
     ]
    }
   ],
   "source": [
    "stationList = [\"GHCND:USC00387395\",\"GHCND:USC00310438\",\"GHCND:US1SCYR0023\",\"GHCND:US1NCRW0016\",\"GHCND:US1SCYR0047\",\"GHCND:US1SCLN0010\",\"GHCND:US1NCGS0037\",\"GHCND:US1NCMK0095\",\"GHCND:US1NCMK0059\",\"GHCND:USC00314996\",\"GHCND:USC00316289\",\"GHCND:USC00311695\",\"GHCND:USC00389625\",\"GHCND:US1NCGS0038\",\"GHCND:US1NCUN0001\",\"GHCND:US1NCRW0008\",\"GHCND:USC00381462\",\"GHCND:US1NCUN0014\",\"GHCND:US1SCYR0045\",\"GHCND:US1NCUN0021\",\"GHCND:US1NCGS0024\",\"GHCND:US1NCUN0034\",\"GHCND:US1NCUN0017\",\"GHCND:US1SCYR0061\",\"GHCND:US1NCCB0010\",\"GHCND:USW00053872\",\"GHCND:US1SCYR0039\",\"GHCND:US1SCYR0052\",\"GHCND:US1NCMK0026\",\"GHCND:US1NCCB0011\",\"GHCND:US1SCYR0029\",\"GHCND:US1SCLN0015\",\"GHCND:USC00315424\",\"GHCND:USW00053871\",\"GHCND:US1NCRW0002\",\"GHCND:US1SCYR0003\",\"GHCND:USC00315945\",\"GHCND:US1SCYR0004\",\"GHCND:US1SCYR0006\",\"GHCND:US1NCMK0017\",\"GHCND:US1NCMK0060\",\"GHCND:US1NCUN0028\",\"GHCND:US1SCYR0009\",\"GHCND:US1NCMK0039\",\"GHCND:US1NCMK0099\",\"GHCND:US1NCCB0013\",\"GHCND:US1NCCT0037\",\"GHCND:US1SCYR0040\",\"GHCND:US1NCGS0053\",\"GHCND:US1NCMK0070\",\"GHCND:US1SCYR0010\",\"GHCND:US1NCMK0053\",\"GHCND:US1NCMK0087\",\"GHCND:USC00314328\",\"GHCND:USC00315771\",\"GHCND:US1SCYR0077\",\"GHCND:US1SCYR0063\",\"GHCND:US1NCGS0022\",\"GHCND:US1SCYR0013\",\"GHCND:US1SCYR0078\",\"GHCND:US1NCMK0029\",\"GHCND:US1SCYR0060\",\"GHCND:US1SCYR0007\",\"GHCND:US1NCCT0015\",\"GHCND:US1SCYR0068\",\"GHCND:US1SCYR0030\",\"GHCND:US1NCCB0001\",\"GHCND:US1NCCB0008\",\"GHCND:US1NCMK0050\",\"GHCND:US1NCMK0012\",\"GHCND:US1SCYR0074\",\"GHCND:US1NCMK0010\",\"GHCND:US1NCGS0011\",\"GHCND:US1NCLN0012\",\"GHCND:US1NCGS0028\",\"GHCND:US1NCCT0006\",\"GHCND:US1NCGS0008\",\"GHCND:US1NCGS0026\",\"GHCND:US1NCMK0052\",\"GHCND:US1NCGS0021\",\"GHCND:US1NCGS0006\",\"GHCND:US1NCMK0015\",\"GHCND:US1NCIR0027\",\"GHCND:US1SCYR0002\",\"GHCND:US1NCMK0075\",\"GHCND:US1SCYR0026\",\"GHCND:US1NCGS0058\",\"GHCND:US1SCYR0028\",\"GHCND:US1NCSN0002\",\"GHCND:US1NCLN0001\",\"GHCND:US1NCMK0056\",\"GHCND:US1NCMK0062\",\"GHCND:USW00053870\",\"GHCND:US1NCCB0023\",\"GHCND:US1NCMK0071\",\"GHCND:US1SCYR0058\",\"GHCND:USC00314997\",\"GHCND:US1NCMK0067\",\"GHCND:US1NCCB0007\",\"GHCND:US1SCYR0038\",\"GHCND:US1NCMK0100\",\"GHCND:US1NCMK0009\",\"GHCND:US1NCCT0042\",\"GHCND:US1NCCT0032\",\"GHCND:US1NCMK0044\",\"GHCND:US1NCGS0007\",\"GHCND:USC00389350\",\"GHCND:US1NCUN0008\",\"GHCND:US1NCSN0013\",\"GHCND:US1SCYR0073\",\"GHCND:US1NCMK0005\",\"GHCND:US1NCUN0010\",\"GHCND:US1NCMK0037\",\"GHCND:US1NCUN0027\",\"GHCND:US1NCUN0003\",\"GHCND:US1NCMK0098\",\"GHCND:US1NCMK0024\",\"GHCND:US1NCMK0069\",\"GHCND:US1NCGS0060\",\"GHCND:US1NCSN0011\",\"GHCND:US1NCGS0044\",\"GHCND:US1NCGS0009\",\"GHCND:US1NCMK0092\",\"GHCND:USW00013881\",\"GHCND:US1NCSN0006\",\"GHCND:US1NCGS0030\",\"GHCND:US1SCYR0021\",\"GHCND:US1NCGS0001\",\"GHCND:US1NCIR0021\",\"GHCND:US1NCMK0088\",\"GHCND:US1NCMK0016\",\"GHCND:US1NCUN0020\",\"GHCND:USC00311975\",\"GHCND:US1NCGS0036\",\"GHCND:US1NCGS0002\",\"GHCND:US1NCAN0008\",\"GHCND:US1NCUN0026\",\"GHCND:US1NCCB0024\",\"GHCND:US1SCYR0011\",\"GHCND:US1SCYR0065\",\"GHCND:USC00383216\",\"GHCND:USC00316275\",\"GHCND:US1NCUN0009\",\"GHCND:US1NCMK0002\",\"GHCND:US1SCYR0071\",\"GHCND:US1NCSN0005\",\"GHCND:US1NCGS0049\",\"GHCND:US1SCYR0062\",\"GHCND:US1NCCB0006\",\"GHCND:USC00310090\",\"GHCND:US1SCCS0001\",\"GHCND:US1NCGS0033\",\"GHCND:US1NCGS0005\",\"GHCND:US1NCUN0002\",\"GHCND:US1NCLN0007\",\"GHCND:USC00315814\",\"GHCND:US1SCLN0002\",\"GHCND:US1NCCB0020\",\"GHCND:US1NCLN0004\",\"GHCND:US1NCGS0054\",\"GHCND:US1NCUN0022\",\"GHCND:US1SCYR0024\",\"GHCND:US1NCMK0077\",\"GHCND:US1SCYR0051\",\"GHCND:US1NCMK0078\",\"GHCND:US1SCYR0072\",\"GHCND:US1NCMK0068\",\"GHCND:US1NCMK0097\",\"GHCND:US1NCMK0094\",\"GHCND:US1NCMK0019\",\"GHCND:US1SCYR0044\",\"GHCND:US1SCYR0019\",\"GHCND:US1SCYR0069\",\"GHCND:US1NCCT0038\",\"GHCND:US1NCMK0013\",\"GHCND:US1SCYR0043\",\"GHCND:US1NCCB0026\",\"GHCND:US1NCIR0010\",\"GHCND:US1NCIR0001\",\"GHCND:US1NCSN0010\",\"GHCND:US1NCMK0034\",\"GHCND:US1SCLN0005\",\"GHCND:US1NCMK0064\",\"GHCND:US1SCYR0064\",\"GHCND:US1NCGS0052\",\"GHCND:USC00387390\",\"GHCND:US1SCYR0016\",\"GHCND:US1NCSN0014\",\"GHCND:US1SCYR0055\",\"GHCND:US1NCCB0002\",\"GHCND:US1NCCB0021\",\"GHCND:USC00313356\",\"GHCND:US1NCLN0002\",\"GHCND:USR0000NMTI\",\"GHCND:USC00314679\",\"GHCND:US1NCCT0048\",\"GHCND:US1NCRW0020\",\"GHCND:US1NCRW0010\",\"GHCND:US1NCCB0032\",\"GHCND:US1SCYR0031\",\"GHCND:USC00315913\",\"GHCND:US1NCRW0004\",\"GHCND:US1NCGS0029\",\"GHCND:US1NCCB0015\",\"GHCND:US1SCYR0076\",\"GHCND:US1NCLN0008\"]\n",
    "print(len(stationList))"
   ]
  },
  {
   "cell_type": "code",
   "execution_count": 25,
   "metadata": {
    "hidden": true
   },
   "outputs": [
    {
     "name": "stdout",
     "output_type": "stream",
     "text": [
      "All done. 7375 stations deleted\n"
     ]
    }
   ],
   "source": [
    "i=0\n",
    "uCur = arcpy.da.UpdateCursor(r\"C:\\Demos\\UC2023\\PythonAutomation\\PythonAutomation.gdb\\GHCNDStations\", \"STATION_ID\")\n",
    "for row in uCur:\n",
    "    stationFromCursor = row[0]\n",
    "    if stationFromCursor not in df['station'].unique():\n",
    "        i+=1\n",
    "        uCur.deleteRow()\n",
    "    else:\n",
    "        continue\n",
    "print(f\"All done. {i} stations deleted\")\n",
    "del uCur"
   ]
  },
  {
   "cell_type": "markdown",
   "metadata": {},
   "source": [
    "### Transfer attributes from NOAA source to feature class"
   ]
  },
  {
   "cell_type": "code",
   "execution_count": null,
   "metadata": {},
   "outputs": [],
   "source": []
  }
 ],
 "metadata": {
  "kernelspec": {
   "display_name": "ArcGISPro",
   "language": "Python",
   "name": "python3"
  },
  "language_info": {
   "file_extension": ".py",
   "name": "python",
   "version": "3"
  }
 },
 "nbformat": 4,
 "nbformat_minor": 2
}
