{
 "cells": [
  {
   "cell_type": "markdown",
   "metadata": {},
   "source": [
    "# Power Outage Service Areas\n",
    "## Set environments"
   ]
  },
  {
   "cell_type": "code",
   "execution_count": null,
   "metadata": {},
   "outputs": [],
   "source": [
    "arcpy.env.overwriteOutput = True\n",
    "print(\"Environments set.\")"
   ]
  },
  {
   "cell_type": "markdown",
   "metadata": {},
   "source": [
    "## Assign variables"
   ]
  },
  {
   "cell_type": "code",
   "execution_count": null,
   "metadata": {},
   "outputs": [],
   "source": [
    "outageReports = \"OutageReports1\"\n",
    "outageArea = \"CurrentAffectedArea\"\n",
    "serviceAreas = \"ServiceAreas\"\n",
    "print(\"Variables are set.\")"
   ]
  },
  {
   "cell_type": "markdown",
   "metadata": {},
   "source": [
    "## Create power outage area"
   ]
  },
  {
   "cell_type": "code",
   "execution_count": null,
   "metadata": {},
   "outputs": [],
   "source": [
    "arcpy.management.MinimumBoundingGeometry(\n",
    "    outageReports,\n",
    "    outageArea,\n",
    "    \"CONVEX_HULL\"\n",
    ")\n",
    "print(\"Outage boundary created.\")"
   ]
  },
  {
   "cell_type": "markdown",
   "metadata": {},
   "source": [
    "## Identify affected service areas"
   ]
  },
  {
   "cell_type": "code",
   "execution_count": null,
   "metadata": {},
   "outputs": [],
   "source": [
    "joinOutput = r\"memory\\joinOutput\"\n",
    "arcpy.SpatialJoin_analysis(serviceAreas, outageReports, joinOutput)\n",
    "\n",
    "# Search join output\n",
    "sFields = ['Join_Count', 'ServiceArea']\n",
    "print(\"Affected service areas\")\n",
    "exp = \"\"\"Join_Count > 0\"\"\"\n",
    "with arcpy.da.SearchCursor(joinOutput, sFields, exp) as sCursor:\n",
    "    for row in sCursor:\n",
    "        print(\"Service Area: {}: {} outages\".format(row[1],row[0]))\n",
    "\n",
    "arcpy.management.Delete(joinOutput)\n",
    "print(\"\\nAnalysis Complete\")"
   ]
  },
  {
   "cell_type": "code",
   "execution_count": null,
   "metadata": {},
   "outputs": [],
   "source": []
  }
 ],
 "metadata": {
  "kernelspec": {
   "display_name": "ArcGISPro",
   "language": "Python",
   "name": "python3"
  },
  "language_info": {
   "file_extension": ".py",
   "name": "python",
   "version": "3"
  }
 },
 "nbformat": 4,
 "nbformat_minor": 2
}
